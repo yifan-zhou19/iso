{
  "nbformat": 4,
  "nbformat_minor": 0,
  "metadata": {
    "colab": {
      "name": "iso_embedding_ast.ipynb",
      "provenance": [],
      "authorship_tag": "ABX9TyPcwQW5DxI8aJV6rOJsxRAy",
      "include_colab_link": true
    },
    "kernelspec": {
      "name": "python3",
      "display_name": "Python 3"
    }
  },
  "cells": [
    {
      "cell_type": "markdown",
      "metadata": {
        "id": "view-in-github",
        "colab_type": "text"
      },
      "source": [
        "<a href=\"https://colab.research.google.com/github/yifan-zhou19/iso/blob/master/iso_embedding_ast.ipynb\" target=\"_parent\"><img src=\"https://colab.research.google.com/assets/colab-badge.svg\" alt=\"Open In Colab\"/></a>"
      ]
    },
    {
      "cell_type": "code",
      "metadata": {
        "id": "xmjJ-_LNmrdi",
        "colab_type": "code",
        "colab": {}
      },
      "source": [
        "from os.path import exists\n",
        "\n",
        "if not exists('astcfg.zip'):\n",
        "    !wget -O astcfg.zip https://raw.githubusercontent.com/yifan-zhou19/iso/master/AST_CFG.zip\n",
        "    !unzip astcfg.zip"
      ],
      "execution_count": 0,
      "outputs": []
    },
    {
      "cell_type": "markdown",
      "metadata": {
        "id": "VL1qNbhYnE2w",
        "colab_type": "text"
      },
      "source": [
        "## **AST Embedding**"
      ]
    },
    {
      "cell_type": "code",
      "metadata": {
        "id": "y7P2IEqInEMU",
        "colab_type": "code",
        "colab": {}
      },
      "source": [
        "import os.path\n",
        "import re\n",
        "source_code={78:'CWE78_ast',80:'CWE80_ast',89:'CWE89_ast'}\n",
        "def eachFile(filepath):\n",
        "  pathDir =  os.listdir(filepath)\n",
        "  files = []\n",
        "  for allDir in pathDir:\n",
        "    child = os.path.join('%s/%s' % (filepath, allDir))\n",
        "    \n",
        "    files.append(child)\n",
        "  return files\n",
        "root_dir = './AST_CFG/' # refer root dir\n",
        "files78 = eachFile(root_dir+source_code[78])\n",
        "files80 = eachFile(root_dir+source_code[80])\n",
        "files89 = eachFile(root_dir+source_code[89])\n",
        "files=files78[:700]+files80[:700]+files89[:700]\n",
        "labels=[1]*700+[2]*700+[3]*700"
      ],
      "execution_count": 0,
      "outputs": []
    },
    {
      "cell_type": "code",
      "metadata": {
        "id": "OcXR_6SmnNY5",
        "colab_type": "code",
        "outputId": "2d9274da-4340-4bff-a277-9b7215e24f3b",
        "colab": {
          "base_uri": "https://localhost:8080/",
          "height": 73
        }
      },
      "source": [
        "def extract_ast_edges(file):\n",
        "  results = []\n",
        "  with open(file, \"r\") as f:\n",
        "    for line in f.readlines()[2:]:\n",
        "      #print(line)\n",
        "      result = re.search(r'\\bn(\\w+)(\\s*)-(\\S+)(\\s*)n(\\w+)\\b',line)\n",
        "      if result != None:\n",
        "         results.append((result.group(1),result.group(5)))\n",
        "    return results\n",
        "def extract_source_code(file):\n",
        "  results = []\n",
        "  with open(file, \"r\") as f:\n",
        "    for line in f.readlines()[2:]:\n",
        "      #print(line)\n",
        "      result = re.search(r'\\b(n\\w+)(\\s+\\[label=\")([\\w:\\s\\S]+)\\b',line)\n",
        "      if result != None:\n",
        "         results.append(result.group(3))\n",
        "    return results\n",
        "print(extract_ast_edges(files[1]))\n",
        "print(extract_source_code(files[1]))"
      ],
      "execution_count": 39,
      "outputs": [
        {
          "output_type": "stream",
          "text": [
            "[('1', '2'), ('1', '3'), ('3', '4'), ('3', '5'), ('1', '6'), ('6', '7'), ('6', '8'), ('6', '9'), ('6', '10'), ('10', '11'), ('10', '12'), ('10', '13'), ('10', '14'), ('14', '15'), ('15', '16'), ('15', '17'), ('14', '18'), ('18', '19'), ('18', '20'), ('10', '21'), ('21', '22'), ('22', '23'), ('22', '24'), ('21', '25'), ('21', '26'), ('26', '27'), ('26', '28'), ('26', '29'), ('21', '30'), ('30', '31'), ('30', '32'), ('32', '33'), ('21', '34'), ('34', '35'), ('34', '36'), ('21', '37'), ('37', '38'), ('37', '39'), ('39', '40'), ('37', '41'), ('41', '42'), ('21', '43'), ('43', '44'), ('43', '45'), ('43', '46'), ('21', '47'), ('6', '48'), ('48', '49'), ('48', '50'), ('48', '51'), ('48', '52'), ('52', '53'), ('53', '54'), ('53', '55'), ('52', '56'), ('56', '57'), ('56', '58'), ('48', '59'), ('59', '60'), ('6', '61'), ('61', '62'), ('61', '63'), ('61', '64'), ('61', '65'), ('65', '66'), ('66', '67'), ('66', '68'), ('65', '69'), ('69', '70'), ('69', '71'), ('61', '72'), ('72', '73'), ('73', '74'), ('73', '75'), ('72', '76'), ('72', '77'), ('77', '78'), ('77', '79'), ('72', '80'), ('80', '81'), ('80', '82'), ('82', '83'), ('80', '84'), ('84', '85'), ('72', '86'), ('86', '87'), ('86', '88'), ('86', '89'), ('72', '90'), ('6', '91'), ('91', '92'), ('91', '93'), ('91', '94'), ('91', '95'), ('95', '96'), ('96', '97'), ('96', '98'), ('91', '99'), ('99', '100')]\n",
            "['ROOT: CWE78_OS_Command_Injection__getCookies_Servlet_01.java', 'PACKAGE: testcases.CWE78_OS_Command_Injection', 'IMPORTS', 'IMPORT: testcasesupport', 'IMPORT: javax.servlet.http', 'CLASS', 'MODIFIER: public', 'NAME: CWE78_OS_Command_Injection__getCookies_Servlet_01', 'EXTENDS: AbstractTestCaseServlet', 'METHOD', 'MODIFIER: public', 'RETURN: void', 'NAME: bad', 'PARAMS', 'VAR', 'TYPE: HttpServletRequest', 'NAME: request', 'VAR', 'TYPE: HttpServletResponse', 'NAME: response', 'BLOCK', 'VAR', 'TYPE: String', 'NAME: data', '30:  data', 'VAR', 'TYPE: Cookie', 'NAME: cookieSources', 'INIT: = request.getCookies', 'IF', 'COND: cookieSources != null', 'THEN', '38:  data = cookieSources[0].getValue', 'VAR', 'TYPE: String', 'NAME: osCommand', 'IF', \"COND: System.getProperty('os.name').toLowerCase().indexOf('win') >= 0\", 'THEN', \"46:  osCommand = 'c:\\\\\\\\\\\\\\\\WINDOWS\\\\\\\\\\\\\\\\SYSTEM32\\\\\\\\\\\\\\\\cmd.exe /c dir\", 'ELSE', \"51:  osCommand = '/bin/ls\", 'VAR', 'TYPE: Process', 'NAME: process', 'INIT: = Runtime.getRuntime().exec(osCommand + data', '56:  process.waitFor', 'METHOD', 'MODIFIER: public', 'RETURN: void', 'NAME: good', 'PARAMS', 'VAR', 'TYPE: HttpServletRequest', 'NAME: request', 'VAR', 'TYPE: HttpServletResponse', 'NAME: response', 'BLOCK', '62:  goodG2B(request, response', 'METHOD', 'MODIFIER: private', 'RETURN: void', 'NAME: goodG2B', 'PARAMS', 'VAR', 'TYPE: HttpServletRequest', 'NAME: request', 'VAR', 'TYPE: HttpServletResponse', 'NAME: response', 'BLOCK', 'VAR', 'TYPE: String', 'NAME: data', \"71:  data = 'foo\", 'VAR', 'TYPE: String', 'NAME: osCommand', 'IF', \"COND: System.getProperty('os.name').toLowerCase().indexOf('win') >= 0\", 'THEN', \"77:  osCommand = 'c:\\\\\\\\\\\\\\\\WINDOWS\\\\\\\\\\\\\\\\SYSTEM32\\\\\\\\\\\\\\\\cmd.exe /c dir\", 'ELSE', \"82:  osCommand = '/bin/ls\", 'VAR', 'TYPE: Process', 'NAME: process', 'INIT: = Runtime.getRuntime().exec(osCommand + data', '87:  process.waitFor', 'METHOD', 'MODIFIER: public static', 'RETURN: void', 'NAME: main', 'PARAMS', 'VAR', 'TYPE: String', 'NAME: args', 'BLOCK', '99:  mainFromParent(args']\n"
          ],
          "name": "stdout"
        }
      ]
    },
    {
      "cell_type": "code",
      "metadata": {
        "id": "HjY0xGf-o07a",
        "colab_type": "code",
        "outputId": "37a4175f-8376-48b5-96af-0fc3f0182fa4",
        "colab": {
          "base_uri": "https://localhost:8080/",
          "height": 127
        }
      },
      "source": [
        "re_punctuation_string = '[()\\s,/.\\'_:]'\n",
        "remove_token=['',' ',',',':','\\n',';']\n",
        "\n",
        "programs=[]\n",
        "edges=[]\n",
        "vocabulary = []\n",
        "for f in files:\n",
        "  lines = extract_source_code(f)\n",
        "  edge_list= extract_ast_edges(f)\n",
        "  edges.append(edge_list)\n",
        "  program=[]\n",
        "  for line in lines:\n",
        "    statement=[token for token in re.split(re_punctuation_string,line)if token not in remove_token]\n",
        "    program.append(statement)\n",
        "  programs.append(program[2:])\n",
        "  for s in program[2:]:\n",
        "        for t in s:\n",
        "           if t not in vocabulary:\n",
        "             vocabulary.append(t) \n",
        "print(programs[1])\n",
        "print(edges[0])\n",
        "print(len(programs))\n",
        "print(len(edges))\n",
        "print(len(vocabulary))"
      ],
      "execution_count": 40,
      "outputs": [
        {
          "output_type": "stream",
          "text": [
            "[['IMPORTS'], ['IMPORT', 'testcasesupport'], ['IMPORT', 'javax', 'servlet', 'http'], ['CLASS'], ['MODIFIER', 'public'], ['NAME', 'CWE78', 'OS', 'Command', 'Injection', 'getCookies', 'Servlet', '01'], ['EXTENDS', 'AbstractTestCaseServlet'], ['METHOD'], ['MODIFIER', 'public'], ['RETURN', 'void'], ['NAME', 'bad'], ['PARAMS'], ['VAR'], ['TYPE', 'HttpServletRequest'], ['NAME', 'request'], ['VAR'], ['TYPE', 'HttpServletResponse'], ['NAME', 'response'], ['BLOCK'], ['VAR'], ['TYPE', 'String'], ['NAME', 'data'], ['30', 'data'], ['VAR'], ['TYPE', 'Cookie'], ['NAME', 'cookieSources'], ['INIT', '=', 'request', 'getCookies'], ['IF'], ['COND', 'cookieSources', '!=', 'null'], ['THEN'], ['38', 'data', '=', 'cookieSources[0]', 'getValue'], ['VAR'], ['TYPE', 'String'], ['NAME', 'osCommand'], ['IF'], ['COND', 'System', 'getProperty', 'os', 'name', 'toLowerCase', 'indexOf', 'win', '>=', '0'], ['THEN'], ['46', 'osCommand', '=', 'c', '\\\\\\\\\\\\\\\\WINDOWS\\\\\\\\\\\\\\\\SYSTEM32\\\\\\\\\\\\\\\\cmd', 'exe', 'c', 'dir'], ['ELSE'], ['51', 'osCommand', '=', 'bin', 'ls'], ['VAR'], ['TYPE', 'Process'], ['NAME', 'process'], ['INIT', '=', 'Runtime', 'getRuntime', 'exec', 'osCommand', '+', 'data'], ['56', 'process', 'waitFor'], ['METHOD'], ['MODIFIER', 'public'], ['RETURN', 'void'], ['NAME', 'good'], ['PARAMS'], ['VAR'], ['TYPE', 'HttpServletRequest'], ['NAME', 'request'], ['VAR'], ['TYPE', 'HttpServletResponse'], ['NAME', 'response'], ['BLOCK'], ['62', 'goodG2B', 'request', 'response'], ['METHOD'], ['MODIFIER', 'private'], ['RETURN', 'void'], ['NAME', 'goodG2B'], ['PARAMS'], ['VAR'], ['TYPE', 'HttpServletRequest'], ['NAME', 'request'], ['VAR'], ['TYPE', 'HttpServletResponse'], ['NAME', 'response'], ['BLOCK'], ['VAR'], ['TYPE', 'String'], ['NAME', 'data'], ['71', 'data', '=', 'foo'], ['VAR'], ['TYPE', 'String'], ['NAME', 'osCommand'], ['IF'], ['COND', 'System', 'getProperty', 'os', 'name', 'toLowerCase', 'indexOf', 'win', '>=', '0'], ['THEN'], ['77', 'osCommand', '=', 'c', '\\\\\\\\\\\\\\\\WINDOWS\\\\\\\\\\\\\\\\SYSTEM32\\\\\\\\\\\\\\\\cmd', 'exe', 'c', 'dir'], ['ELSE'], ['82', 'osCommand', '=', 'bin', 'ls'], ['VAR'], ['TYPE', 'Process'], ['NAME', 'process'], ['INIT', '=', 'Runtime', 'getRuntime', 'exec', 'osCommand', '+', 'data'], ['87', 'process', 'waitFor'], ['METHOD'], ['MODIFIER', 'public', 'static'], ['RETURN', 'void'], ['NAME', 'main'], ['PARAMS'], ['VAR'], ['TYPE', 'String'], ['NAME', 'args'], ['BLOCK'], ['99', 'mainFromParent', 'args']]\n",
            "[('1', '2'), ('1', '3'), ('3', '4'), ('3', '5'), ('3', '6'), ('3', '7'), ('3', '8'), ('3', '9'), ('3', '10'), ('3', '11'), ('1', '12'), ('12', '13'), ('12', '14'), ('12', '15'), ('12', '16'), ('16', '17'), ('16', '18'), ('16', '19'), ('16', '20'), ('20', '21'), ('21', '22'), ('21', '23'), ('20', '24'), ('20', '25'), ('25', '26'), ('25', '27'), ('25', '28'), ('20', '29'), ('29', '30'), ('29', '31'), ('29', '32'), ('20', '33'), ('33', '34'), ('33', '35'), ('33', '36'), ('20', '37'), ('37', '38'), ('37', '39'), ('37', '40'), ('20', '41'), ('41', '42'), ('42', '43'), ('42', '44'), ('42', '45'), ('42', '46'), ('42', '47'), ('41', '48'), ('48', '49'), ('48', '50'), ('48', '51'), ('51', '52'), ('41', '53'), ('53', '54'), ('54', '55'), ('55', '56'), ('56', '57'), ('56', '58'), ('58', '59'), ('54', '60'), ('60', '61'), ('60', '62'), ('60', '63'), ('63', '64'), ('53', '65'), ('65', '66'), ('66', '67'), ('67', '68'), ('67', '69'), ('69', '70'), ('65', '71'), ('71', '72'), ('71', '73'), ('71', '74'), ('74', '75'), ('53', '76'), ('76', '77'), ('77', '78'), ('78', '79'), ('78', '80'), ('80', '81'), ('76', '82'), ('82', '83'), ('82', '84'), ('82', '85'), ('85', '86'), ('53', '87'), ('87', '88'), ('88', '89'), ('89', '90'), ('89', '91'), ('91', '92'), ('87', '93'), ('93', '94'), ('93', '95'), ('93', '96'), ('96', '97'), ('20', '98'), ('12', '99'), ('99', '100'), ('99', '101'), ('99', '102'), ('99', '103'), ('103', '104'), ('104', '105'), ('104', '106'), ('104', '107'), ('103', '108'), ('108', '109'), ('108', '110'), ('103', '111'), ('111', '112'), ('111', '113'), ('113', '114'), ('111', '115'), ('115', '116'), ('103', '117'), ('117', '118'), ('117', '119'), ('117', '120'), ('103', '121'), ('12', '122'), ('122', '123'), ('122', '124'), ('122', '125'), ('122', '126'), ('126', '127'), ('127', '128'), ('127', '129'), ('126', '130'), ('126', '131'), ('12', '132'), ('132', '133'), ('132', '134'), ('132', '135'), ('132', '136'), ('136', '137'), ('137', '138'), ('137', '139'), ('137', '140'), ('136', '141'), ('141', '142'), ('141', '143'), ('136', '144'), ('144', '145'), ('144', '146'), ('146', '147'), ('144', '148'), ('148', '149'), ('136', '150'), ('150', '151'), ('150', '152'), ('150', '153'), ('136', '154'), ('12', '155'), ('155', '156'), ('155', '157'), ('155', '158'), ('155', '159'), ('159', '160'), ('12', '161'), ('161', '162'), ('161', '163'), ('161', '164'), ('161', '165'), ('165', '166'), ('166', '167'), ('166', '168'), ('161', '169'), ('169', '170')]\n",
            "2100\n",
            "2100\n",
            "1639\n"
          ],
          "name": "stdout"
        }
      ]
    },
    {
      "cell_type": "code",
      "metadata": {
        "id": "MFwzkd_IpFcM",
        "colab_type": "code",
        "outputId": "102a7da8-4b4e-4334-bdb4-9ac7eeb8e18a",
        "colab": {
          "base_uri": "https://localhost:8080/",
          "height": 73
        }
      },
      "source": [
        "# shuffle data\n",
        "import random\n",
        "randnum = random.randint(0,100)\n",
        "random.seed(randnum)\n",
        "random.shuffle(programs)\n",
        "\n",
        "random.seed(randnum)\n",
        "random.shuffle(labels)\n",
        "\n",
        "random.seed(randnum)\n",
        "random.shuffle(edges)\n",
        "\n",
        "training_data = []\n",
        "for i in range(1600):\n",
        "  #training_data.append((programs[i],edges[i],labels[i]))\n",
        "  training_data.append((programs[i],labels[i]))\n",
        "print(training_data[0])\n",
        "eval_data=[]\n",
        "for i in range(1600,2100):\n",
        "  #eval_data.append((programs[i],edges[i],labels[i]))\n",
        "  eval_data.append((programs[i],labels[i]))\n",
        "print(eval_data[0])"
      ],
      "execution_count": 41,
      "outputs": [
        {
          "output_type": "stream",
          "text": [
            "([['IMPORTS'], ['IMPORT', 'testcasesupport'], ['IMPORT', 'javax', 'servlet', 'http'], ['CLASS'], ['MODIFIER', 'public'], ['NAME', 'CWE89', 'SQL', 'Injection', 'Environment', 'executeBatch', '52b'], ['METHOD'], ['MODIFIER', 'public'], ['RETURN', 'void'], ['NAME', 'badSink'], ['PARAMS'], ['VAR'], ['TYPE', 'String'], ['NAME', 'data'], ['BLOCK'], ['27', 'new', 'CWE89', 'SQL', 'Injection', 'Environment', 'executeBatch', '52c', 'badSink', 'data'], ['METHOD'], ['MODIFIER', 'public'], ['RETURN', 'void'], ['NAME', 'goodG2BSink'], ['PARAMS'], ['VAR'], ['TYPE', 'String'], ['NAME', 'data'], ['BLOCK'], ['33', 'new', 'CWE89', 'SQL', 'Injection', 'Environment', 'executeBatch', '52c', 'goodG2BSink', 'data'], ['METHOD'], ['MODIFIER', 'public'], ['RETURN', 'void'], ['NAME', 'goodB2GSink'], ['PARAMS'], ['VAR'], ['TYPE', 'String'], ['NAME', 'data'], ['BLOCK'], ['39', 'new', 'CWE89', 'SQL', 'Injection', 'Environment', 'executeBatch', '52c', 'goodB2GSink', 'data']], 3)\n",
            "([['IMPORTS'], ['IMPORT', 'testcasesupport'], ['IMPORT', 'javax', 'servlet', 'http'], ['CLASS'], ['MODIFIER', 'public'], ['NAME', 'CWE80', 'XSS', 'CWE182', 'Servlet', 'getCookies', 'Servlet', '68a'], ['EXTENDS', 'AbstractTestCaseServlet'], ['FIELD'], ['MODIFIER', 'public', 'static'], ['TYPE', 'String'], ['NAME', 'data'], ['METHOD'], ['MODIFIER', 'public'], ['RETURN', 'void'], ['NAME', 'bad'], ['PARAMS'], ['VAR'], ['TYPE', 'HttpServletRequest'], ['NAME', 'request'], ['VAR'], ['TYPE', 'HttpServletResponse'], ['NAME', 'response'], ['BLOCK'], ['29', 'data'], ['VAR'], ['TYPE', 'Cookie'], ['NAME', 'cookieSources'], ['INIT', '=', 'request', 'getCookies'], ['IF'], ['COND', 'cookieSources', '!=', 'null'], ['THEN'], ['37', 'data', '=', 'cookieSources[0]', 'getValue'], ['41', 'new', 'CWE80', 'XSS', 'CWE182', 'Servlet', 'getCookies', 'Servlet', '68b', 'badSink', 'request', 'response'], ['METHOD'], ['MODIFIER', 'public'], ['RETURN', 'void'], ['NAME', 'good'], ['PARAMS'], ['VAR'], ['TYPE', 'HttpServletRequest'], ['NAME', 'request'], ['VAR'], ['TYPE', 'HttpServletResponse'], ['NAME', 'response'], ['BLOCK'], ['46', 'goodG2B', 'request', 'response'], ['METHOD'], ['MODIFIER', 'private'], ['RETURN', 'void'], ['NAME', 'goodG2B'], ['PARAMS'], ['VAR'], ['TYPE', 'HttpServletRequest'], ['NAME', 'request'], ['VAR'], ['TYPE', 'HttpServletResponse'], ['NAME', 'response'], ['BLOCK'], ['54', 'data', '=', 'foo'], ['56', 'new', 'CWE80', 'XSS', 'CWE182', 'Servlet', 'getCookies', 'Servlet', '68b', 'goodG2BSink', 'request', 'response'], ['METHOD'], ['MODIFIER', 'public', 'static'], ['RETURN', 'void'], ['NAME', 'main'], ['PARAMS'], ['VAR'], ['TYPE', 'String'], ['NAME', 'args'], ['BLOCK'], ['67', 'mainFromParent', 'args']], 2)\n"
          ],
          "name": "stdout"
        }
      ]
    },
    {
      "cell_type": "code",
      "metadata": {
        "id": "g89CvmCu5w5F",
        "colab_type": "code",
        "outputId": "80762f1a-af11-4830-90db-62391d2c147d",
        "colab": {
          "base_uri": "https://localhost:8080/",
          "height": 35
        }
      },
      "source": [
        "import torch\n",
        "import torch.nn as nn\n",
        "import torch.nn.functional as F\n",
        "import torch.optim as optim\n",
        "#look up table  \n",
        "#using one-hot embedding\n",
        "vocabulary_size = len(vocabulary)\n",
        "def look_up_table(word_idx):\n",
        "  x = torch.zeros(vocabulary_size).long()\n",
        "  x[word_idx] = 1.0\n",
        "  return x\n",
        "word2idx = {w: idx +1 for (idx, w) in enumerate(vocabulary)}\n",
        "idx2word = {idx+1: w for (idx, w) in enumerate(vocabulary)}\n",
        "print(look_up_table(word2idx['!=']))"
      ],
      "execution_count": 42,
      "outputs": [
        {
          "output_type": "stream",
          "text": [
            "tensor([0, 0, 0,  ..., 0, 0, 0])\n"
          ],
          "name": "stdout"
        }
      ]
    },
    {
      "cell_type": "code",
      "metadata": {
        "id": "XC3vZVKwx4Ix",
        "colab_type": "code",
        "outputId": "3dc33746-3b2d-4097-ed07-e897815bebbf",
        "colab": {
          "base_uri": "https://localhost:8080/",
          "height": 1000
        }
      },
      "source": [
        "\n",
        "context_size = 100\n",
        "\n",
        "def get_childs(id,edge):\n",
        "  #print(edge)\n",
        "  #print(id)\n",
        "  childs=[]\n",
        "  for (str_id,str_child) in edge:\n",
        "    str2int_id= int(str_id)-3\n",
        "    str2int_child = int(str_child)-3\n",
        "    if id == str2int_id:\n",
        "      if str2int_child<context_size:\n",
        "        childs.append(str2int_child)\n",
        "  return childs\n",
        "\n",
        "alpha= 0.5\n",
        "def ast_mordified(contexts,id,program,edge):\n",
        "  childs = get_childs(id,edge) #[0,1,2,..]\n",
        "  \n",
        "  contexts_childs =torch.zeros(1).long()\n",
        "  for child in childs:\n",
        "    p = program[child]\n",
        "    num = 0\n",
        "    contexts_child =torch.zeros(1).long()\n",
        "    for t in p:\n",
        "      contexts_child=contexts_child+word2idx[t]\n",
        "      num=num+1\n",
        "    contexts_childs=contexts_childs+ (contexts_child/num)\n",
        "  if len(childs)>0:\n",
        "    result=contexts+((contexts_childs)/len(childs))*alpha\n",
        "  else:\n",
        "    result = contexts\n",
        "  return result\n",
        "\n",
        "\n",
        "\n",
        "def get_ast_context(program,edge):\n",
        "  id = 0\n",
        "  contexts =torch.zeros(context_size,1).long()\n",
        "\n",
        "  for p in program:\n",
        "    if id < context_size:\n",
        "      num = 0\n",
        "      for t in p:\n",
        "        contexts[id]=contexts[id]+word2idx[t]\n",
        "        num = num + 1\n",
        "      contexts[id] = contexts[id]/num # average\n",
        "      contexts[id] = ast_mordified(contexts[id],id,program,edge)\n",
        "    id = id + 1\n",
        "  return contexts\n",
        "def get_source_context(program):\n",
        "  id = 0\n",
        "  contexts =torch.zeros(context_size,1).long()\n",
        "\n",
        "  for p in program:\n",
        "    if id < context_size:\n",
        "      num = 0\n",
        "      for t in p:\n",
        "        contexts[id]=contexts[id]+word2idx[t]\n",
        "        num = num + 1\n",
        "      contexts[id] = contexts[id]/num # average\n",
        "    id = id + 1\n",
        "  return contexts\n",
        "\n",
        "print(get_source_context(programs[0]))"
      ],
      "execution_count": 62,
      "outputs": [
        {
          "output_type": "stream",
          "text": [
            "tensor([[  1],\n",
            "        [  2],\n",
            "        [  4],\n",
            "        [ 18],\n",
            "        [ 19],\n",
            "        [584],\n",
            "        [ 31],\n",
            "        [ 19],\n",
            "        [ 60],\n",
            "        [122],\n",
            "        [129],\n",
            "        [ 37],\n",
            "        [ 36],\n",
            "        [ 30],\n",
            "        [ 36],\n",
            "        [460],\n",
            "        [ 31],\n",
            "        [ 19],\n",
            "        [ 60],\n",
            "        [124],\n",
            "        [129],\n",
            "        [ 37],\n",
            "        [ 36],\n",
            "        [ 30],\n",
            "        [ 36],\n",
            "        [461],\n",
            "        [ 31],\n",
            "        [ 19],\n",
            "        [ 60],\n",
            "        [777],\n",
            "        [129],\n",
            "        [ 37],\n",
            "        [ 36],\n",
            "        [ 30],\n",
            "        [ 36],\n",
            "        [596],\n",
            "        [  0],\n",
            "        [  0],\n",
            "        [  0],\n",
            "        [  0],\n",
            "        [  0],\n",
            "        [  0],\n",
            "        [  0],\n",
            "        [  0],\n",
            "        [  0],\n",
            "        [  0],\n",
            "        [  0],\n",
            "        [  0],\n",
            "        [  0],\n",
            "        [  0],\n",
            "        [  0],\n",
            "        [  0],\n",
            "        [  0],\n",
            "        [  0],\n",
            "        [  0],\n",
            "        [  0],\n",
            "        [  0],\n",
            "        [  0],\n",
            "        [  0],\n",
            "        [  0],\n",
            "        [  0],\n",
            "        [  0],\n",
            "        [  0],\n",
            "        [  0],\n",
            "        [  0],\n",
            "        [  0],\n",
            "        [  0],\n",
            "        [  0],\n",
            "        [  0],\n",
            "        [  0],\n",
            "        [  0],\n",
            "        [  0],\n",
            "        [  0],\n",
            "        [  0],\n",
            "        [  0],\n",
            "        [  0],\n",
            "        [  0],\n",
            "        [  0],\n",
            "        [  0],\n",
            "        [  0],\n",
            "        [  0],\n",
            "        [  0],\n",
            "        [  0],\n",
            "        [  0],\n",
            "        [  0],\n",
            "        [  0],\n",
            "        [  0],\n",
            "        [  0],\n",
            "        [  0],\n",
            "        [  0],\n",
            "        [  0],\n",
            "        [  0],\n",
            "        [  0],\n",
            "        [  0],\n",
            "        [  0],\n",
            "        [  0],\n",
            "        [  0],\n",
            "        [  0],\n",
            "        [  0],\n",
            "        [  0]])\n"
          ],
          "name": "stdout"
        }
      ]
    },
    {
      "cell_type": "code",
      "metadata": {
        "id": "zvKoRsTFyWFi",
        "colab_type": "code",
        "colab": {}
      },
      "source": [
        "\n",
        "torch.manual_seed(1)\n",
        "embedding_dim =5\n",
        "\n",
        "class FFNN(nn.Module):\n",
        "  def __init__(self, vocab_size, embedding_dim):\n",
        "    super(FFNN, self).__init__()\n",
        "    self.embeddings = nn.Embedding(vocab_size, embedding_dim)\n",
        "    self.linear1 = nn.Linear(embedding_dim*context_size,3)\n",
        "  def forward(self, inputs):\n",
        "    #print(inputs.size())\n",
        "    embeds = self.embeddings(inputs.view(-1))\n",
        "    #print(embeds)\n",
        "    out = F.relu(self.linear1(embeds.view(-1)))\n",
        "    out = F.softmax(out,dim=0)\n",
        "    return out\n",
        "\n"
      ],
      "execution_count": 0,
      "outputs": []
    },
    {
      "cell_type": "code",
      "metadata": {
        "id": "3gbcB6bTyYeA",
        "colab_type": "code",
        "outputId": "8afc661a-b60d-44cf-b0c2-b9e4c45f19cf",
        "colab": {
          "base_uri": "https://localhost:8080/",
          "height": 215
        }
      },
      "source": [
        "\n",
        "loss_function = nn.BCELoss()  \n",
        "model_ast = FFNN(vocabulary_size*2, embedding_dim)\n",
        "optimizer_ffnn = optim.Adam(model_ast.parameters(), lr=0.001)\n",
        "params = sum(p.numel() for p in model_ast.parameters() if p.requires_grad)\n",
        "print(\"Total number of parameters for FFNN is: {}\".format(params))\n",
        "\n",
        "loss_ffnn=[]\n",
        "for epoch in range(10):\n",
        "  losses = 0\n",
        "  pid=0\n",
        "  #for program,edge,label in training_data:\n",
        "  for program,label in training_data:  \n",
        "    if label ==1:\n",
        "      out_labels = torch.FloatTensor([1,0,0])\n",
        "    elif label == 2:\n",
        "      out_labels  = torch.FloatTensor([0,1,0])\n",
        "    elif label == 3:\n",
        "      out_labels  = torch.FloatTensor([0,0,1])\n",
        "\n",
        "    context_idx = get_ast_context(program,edges[pid])\n",
        "    pid = pid +1\n",
        "    #context_idx = get_source_context(program)\n",
        "    model_ast.zero_grad()\n",
        "    #print(context_idx.size())\n",
        "    out = model_ast(context_idx)\n",
        "    #print(out.size())\n",
        "    #print(f'Out {out},lables{out_labels}')\n",
        "    #print(out_labels)\n",
        "    loss = loss_function(out, out_labels)\n",
        "    #print(f'Loss {loss.item()}')\n",
        "    loss.backward()\n",
        "    optimizer_ffnn.step()\n",
        "    #print(f'Loss {loss.item()}')\n",
        "    losses +=loss.item()\n",
        "  print(f'Loss at epo {epoch}: {losses/len(training_data)}')\n",
        "  loss_ffnn.append(losses/len(training_data))"
      ],
      "execution_count": 64,
      "outputs": [
        {
          "output_type": "stream",
          "text": [
            "Total number of parameters for FFNN is: 17893\n",
            "Loss at epo 0: 0.3434656951712532\n",
            "Loss at epo 1: 0.14382246189130454\n",
            "Loss at epo 2: 0.09942753168340118\n",
            "Loss at epo 3: 0.08041423795701476\n",
            "Loss at epo 4: 0.06763117849235346\n",
            "Loss at epo 5: 0.05938735683679822\n",
            "Loss at epo 6: 0.05176512757000468\n",
            "Loss at epo 7: 0.04733782216478966\n",
            "Loss at epo 8: 0.04619986878986502\n",
            "Loss at epo 9: 0.04186711548512701\n"
          ],
          "name": "stdout"
        }
      ]
    },
    {
      "cell_type": "code",
      "metadata": {
        "id": "ca41ySLQyeTC",
        "colab_type": "code",
        "outputId": "37ad2d46-80ec-4dd6-dde6-f1db05956ae1",
        "colab": {
          "base_uri": "https://localhost:8080/",
          "height": 35
        }
      },
      "source": [
        "with torch.no_grad():\n",
        "  accu=0\n",
        "  pid=1600\n",
        "  for program, label in eval_data:\n",
        "    context_idx = get_ast_context(program,edges[pid])\n",
        "    pid = pid+1\n",
        "    model_ast.zero_grad()\n",
        "    out = model_ast(context_idx)\n",
        "    #print(f'{out}:{label}')\n",
        "    if(out[0]>(1/3)):\n",
        "      if(label == 1):\n",
        "        accu = accu +1\n",
        "    elif(out[1]>(1/3)):\n",
        "      if(label == 2):\n",
        "        accu = accu +1\n",
        "    elif(out[2]>(1/3)):\n",
        "      if(label == 3):\n",
        "        accu = accu +1\n",
        "\n",
        "  print(f'Accuracy_source_code: {accu/(len(eval_data))}') \n",
        "#  print(f'Precision_ffnn: {pre}')\n",
        "#  print(f'Recall_ffnn: {re}')\n",
        "#  print(f'F1_ffnn: {2*(pre*re/(pre+re))}') "
      ],
      "execution_count": 66,
      "outputs": [
        {
          "output_type": "stream",
          "text": [
            "Accuracy_source_code: 0.898\n"
          ],
          "name": "stdout"
        }
      ]
    }
  ]
}