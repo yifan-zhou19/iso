{
  "nbformat": 4,
  "nbformat_minor": 0,
  "metadata": {
    "colab": {
      "name": "iso_embedding_(ast_sourcecode_cfg 3classes).ipynb",
      "provenance": [],
      "authorship_tag": "ABX9TyNok736S87lOLxCWa6p6SyS",
      "include_colab_link": true
    },
    "kernelspec": {
      "name": "python3",
      "display_name": "Python 3"
    }
  },
  "cells": [
    {
      "cell_type": "markdown",
      "metadata": {
        "id": "view-in-github",
        "colab_type": "text"
      },
      "source": [
        "<a href=\"https://colab.research.google.com/github/yifan-zhou19/iso/blob/master/iso_embedding_(ast_sourcecode_cfg_3classes).ipynb\" target=\"_parent\"><img src=\"https://colab.research.google.com/assets/colab-badge.svg\" alt=\"Open In Colab\"/></a>"
      ]
    },
    {
      "cell_type": "code",
      "metadata": {
        "id": "xmjJ-_LNmrdi",
        "colab_type": "code",
        "colab": {}
      },
      "source": [
        "from os.path import exists\n",
        "\n",
        "if not exists('astcfg.zip'):\n",
        "    !wget -O astcfg.zip https://raw.githubusercontent.com/yifan-zhou19/iso/master/AST_CFG.zip\n",
        "    !unzip astcfg.zip"
      ],
      "execution_count": 0,
      "outputs": []
    },
    {
      "cell_type": "markdown",
      "metadata": {
        "id": "VL1qNbhYnE2w",
        "colab_type": "text"
      },
      "source": [
        "## **AST Embedding**"
      ]
    },
    {
      "cell_type": "code",
      "metadata": {
        "id": "y7P2IEqInEMU",
        "colab_type": "code",
        "colab": {}
      },
      "source": [
        "import os.path\n",
        "import re\n",
        "source_code={78:'CWE78_ast',80:'CWE80_ast',89:'CWE89_ast'}\n",
        "def eachFile(filepath):\n",
        "  pathDir =  os.listdir(filepath)\n",
        "  files = []\n",
        "  for allDir in pathDir:\n",
        "    child = os.path.join('%s/%s' % (filepath, allDir))\n",
        "    \n",
        "    files.append(child)\n",
        "  return files\n",
        "root_dir = './AST_CFG/' # refer root dir\n",
        "files78 = eachFile(root_dir+source_code[78])\n",
        "files80 = eachFile(root_dir+source_code[80])\n",
        "files89 = eachFile(root_dir+source_code[89])\n",
        "files=files78[:700]+files80[:700]+files89[:700]\n",
        "labels=[1]*700+[2]*700+[3]*700"
      ],
      "execution_count": 0,
      "outputs": []
    },
    {
      "cell_type": "code",
      "metadata": {
        "id": "OcXR_6SmnNY5",
        "colab_type": "code",
        "outputId": "9f1ae5c0-f2f1-4611-bd39-5929af43de98",
        "colab": {
          "base_uri": "https://localhost:8080/",
          "height": 73
        }
      },
      "source": [
        "def extract_ast_edges(file):\n",
        "  results = []\n",
        "  with open(file, \"r\") as f:\n",
        "    for line in f.readlines()[2:]:\n",
        "      #print(line)\n",
        "      result = re.search(r'\\bn(\\w+)(\\s*)-(\\S+)(\\s*)n(\\w+)\\b',line)\n",
        "      if result != None:\n",
        "         results.append((result.group(1),result.group(5)))\n",
        "    return results\n",
        "def extract_source_code(file):\n",
        "  results = []\n",
        "  with open(file, \"r\") as f:\n",
        "    for line in f.readlines()[2:]:\n",
        "      #print(line)\n",
        "      result = re.search(r'\\b(n\\w+)(\\s+\\[label=\")([\\w:\\s\\S]+)\\b',line)\n",
        "      if result != None:\n",
        "         results.append(result.group(3))\n",
        "    return results\n",
        "print(extract_ast_edges(files[1]))\n",
        "print(extract_source_code(files[1]))"
      ],
      "execution_count": 4,
      "outputs": [
        {
          "output_type": "stream",
          "text": [
            "[('1', '2'), ('1', '3'), ('3', '4'), ('3', '5'), ('3', '6'), ('3', '7'), ('3', '8'), ('3', '9'), ('3', '10'), ('3', '11'), ('1', '12'), ('12', '13'), ('12', '14'), ('12', '15'), ('12', '16'), ('16', '17'), ('16', '18'), ('16', '19'), ('16', '20'), ('12', '21'), ('21', '22'), ('21', '23'), ('21', '24'), ('21', '25'), ('25', '26'), ('26', '27'), ('26', '28'), ('25', '29'), ('25', '30'), ('25', '31'), ('31', '32'), ('31', '33'), ('25', '34'), ('34', '35'), ('34', '36'), ('36', '37'), ('34', '38'), ('38', '39'), ('25', '40'), ('40', '41'), ('40', '42'), ('40', '43'), ('25', '44'), ('12', '45'), ('45', '46'), ('45', '47'), ('45', '48'), ('45', '49'), ('49', '50'), ('50', '51'), ('50', '52'), ('49', '53'), ('53', '54'), ('53', '55'), ('55', '56'), ('55', '57'), ('57', '58'), ('57', '59'), ('57', '60'), ('55', '61'), ('61', '62'), ('61', '63'), ('61', '64'), ('55', '65'), ('65', '66'), ('65', '67'), ('65', '68'), ('55', '69'), ('69', '70'), ('69', '71'), ('69', '72'), ('55', '73'), ('73', '74'), ('74', '75'), ('74', '76'), ('74', '77'), ('74', '78'), ('73', '79'), ('79', '80'), ('79', '81'), ('79', '82'), ('82', '83'), ('73', '84'), ('84', '85'), ('85', '86'), ('86', '87'), ('87', '88'), ('87', '89'), ('89', '90'), ('85', '91'), ('91', '92'), ('91', '93'), ('91', '94'), ('94', '95'), ('84', '96'), ('96', '97'), ('97', '98'), ('98', '99'), ('98', '100'), ('100', '101'), ('96', '102'), ('102', '103'), ('102', '104'), ('102', '105'), ('105', '106'), ('84', '107'), ('107', '108'), ('108', '109'), ('109', '110'), ('109', '111'), ('111', '112'), ('107', '113'), ('113', '114'), ('113', '115'), ('113', '116'), ('116', '117'), ('53', '118'), ('118', '119'), ('49', '120'), ('12', '121'), ('121', '122'), ('121', '123'), ('121', '124'), ('121', '125'), ('12', '126'), ('126', '127'), ('126', '128'), ('126', '129'), ('126', '130'), ('12', '131'), ('131', '132'), ('131', '133'), ('131', '134'), ('131', '135'), ('135', '136'), ('135', '137'), ('12', '138'), ('138', '139'), ('138', '140'), ('138', '141'), ('138', '142'), ('142', '143'), ('143', '144'), ('143', '145'), ('142', '146'), ('142', '147'), ('142', '148'), ('148', '149'), ('148', '150'), ('142', '151'), ('151', '152'), ('151', '153'), ('153', '154'), ('151', '155'), ('155', '156'), ('142', '157'), ('157', '158'), ('157', '159'), ('157', '160'), ('142', '161'), ('12', '162'), ('162', '163'), ('162', '164'), ('162', '165'), ('162', '166'), ('166', '167'), ('167', '168'), ('167', '169'), ('167', '170'), ('166', '171'), ('171', '172'), ('171', '173'), ('173', '174'), ('171', '175'), ('175', '176'), ('166', '177'), ('12', '178'), ('178', '179'), ('178', '180'), ('178', '181'), ('178', '182'), ('182', '183'), ('183', '184'), ('183', '185'), ('182', '186'), ('182', '187'), ('182', '188'), ('188', '189'), ('188', '190'), ('182', '191'), ('191', '192'), ('191', '193'), ('193', '194'), ('191', '195'), ('195', '196'), ('182', '197'), ('197', '198'), ('197', '199'), ('197', '200'), ('182', '201'), ('12', '202'), ('202', '203'), ('202', '204'), ('202', '205'), ('202', '206'), ('206', '207'), ('207', '208'), ('207', '209'), ('207', '210'), ('206', '211'), ('211', '212'), ('211', '213'), ('213', '214'), ('211', '215'), ('215', '216'), ('206', '217'), ('12', '218'), ('218', '219'), ('218', '220'), ('218', '221'), ('218', '222'), ('222', '223'), ('223', '224'), ('223', '225'), ('218', '226'), ('226', '227')]\n",
            "['ROOT: CWE78_OS_Command_Injection__File_21.java', 'PACKAGE: testcases.CWE78_OS_Command_Injection', 'IMPORTS', 'IMPORT: testcasesupport', 'IMPORT: javax.servlet.http', 'IMPORT: java.io.BufferedReader', 'IMPORT: java.io.InputStreamReader', 'IMPORT: java.io.FileInputStream', 'IMPORT: java.io.File', 'IMPORT: java.io.IOException', 'IMPORT: java.util.logging.Level', 'CLASS', 'MODIFIER: public', 'NAME: CWE78_OS_Command_Injection__File_21', 'EXTENDS: AbstractTestCase', 'FIELD', 'MODIFIER: private', 'TYPE: boolean', 'NAME: badPrivate', 'INIT: = false', 'METHOD', 'MODIFIER: public', 'RETURN: void', 'NAME: bad', 'BLOCK', 'VAR', 'TYPE: String', 'NAME: data', '40:  badPrivate = true', '41:  data = bad_source', 'VAR', 'TYPE: String', 'NAME: osCommand', 'IF', \"COND: System.getProperty('os.name').toLowerCase().indexOf('win') >= 0\", 'THEN', \"47:  osCommand = 'c:\\\\\\\\\\\\\\\\WINDOWS\\\\\\\\\\\\\\\\SYSTEM32\\\\\\\\\\\\\\\\cmd.exe /c dir\", 'ELSE', \"52:  osCommand = '/bin/ls\", 'VAR', 'TYPE: Process', 'NAME: process', 'INIT: = Runtime.getRuntime().exec(osCommand + data', '57:  process.waitFor', 'METHOD', 'MODIFIER: private', 'RETURN: String', 'NAME: bad_source', 'BLOCK', 'VAR', 'TYPE: String', 'NAME: data', 'IF', 'COND: badPrivate', 'THEN', '67:  data', 'VAR', 'TYPE: File', 'NAME: file', \"INIT: = new File('C:\\\\\\\\\\\\\\\\data.txt\", 'VAR', 'TYPE: FileInputStream', 'NAME: streamFileInput', 'INIT: = null', 'VAR', 'TYPE: InputStreamReader', 'NAME: readerInputStream', 'INIT: = null', 'VAR', 'TYPE: BufferedReader', 'NAME: readerBuffered', 'INIT: = null', 'TRY', 'BLOCK', '76:  streamFileInput = new FileInputStream(file', \"77:  readerInputStream = new InputStreamReader(streamFileInput, 'UTF-8\", '78:  readerBuffered = new BufferedReader(readerInputStream', '82:  data = readerBuffered.readLine', 'CATCH', 'TYPE: IOException', 'NAME: exceptIO', 'BLOCK', \"86:  IO.logger.log(Level.WARNING, 'Error with stream reading', exceptIO\", 'FINALLY', 'TRY', 'BLOCK', 'IF', 'COND: readerBuffered != null', 'THEN', '95:  readerBuffered.close', 'CATCH', 'TYPE: IOException', 'NAME: exceptIO', 'BLOCK', \"100:  IO.logger.log(Level.WARNING, 'Error closing BufferedReader', exceptIO\", 'TRY', 'BLOCK', 'IF', 'COND: readerInputStream != null', 'THEN', '107:  readerInputStream.close', 'CATCH', 'TYPE: IOException', 'NAME: exceptIO', 'BLOCK', \"112:  IO.logger.log(Level.WARNING, 'Error closing InputStreamReader', exceptIO\", 'TRY', 'BLOCK', 'IF', 'COND: streamFileInput != null', 'THEN', '119:  streamFileInput.close', 'CATCH', 'TYPE: IOException', 'NAME: exceptIO', 'BLOCK', \"124:  IO.logger.log(Level.WARNING, 'Error closing FileInputStream', exceptIO\", 'ELSE', '133:  data = null', '136:  return data', 'FIELD', 'MODIFIER: private', 'TYPE: boolean', 'NAME: goodG2B1_private', 'INIT: = false', 'FIELD', 'MODIFIER: private', 'TYPE: boolean', 'NAME: goodG2B2_private', 'INIT: = false', 'METHOD', 'MODIFIER: public', 'RETURN: void', 'NAME: good', 'BLOCK', '145:  goodG2B1', '146:  goodG2B2', 'METHOD', 'MODIFIER: private', 'RETURN: void', 'NAME: goodG2B1', 'BLOCK', 'VAR', 'TYPE: String', 'NAME: data', '154:  goodG2B1_private = false', '155:  data = goodG2B1_source', 'VAR', 'TYPE: String', 'NAME: osCommand', 'IF', \"COND: System.getProperty('os.name').toLowerCase().indexOf('win') >= 0\", 'THEN', \"161:  osCommand = 'c:\\\\\\\\\\\\\\\\WINDOWS\\\\\\\\\\\\\\\\SYSTEM32\\\\\\\\\\\\\\\\cmd.exe /c dir\", 'ELSE', \"166:  osCommand = '/bin/ls\", 'VAR', 'TYPE: Process', 'NAME: process', 'INIT: = Runtime.getRuntime().exec(osCommand + data', '171:  process.waitFor', 'METHOD', 'MODIFIER: private', 'RETURN: String', 'NAME: goodG2B1_source', 'BLOCK', 'VAR', 'TYPE: String', 'NAME: data', 'INIT: = null', 'IF', 'COND: goodG2B1_private', 'THEN', '183:  data = null', 'ELSE', \"189:  data = 'foo\", '193:  return data', 'METHOD', 'MODIFIER: private', 'RETURN: void', 'NAME: goodG2B2', 'BLOCK', 'VAR', 'TYPE: String', 'NAME: data', '201:  goodG2B2_private = true', '202:  data = goodG2B2_source', 'VAR', 'TYPE: String', 'NAME: osCommand', 'IF', \"COND: System.getProperty('os.name').toLowerCase().indexOf('win') >= 0\", 'THEN', \"208:  osCommand = 'c:\\\\\\\\\\\\\\\\WINDOWS\\\\\\\\\\\\\\\\SYSTEM32\\\\\\\\\\\\\\\\cmd.exe /c dir\", 'ELSE', \"213:  osCommand = '/bin/ls\", 'VAR', 'TYPE: Process', 'NAME: process', 'INIT: = Runtime.getRuntime().exec(osCommand + data', '218:  process.waitFor', 'METHOD', 'MODIFIER: private', 'RETURN: String', 'NAME: goodG2B2_source', 'BLOCK', 'VAR', 'TYPE: String', 'NAME: data', 'INIT: = null', 'IF', 'COND: goodG2B2_private', 'THEN', \"229:  data = 'foo\", 'ELSE', '235:  data = null', '238:  return data', 'METHOD', 'MODIFIER: public static', 'RETURN: void', 'NAME: main', 'PARAMS', 'VAR', 'TYPE: String', 'NAME: args', 'BLOCK', '249:  mainFromParent(args']\n"
          ],
          "name": "stdout"
        }
      ]
    },
    {
      "cell_type": "code",
      "metadata": {
        "id": "HjY0xGf-o07a",
        "colab_type": "code",
        "outputId": "2c27839a-3342-4fde-d72a-9a914abe9558",
        "colab": {
          "base_uri": "https://localhost:8080/",
          "height": 127
        }
      },
      "source": [
        "re_punctuation_string = '[()\\s,/.\\'_:]'\n",
        "remove_token=['',' ',',',':','\\n',';']\n",
        "\n",
        "programs=[]\n",
        "edges=[]\n",
        "vocabulary = []\n",
        "for f in files:\n",
        "  lines = extract_source_code(f)\n",
        "  edge_list= extract_ast_edges(f)\n",
        "  edges.append(edge_list)\n",
        "  program=[]\n",
        "  for line in lines:\n",
        "    statement=[token for token in re.split(re_punctuation_string,line)if token not in remove_token]\n",
        "    program.append(statement)\n",
        "  programs.append(program[2:])\n",
        "  for s in program[2:]:\n",
        "        for t in s:\n",
        "           if t not in vocabulary:\n",
        "             vocabulary.append(t) \n",
        "print(programs[1])\n",
        "print(edges[0])\n",
        "print(len(programs))\n",
        "print(len(edges))\n",
        "print(len(vocabulary))"
      ],
      "execution_count": 5,
      "outputs": [
        {
          "output_type": "stream",
          "text": [
            "[['IMPORTS'], ['IMPORT', 'testcasesupport'], ['IMPORT', 'javax', 'servlet', 'http'], ['IMPORT', 'java', 'io', 'BufferedReader'], ['IMPORT', 'java', 'io', 'InputStreamReader'], ['IMPORT', 'java', 'io', 'FileInputStream'], ['IMPORT', 'java', 'io', 'File'], ['IMPORT', 'java', 'io', 'IOException'], ['IMPORT', 'java', 'util', 'logging', 'Level'], ['CLASS'], ['MODIFIER', 'public'], ['NAME', 'CWE78', 'OS', 'Command', 'Injection', 'File', '21'], ['EXTENDS', 'AbstractTestCase'], ['FIELD'], ['MODIFIER', 'private'], ['TYPE', 'boolean'], ['NAME', 'badPrivate'], ['INIT', '=', 'false'], ['METHOD'], ['MODIFIER', 'public'], ['RETURN', 'void'], ['NAME', 'bad'], ['BLOCK'], ['VAR'], ['TYPE', 'String'], ['NAME', 'data'], ['40', 'badPrivate', '=', 'true'], ['41', 'data', '=', 'bad', 'source'], ['VAR'], ['TYPE', 'String'], ['NAME', 'osCommand'], ['IF'], ['COND', 'System', 'getProperty', 'os', 'name', 'toLowerCase', 'indexOf', 'win', '>=', '0'], ['THEN'], ['47', 'osCommand', '=', 'c', '\\\\\\\\\\\\\\\\WINDOWS\\\\\\\\\\\\\\\\SYSTEM32\\\\\\\\\\\\\\\\cmd', 'exe', 'c', 'dir'], ['ELSE'], ['52', 'osCommand', '=', 'bin', 'ls'], ['VAR'], ['TYPE', 'Process'], ['NAME', 'process'], ['INIT', '=', 'Runtime', 'getRuntime', 'exec', 'osCommand', '+', 'data'], ['57', 'process', 'waitFor'], ['METHOD'], ['MODIFIER', 'private'], ['RETURN', 'String'], ['NAME', 'bad', 'source'], ['BLOCK'], ['VAR'], ['TYPE', 'String'], ['NAME', 'data'], ['IF'], ['COND', 'badPrivate'], ['THEN'], ['67', 'data'], ['VAR'], ['TYPE', 'File'], ['NAME', 'file'], ['INIT', '=', 'new', 'File', 'C', '\\\\\\\\\\\\\\\\data', 'txt'], ['VAR'], ['TYPE', 'FileInputStream'], ['NAME', 'streamFileInput'], ['INIT', '=', 'null'], ['VAR'], ['TYPE', 'InputStreamReader'], ['NAME', 'readerInputStream'], ['INIT', '=', 'null'], ['VAR'], ['TYPE', 'BufferedReader'], ['NAME', 'readerBuffered'], ['INIT', '=', 'null'], ['TRY'], ['BLOCK'], ['76', 'streamFileInput', '=', 'new', 'FileInputStream', 'file'], ['77', 'readerInputStream', '=', 'new', 'InputStreamReader', 'streamFileInput', 'UTF-8'], ['78', 'readerBuffered', '=', 'new', 'BufferedReader', 'readerInputStream'], ['82', 'data', '=', 'readerBuffered', 'readLine'], ['CATCH'], ['TYPE', 'IOException'], ['NAME', 'exceptIO'], ['BLOCK'], ['86', 'IO', 'logger', 'log', 'Level', 'WARNING', 'Error', 'with', 'stream', 'reading', 'exceptIO'], ['FINALLY'], ['TRY'], ['BLOCK'], ['IF'], ['COND', 'readerBuffered', '!=', 'null'], ['THEN'], ['95', 'readerBuffered', 'close'], ['CATCH'], ['TYPE', 'IOException'], ['NAME', 'exceptIO'], ['BLOCK'], ['100', 'IO', 'logger', 'log', 'Level', 'WARNING', 'Error', 'closing', 'BufferedReader', 'exceptIO'], ['TRY'], ['BLOCK'], ['IF'], ['COND', 'readerInputStream', '!=', 'null'], ['THEN'], ['107', 'readerInputStream', 'close'], ['CATCH'], ['TYPE', 'IOException'], ['NAME', 'exceptIO'], ['BLOCK'], ['112', 'IO', 'logger', 'log', 'Level', 'WARNING', 'Error', 'closing', 'InputStreamReader', 'exceptIO'], ['TRY'], ['BLOCK'], ['IF'], ['COND', 'streamFileInput', '!=', 'null'], ['THEN'], ['119', 'streamFileInput', 'close'], ['CATCH'], ['TYPE', 'IOException'], ['NAME', 'exceptIO'], ['BLOCK'], ['124', 'IO', 'logger', 'log', 'Level', 'WARNING', 'Error', 'closing', 'FileInputStream', 'exceptIO'], ['ELSE'], ['133', 'data', '=', 'null'], ['136', 'return', 'data'], ['FIELD'], ['MODIFIER', 'private'], ['TYPE', 'boolean'], ['NAME', 'goodG2B1', 'private'], ['INIT', '=', 'false'], ['FIELD'], ['MODIFIER', 'private'], ['TYPE', 'boolean'], ['NAME', 'goodG2B2', 'private'], ['INIT', '=', 'false'], ['METHOD'], ['MODIFIER', 'public'], ['RETURN', 'void'], ['NAME', 'good'], ['BLOCK'], ['145', 'goodG2B1'], ['146', 'goodG2B2'], ['METHOD'], ['MODIFIER', 'private'], ['RETURN', 'void'], ['NAME', 'goodG2B1'], ['BLOCK'], ['VAR'], ['TYPE', 'String'], ['NAME', 'data'], ['154', 'goodG2B1', 'private', '=', 'false'], ['155', 'data', '=', 'goodG2B1', 'source'], ['VAR'], ['TYPE', 'String'], ['NAME', 'osCommand'], ['IF'], ['COND', 'System', 'getProperty', 'os', 'name', 'toLowerCase', 'indexOf', 'win', '>=', '0'], ['THEN'], ['161', 'osCommand', '=', 'c', '\\\\\\\\\\\\\\\\WINDOWS\\\\\\\\\\\\\\\\SYSTEM32\\\\\\\\\\\\\\\\cmd', 'exe', 'c', 'dir'], ['ELSE'], ['166', 'osCommand', '=', 'bin', 'ls'], ['VAR'], ['TYPE', 'Process'], ['NAME', 'process'], ['INIT', '=', 'Runtime', 'getRuntime', 'exec', 'osCommand', '+', 'data'], ['171', 'process', 'waitFor'], ['METHOD'], ['MODIFIER', 'private'], ['RETURN', 'String'], ['NAME', 'goodG2B1', 'source'], ['BLOCK'], ['VAR'], ['TYPE', 'String'], ['NAME', 'data'], ['INIT', '=', 'null'], ['IF'], ['COND', 'goodG2B1', 'private'], ['THEN'], ['183', 'data', '=', 'null'], ['ELSE'], ['189', 'data', '=', 'foo'], ['193', 'return', 'data'], ['METHOD'], ['MODIFIER', 'private'], ['RETURN', 'void'], ['NAME', 'goodG2B2'], ['BLOCK'], ['VAR'], ['TYPE', 'String'], ['NAME', 'data'], ['201', 'goodG2B2', 'private', '=', 'true'], ['202', 'data', '=', 'goodG2B2', 'source'], ['VAR'], ['TYPE', 'String'], ['NAME', 'osCommand'], ['IF'], ['COND', 'System', 'getProperty', 'os', 'name', 'toLowerCase', 'indexOf', 'win', '>=', '0'], ['THEN'], ['208', 'osCommand', '=', 'c', '\\\\\\\\\\\\\\\\WINDOWS\\\\\\\\\\\\\\\\SYSTEM32\\\\\\\\\\\\\\\\cmd', 'exe', 'c', 'dir'], ['ELSE'], ['213', 'osCommand', '=', 'bin', 'ls'], ['VAR'], ['TYPE', 'Process'], ['NAME', 'process'], ['INIT', '=', 'Runtime', 'getRuntime', 'exec', 'osCommand', '+', 'data'], ['218', 'process', 'waitFor'], ['METHOD'], ['MODIFIER', 'private'], ['RETURN', 'String'], ['NAME', 'goodG2B2', 'source'], ['BLOCK'], ['VAR'], ['TYPE', 'String'], ['NAME', 'data'], ['INIT', '=', 'null'], ['IF'], ['COND', 'goodG2B2', 'private'], ['THEN'], ['229', 'data', '=', 'foo'], ['ELSE'], ['235', 'data', '=', 'null'], ['238', 'return', 'data'], ['METHOD'], ['MODIFIER', 'public', 'static'], ['RETURN', 'void'], ['NAME', 'main'], ['PARAMS'], ['VAR'], ['TYPE', 'String'], ['NAME', 'args'], ['BLOCK'], ['249', 'mainFromParent', 'args']]\n",
            "[('1', '2'), ('1', '3'), ('3', '4'), ('3', '5'), ('1', '6'), ('6', '7'), ('6', '8'), ('6', '9'), ('9', '10'), ('9', '11'), ('9', '12'), ('9', '13'), ('13', '14'), ('14', '15'), ('14', '16'), ('9', '17'), ('17', '18'), ('6', '19'), ('19', '20'), ('19', '21'), ('19', '22'), ('19', '23'), ('23', '24'), ('24', '25'), ('24', '26'), ('19', '27'), ('27', '28')]\n",
            "2100\n",
            "2100\n",
            "1574\n"
          ],
          "name": "stdout"
        }
      ]
    },
    {
      "cell_type": "code",
      "metadata": {
        "id": "MFwzkd_IpFcM",
        "colab_type": "code",
        "outputId": "35b17edf-3d24-42e4-f6b0-a19b7ce23762",
        "colab": {
          "base_uri": "https://localhost:8080/",
          "height": 73
        }
      },
      "source": [
        "# shuffle data\n",
        "import random\n",
        "randnum = random.randint(0,100)\n",
        "random.seed(randnum)\n",
        "random.shuffle(programs)\n",
        "\n",
        "random.seed(randnum)\n",
        "random.shuffle(labels)\n",
        "\n",
        "random.seed(randnum)\n",
        "random.shuffle(edges)\n",
        "\n",
        "training_data = []\n",
        "for i in range(1600):\n",
        "  #training_data.append((programs[i],edges[i],labels[i]))\n",
        "  training_data.append((programs[i],labels[i]))\n",
        "print(training_data[0])\n",
        "eval_data=[]\n",
        "for i in range(1600,2100):\n",
        "  #eval_data.append((programs[i],edges[i],labels[i]))\n",
        "  eval_data.append((programs[i],labels[i]))\n",
        "print(eval_data[0])"
      ],
      "execution_count": 6,
      "outputs": [
        {
          "output_type": "stream",
          "text": [
            "([['IMPORTS'], ['IMPORT', 'testcasesupport'], ['IMPORT', 'javax', 'servlet', 'http'], ['IMPORT', 'java', 'io', 'BufferedReader'], ['IMPORT', 'java', 'io', 'InputStreamReader'], ['IMPORT', 'java', 'io', 'FileInputStream'], ['IMPORT', 'java', 'io', 'File'], ['IMPORT', 'java', 'io', 'IOException'], ['IMPORT', 'java', 'util', 'logging', 'Level'], ['CLASS'], ['MODIFIER', 'public'], ['NAME', 'CWE78', 'OS', 'Command', 'Injection', 'File', '68a'], ['EXTENDS', 'AbstractTestCase'], ['FIELD'], ['MODIFIER', 'public', 'static'], ['TYPE', 'String'], ['NAME', 'data'], ['METHOD'], ['MODIFIER', 'public'], ['RETURN', 'void'], ['NAME', 'bad'], ['BLOCK'], ['37', 'data'], ['VAR'], ['TYPE', 'File'], ['NAME', 'file'], ['INIT', '=', 'new', 'File', 'C', '\\\\\\\\\\\\\\\\data', 'txt'], ['VAR'], ['TYPE', 'FileInputStream'], ['NAME', 'streamFileInput'], ['INIT', '=', 'null'], ['VAR'], ['TYPE', 'InputStreamReader'], ['NAME', 'readerInputStream'], ['INIT', '=', 'null'], ['VAR'], ['TYPE', 'BufferedReader'], ['NAME', 'readerBuffered'], ['INIT', '=', 'null'], ['TRY'], ['BLOCK'], ['47', 'streamFileInput', '=', 'new', 'FileInputStream', 'file'], ['48', 'readerInputStream', '=', 'new', 'InputStreamReader', 'streamFileInput', 'UTF-8'], ['49', 'readerBuffered', '=', 'new', 'BufferedReader', 'readerInputStream'], ['54', 'data', '=', 'readerBuffered', 'readLine'], ['CATCH'], ['TYPE', 'IOException'], ['NAME', 'exceptIO'], ['BLOCK'], ['58', 'IO', 'logger', 'log', 'Level', 'WARNING', 'Error', 'with', 'stream', 'reading', 'exceptIO'], ['FINALLY'], ['TRY'], ['BLOCK'], ['IF'], ['COND', 'readerBuffered', '!=', 'null'], ['THEN'], ['67', 'readerBuffered', 'close'], ['CATCH'], ['TYPE', 'IOException'], ['NAME', 'exceptIO'], ['BLOCK'], ['72', 'IO', 'logger', 'log', 'Level', 'WARNING', 'Error', 'closing', 'BufferedReader', 'exceptIO'], ['TRY'], ['BLOCK'], ['IF'], ['COND', 'readerInputStream', '!=', 'null'], ['THEN'], ['79', 'readerInputStream', 'close'], ['CATCH'], ['TYPE', 'IOException'], ['NAME', 'exceptIO'], ['BLOCK'], ['84', 'IO', 'logger', 'log', 'Level', 'WARNING', 'Error', 'closing', 'InputStreamReader', 'exceptIO'], ['TRY'], ['BLOCK'], ['IF'], ['COND', 'streamFileInput', '!=', 'null'], ['THEN'], ['91', 'streamFileInput', 'close'], ['CATCH'], ['TYPE', 'IOException'], ['NAME', 'exceptIO'], ['BLOCK'], ['96', 'IO', 'logger', 'log', 'Level', 'WARNING', 'Error', 'closing', 'FileInputStream', 'exceptIO'], ['101', 'new', 'CWE78', 'OS', 'Command', 'Injection', 'File', '68b', 'badSink'], ['METHOD'], ['MODIFIER', 'public'], ['RETURN', 'void'], ['NAME', 'good'], ['BLOCK'], ['106', 'goodG2B'], ['METHOD'], ['MODIFIER', 'private'], ['RETURN', 'void'], ['NAME', 'goodG2B'], ['BLOCK'], ['114', 'data', '=', 'foo'], ['116', 'new', 'CWE78', 'OS', 'Command', 'Injection', 'File', '68b', 'goodG2BSink'], ['METHOD'], ['MODIFIER', 'public', 'static'], ['RETURN', 'void'], ['NAME', 'main'], ['PARAMS'], ['VAR'], ['TYPE', 'String'], ['NAME', 'args'], ['BLOCK'], ['127', 'mainFromParent', 'args']], 1)\n",
            "([['IMPORTS'], ['IMPORT', 'testcasesupport'], ['IMPORT', 'javax', 'servlet', 'http'], ['IMPORT', 'java', 'io', 'BufferedReader'], ['IMPORT', 'java', 'io', 'InputStreamReader'], ['IMPORT', 'java', 'io', 'IOException'], ['IMPORT', 'java', 'net', 'Socket'], ['IMPORT', 'java', 'util', 'logging', 'Level'], ['IMPORT', 'java', 'sql'], ['CLASS'], ['MODIFIER', 'public'], ['NAME', 'CWE89', 'SQL', 'Injection', 'connect', 'tcp', 'executeQuery', '09'], ['EXTENDS', 'AbstractTestCase'], ['METHOD'], ['MODIFIER', 'public'], ['RETURN', 'void'], ['NAME', 'bad'], ['BLOCK'], ['VAR'], ['TYPE', 'String'], ['NAME', 'data'], ['IF'], ['COND', 'IO', 'STATIC', 'FINAL', 'TRUE'], ['THEN'], ['40', 'data'], ['VAR'], ['TYPE', 'Socket'], ['NAME', 'socket'], ['INIT', '=', 'null'], ['VAR'], ['TYPE', 'BufferedReader'], ['NAME', 'readerBuffered'], ['INIT', '=', 'null'], ['VAR'], ['TYPE', 'InputStreamReader'], ['NAME', 'readerInputStream'], ['INIT', '=', 'null'], ['TRY'], ['BLOCK'], ['49', 'socket', '=', 'new', 'Socket', 'host', 'example', 'org', '39544'], ['51', 'readerInputStream', '=', 'new', 'InputStreamReader', 'socket', 'getInputStream', 'UTF-8'], ['52', 'readerBuffered', '=', 'new', 'BufferedReader', 'readerInputStream'], ['54', 'data', '=', 'readerBuffered', 'readLine'], ['CATCH'], ['TYPE', 'IOException'], ['NAME', 'exceptIO'], ['BLOCK'], ['58', 'IO', 'logger', 'log', 'Level', 'WARNING', 'Error', 'with', 'stream', 'reading', 'exceptIO'], ['FINALLY'], ['TRY'], ['BLOCK'], ['IF'], ['COND', 'readerBuffered', '!=', 'null'], ['THEN'], ['67', 'readerBuffered', 'close'], ['CATCH'], ['TYPE', 'IOException'], ['NAME', 'exceptIO'], ['BLOCK'], ['72', 'IO', 'logger', 'log', 'Level', 'WARNING', 'Error', 'closing', 'BufferedReader', 'exceptIO'], ['TRY'], ['BLOCK'], ['IF'], ['COND', 'readerInputStream', '!=', 'null'], ['THEN'], ['79', 'readerInputStream', 'close'], ['CATCH'], ['TYPE', 'IOException'], ['NAME', 'exceptIO'], ['BLOCK'], ['84', 'IO', 'logger', 'log', 'Level', 'WARNING', 'Error', 'closing', 'InputStreamReader', 'exceptIO'], ['TRY'], ['BLOCK'], ['IF'], ['COND', 'socket', '!=', 'null'], ['THEN'], ['92', 'socket', 'close'], ['CATCH'], ['TYPE', 'IOException'], ['NAME', 'exceptIO'], ['BLOCK'], ['97', 'IO', 'logger', 'log', 'Level', 'WARNING', 'Error', 'closing', 'Socket', 'exceptIO'], ['ELSE'], ['106', 'data', '=', 'null'], ['IF'], ['COND', 'IO', 'STATIC', 'FINAL', 'TRUE'], ['THEN'], ['VAR'], ['TYPE', 'Connection'], ['NAME', 'dbConnection'], ['INIT', '=', 'null'], ['VAR'], ['TYPE', 'Statement'], ['NAME', 'sqlStatement'], ['INIT', '=', 'null'], ['VAR'], ['TYPE', 'ResultSet'], ['NAME', 'resultSet'], ['INIT', '=', 'null'], ['TRY'], ['BLOCK'], ['116', 'dbConnection', '=', 'IO', 'getDBConnection'], ['117', 'sqlStatement', '=', 'dbConnection', 'createStatement'], ['119', 'resultSet', '=', 'sqlStatement', 'executeQuery', 'select', '*', 'from', 'users', 'where', 'name=', '+data'], ['120', 'IO', 'writeLine', 'resultSet', 'getRow'], ['CATCH'], ['TYPE', 'SQLException'], ['NAME', 'exceptSql'], ['BLOCK'], ['124', 'IO', 'logger', 'log', 'Level', 'WARNING', 'Error', 'getting', 'database', 'connection', 'exceptSql'], ['FINALLY'], ['TRY'], ['BLOCK'], ['IF'], ['COND', 'resultSet', '!=', 'null'], ['THEN'], ['132', 'resultSet', 'close'], ['CATCH'], ['TYPE', 'SQLException'], ['NAME', 'exceptSql'], ['BLOCK'], ['137', 'IO', 'logger', 'log', 'Level', 'WARNING', 'Error', 'closing', 'ResultSet', 'exceptSql'], ['TRY'], ['BLOCK'], ['IF'], ['COND', 'sqlStatement', '!=', 'null'], ['THEN'], ['144', 'sqlStatement', 'close'], ['CATCH'], ['TYPE', 'SQLException'], ['NAME', 'exceptSql'], ['BLOCK'], ['149', 'IO', 'logger', 'log', 'Level', 'WARNING', 'Error', 'closing', 'Statement', 'exceptSql'], ['TRY'], ['BLOCK'], ['IF'], ['COND', 'dbConnection', '!=', 'null'], ['THEN'], ['156', 'dbConnection', 'close'], ['CATCH'], ['TYPE', 'SQLException'], ['NAME', 'exceptSql'], ['BLOCK'], ['161', 'IO', 'logger', 'log', 'Level', 'WARNING', 'Error', 'closing', 'Connection', 'exceptSql'], ['METHOD'], ['MODIFIER', 'private'], ['RETURN', 'void'], ['NAME', 'goodG2B1'], ['BLOCK'], ['VAR'], ['TYPE', 'String'], ['NAME', 'data'], ['IF'], ['COND', 'IO', 'STATIC', 'FINAL', 'FALSE'], ['THEN'], ['175', 'data', '=', 'null'], ['ELSE'], ['181', 'data', '=', 'foo'], ['IF'], ['COND', 'IO', 'STATIC', 'FINAL', 'TRUE'], ['THEN'], ['VAR'], ['TYPE', 'Connection'], ['NAME', 'dbConnection'], ['INIT', '=', 'null'], ['VAR'], ['TYPE', 'Statement'], ['NAME', 'sqlStatement'], ['INIT', '=', 'null'], ['VAR'], ['TYPE', 'ResultSet'], ['NAME', 'resultSet'], ['INIT', '=', 'null'], ['TRY'], ['BLOCK'], ['192', 'dbConnection', '=', 'IO', 'getDBConnection'], ['193', 'sqlStatement', '=', 'dbConnection', 'createStatement'], ['195', 'resultSet', '=', 'sqlStatement', 'executeQuery', 'select', '*', 'from', 'users', 'where', 'name=', '+data'], ['196', 'IO', 'writeLine', 'resultSet', 'getRow'], ['CATCH'], ['TYPE', 'SQLException'], ['NAME', 'exceptSql'], ['BLOCK'], ['200', 'IO', 'logger', 'log', 'Level', 'WARNING', 'Error', 'getting', 'database', 'connection', 'exceptSql'], ['FINALLY'], ['TRY'], ['BLOCK'], ['IF'], ['COND', 'resultSet', '!=', 'null'], ['THEN'], ['208', 'resultSet', 'close'], ['CATCH'], ['TYPE', 'SQLException'], ['NAME', 'exceptSql'], ['BLOCK'], ['213', 'IO', 'logger', 'log', 'Level', 'WARNING', 'Error', 'closing', 'ResultSet', 'exceptSql'], ['TRY'], ['BLOCK'], ['IF'], ['COND', 'sqlStatement', '!=', 'null'], ['THEN'], ['220', 'sqlStatement', 'close'], ['CATCH'], ['TYPE', 'SQLException'], ['NAME', 'exceptSql'], ['BLOCK'], ['225', 'IO', 'logger', 'log', 'Level', 'WARNING', 'Error', 'closing', 'Statement', 'exceptSql'], ['TRY'], ['BLOCK'], ['IF'], ['COND', 'dbConnection', '!=', 'null'], ['THEN'], ['232', 'dbConnection', 'close'], ['CATCH'], ['TYPE', 'SQLException'], ['NAME', 'exceptSql'], ['BLOCK'], ['237', 'IO', 'logger', 'log', 'Level', 'WARNING', 'Error', 'closing', 'Connection', 'exceptSql'], ['METHOD'], ['MODIFIER', 'private'], ['RETURN', 'void'], ['NAME', 'goodG2B2'], ['BLOCK'], ['VAR'], ['TYPE', 'String'], ['NAME', 'data'], ['IF'], ['COND', 'IO', 'STATIC', 'FINAL', 'TRUE'], ['THEN'], ['250', 'data', '=', 'foo'], ['ELSE'], ['256', 'data', '=', 'null'], ['IF'], ['COND', 'IO', 'STATIC', 'FINAL', 'TRUE'], ['THEN'], ['VAR'], ['TYPE', 'Connection'], ['NAME', 'dbConnection'], ['INIT', '=', 'null'], ['VAR'], ['TYPE', 'Statement'], ['NAME', 'sqlStatement'], ['INIT', '=', 'null'], ['VAR'], ['TYPE', 'ResultSet'], ['NAME', 'resultSet'], ['INIT', '=', 'null'], ['TRY'], ['BLOCK'], ['266', 'dbConnection', '=', 'IO', 'getDBConnection'], ['267', 'sqlStatement', '=', 'dbConnection', 'createStatement'], ['269', 'resultSet', '=', 'sqlStatement', 'executeQuery', 'select', '*', 'from', 'users', 'where', 'name=', '+data'], ['270', 'IO', 'writeLine', 'resultSet', 'getRow'], ['CATCH'], ['TYPE', 'SQLException'], ['NAME', 'exceptSql'], ['BLOCK'], ['274', 'IO', 'logger', 'log', 'Level', 'WARNING', 'Error', 'getting', 'database', 'connection', 'exceptSql'], ['FINALLY'], ['TRY'], ['BLOCK'], ['IF'], ['COND', 'resultSet', '!=', 'null'], ['THEN'], ['282', 'resultSet', 'close'], ['CATCH'], ['TYPE', 'SQLException'], ['NAME', 'exceptSql'], ['BLOCK'], ['287', 'IO', 'logger', 'log', 'Level', 'WARNING', 'Error', 'closing', 'ResultSet', 'exceptSql'], ['TRY'], ['BLOCK'], ['IF'], ['COND', 'sqlStatement', '!=', 'null'], ['THEN'], ['294', 'sqlStatement', 'close'], ['CATCH'], ['TYPE', 'SQLException'], ['NAME', 'exceptSql'], ['BLOCK'], ['299', 'IO', 'logger', 'log', 'Level', 'WARNING', 'Error', 'closing', 'Statement', 'exceptSql'], ['TRY'], ['BLOCK'], ['IF'], ['COND', 'dbConnection', '!=', 'null'], ['THEN'], ['306', 'dbConnection', 'close'], ['CATCH'], ['TYPE', 'SQLException'], ['NAME', 'exceptSql'], ['BLOCK'], ['311', 'IO', 'logger', 'log', 'Level', 'WARNING', 'Error', 'closing', 'Connection', 'exceptSql'], ['METHOD'], ['MODIFIER', 'private'], ['RETURN', 'void'], ['NAME', 'goodB2G1'], ['BLOCK'], ['VAR'], ['TYPE', 'String'], ['NAME', 'data'], ['IF'], ['COND', 'IO', 'STATIC', 'FINAL', 'TRUE'], ['THEN'], ['323', 'data'], ['VAR'], ['TYPE', 'Socket'], ['NAME', 'socket'], ['INIT', '=', 'null'], ['VAR'], ['TYPE', 'BufferedReader'], ['NAME', 'readerBuffered'], ['INIT', '=', 'null'], ['VAR'], ['TYPE', 'InputStreamReader'], ['NAME', 'readerInputStream'], ['INIT', '=', 'null'], ['TRY'], ['BLOCK'], ['332', 'socket', '=', 'new', 'Socket', 'host', 'example', 'org', '39544'], ['334', 'readerInputStream', '=', 'new', 'InputStreamReader', 'socket', 'getInputStream', 'UTF-8'], ['335', 'readerBuffered', '=', 'new', 'BufferedReader', 'readerInputStream'], ['337', 'data', '=', 'readerBuffered', 'readLine'], ['CATCH'], ['TYPE', 'IOException'], ['NAME', 'exceptIO'], ['BLOCK'], ['341', 'IO', 'logger', 'log', 'Level', 'WARNING', 'Error', 'with', 'stream', 'reading', 'exceptIO'], ['FINALLY'], ['TRY'], ['BLOCK'], ['IF'], ['COND', 'readerBuffered', '!=', 'null'], ['THEN'], ['350', 'readerBuffered', 'close'], ['CATCH'], ['TYPE', 'IOException'], ['NAME', 'exceptIO'], ['BLOCK'], ['355', 'IO', 'logger', 'log', 'Level', 'WARNING', 'Error', 'closing', 'BufferedReader', 'exceptIO'], ['TRY'], ['BLOCK'], ['IF'], ['COND', 'readerInputStream', '!=', 'null'], ['THEN'], ['362', 'readerInputStream', 'close'], ['CATCH'], ['TYPE', 'IOException'], ['NAME', 'exceptIO'], ['BLOCK'], ['367', 'IO', 'logger', 'log', 'Level', 'WARNING', 'Error', 'closing', 'InputStreamReader', 'exceptIO'], ['TRY'], ['BLOCK'], ['IF'], ['COND', 'socket', '!=', 'null'], ['THEN'], ['375', 'socket', 'close'], ['CATCH'], ['TYPE', 'IOException'], ['NAME', 'exceptIO'], ['BLOCK'], ['380', 'IO', 'logger', 'log', 'Level', 'WARNING', 'Error', 'closing', 'Socket', 'exceptIO'], ['ELSE'], ['389', 'data', '=', 'null'], ['IF'], ['COND', 'IO', 'STATIC', 'FINAL', 'FALSE'], ['THEN'], ['395', 'IO', 'writeLine', 'Benign', 'fixed', 'string'], ['ELSE'], ['VAR'], ['TYPE', 'Connection'], ['NAME', 'dbConnection'], ['INIT', '=', 'null'], ['VAR'], ['TYPE', 'PreparedStatement'], ['NAME', 'sqlStatement'], ['INIT', '=', 'null'], ['VAR'], ['TYPE', 'ResultSet'], ['NAME', 'resultSet'], ['INIT', '=', 'null'], ['TRY'], ['BLOCK'], ['407', 'dbConnection', '=', 'IO', 'getDBConnection'], ['408', 'sqlStatement', '=', 'dbConnection', 'prepareStatement', 'select', '*', 'from', 'users', 'where', 'name'], ['409', 'sqlStatement', 'setString', '1', 'data'], ['411', 'resultSet', '=', 'sqlStatement', 'executeQuery'], ['413', 'IO', 'writeLine', 'resultSet', 'getRow'], ['CATCH'], ['TYPE', 'SQLException'], ['NAME', 'exceptSql'], ['BLOCK'], ['417', 'IO', 'logger', 'log', 'Level', 'WARNING', 'Error', 'getting', 'database', 'connection', 'exceptSql'], ['FINALLY'], ['TRY'], ['BLOCK'], ['IF'], ['COND', 'resultSet', '!=', 'null'], ['THEN'], ['425', 'resultSet', 'close'], ['CATCH'], ['TYPE', 'SQLException'], ['NAME', 'exceptSql'], ['BLOCK'], ['430', 'IO', 'logger', 'log', 'Level', 'WARNING', 'Error', 'closing', 'ResultSet', 'exceptSql'], ['TRY'], ['BLOCK'], ['IF'], ['COND', 'sqlStatement', '!=', 'null'], ['THEN'], ['437', 'sqlStatement', 'close'], ['CATCH'], ['TYPE', 'SQLException'], ['NAME', 'exceptSql'], ['BLOCK'], ['442', 'IO', 'logger', 'log', 'Level', 'WARNING', 'Error', 'closing', 'PreparedStatement', 'exceptSql'], ['TRY'], ['BLOCK'], ['IF'], ['COND', 'dbConnection', '!=', 'null'], ['THEN'], ['449', 'dbConnection', 'close'], ['CATCH'], ['TYPE', 'SQLException'], ['NAME', 'exceptSql'], ['BLOCK'], ['454', 'IO', 'logger', 'log', 'Level', 'WARNING', 'Error', 'closing', 'Connection', 'exceptSql'], ['METHOD'], ['MODIFIER', 'private'], ['RETURN', 'void'], ['NAME', 'goodB2G2'], ['BLOCK'], ['VAR'], ['TYPE', 'String'], ['NAME', 'data'], ['IF'], ['COND', 'IO', 'STATIC', 'FINAL', 'TRUE'], ['THEN'], ['467', 'data'], ['VAR'], ['TYPE', 'Socket'], ['NAME', 'socket'], ['INIT', '=', 'null'], ['VAR'], ['TYPE', 'BufferedReader'], ['NAME', 'readerBuffered'], ['INIT', '=', 'null'], ['VAR'], ['TYPE', 'InputStreamReader'], ['NAME', 'readerInputStream'], ['INIT', '=', 'null'], ['TRY'], ['BLOCK'], ['476', 'socket', '=', 'new', 'Socket', 'host', 'example', 'org', '39544'], ['478', 'readerInputStream', '=', 'new', 'InputStreamReader', 'socket', 'getInputStream', 'UTF-8'], ['479', 'readerBuffered', '=', 'new', 'BufferedReader', 'readerInputStream'], ['481', 'data', '=', 'readerBuffered', 'readLine'], ['CATCH'], ['TYPE', 'IOException'], ['NAME', 'exceptIO'], ['BLOCK'], ['485', 'IO', 'logger', 'log', 'Level', 'WARNING', 'Error', 'with', 'stream', 'reading', 'exceptIO'], ['FINALLY'], ['TRY'], ['BLOCK'], ['IF'], ['COND', 'readerBuffered', '!=', 'null'], ['THEN'], ['494', 'readerBuffered', 'close'], ['CATCH'], ['TYPE', 'IOException'], ['NAME', 'exceptIO'], ['BLOCK'], ['499', 'IO', 'logger', 'log', 'Level', 'WARNING', 'Error', 'closing', 'BufferedReader', 'exceptIO'], ['TRY'], ['BLOCK'], ['IF'], ['COND', 'readerInputStream', '!=', 'null'], ['THEN'], ['506', 'readerInputStream', 'close'], ['CATCH'], ['TYPE', 'IOException'], ['NAME', 'exceptIO'], ['BLOCK'], ['511', 'IO', 'logger', 'log', 'Level', 'WARNING', 'Error', 'closing', 'InputStreamReader', 'exceptIO'], ['TRY'], ['BLOCK'], ['IF'], ['COND', 'socket', '!=', 'null'], ['THEN'], ['519', 'socket', 'close'], ['CATCH'], ['TYPE', 'IOException'], ['NAME', 'exceptIO'], ['BLOCK'], ['524', 'IO', 'logger', 'log', 'Level', 'WARNING', 'Error', 'closing', 'Socket', 'exceptIO'], ['ELSE'], ['533', 'data', '=', 'null'], ['IF'], ['COND', 'IO', 'STATIC', 'FINAL', 'TRUE'], ['THEN'], ['VAR'], ['TYPE', 'Connection'], ['NAME', 'dbConnection'], ['INIT', '=', 'null'], ['VAR'], ['TYPE', 'PreparedStatement'], ['NAME', 'sqlStatement'], ['INIT', '=', 'null'], ['VAR'], ['TYPE', 'ResultSet'], ['NAME', 'resultSet'], ['INIT', '=', 'null'], ['TRY'], ['BLOCK'], ['544', 'dbConnection', '=', 'IO', 'getDBConnection'], ['545', 'sqlStatement', '=', 'dbConnection', 'prepareStatement', 'select', '*', 'from', 'users', 'where', 'name'], ['546', 'sqlStatement', 'setString', '1', 'data'], ['547', 'resultSet', '=', 'sqlStatement', 'executeQuery'], ['548', 'IO', 'writeLine', 'resultSet', 'getRow'], ['CATCH'], ['TYPE', 'SQLException'], ['NAME', 'exceptSql'], ['BLOCK'], ['552', 'IO', 'logger', 'log', 'Level', 'WARNING', 'Error', 'getting', 'database', 'connection', 'exceptSql'], ['FINALLY'], ['TRY'], ['BLOCK'], ['IF'], ['COND', 'resultSet', '!=', 'null'], ['THEN'], ['560', 'resultSet', 'close'], ['CATCH'], ['TYPE', 'SQLException'], ['NAME', 'exceptSql'], ['BLOCK'], ['565', 'IO', 'logger', 'log', 'Level', 'WARNING', 'Error', 'closing', 'ResultSet', 'exceptSql'], ['TRY'], ['BLOCK'], ['IF'], ['COND', 'sqlStatement', '!=', 'null'], ['THEN'], ['572', 'sqlStatement', 'close'], ['CATCH'], ['TYPE', 'SQLException'], ['NAME', 'exceptSql'], ['BLOCK'], ['577', 'IO', 'logger', 'log', 'Level', 'WARNING', 'Error', 'closing', 'PreparedStatement', 'exceptSql'], ['TRY'], ['BLOCK'], ['IF'], ['COND', 'dbConnection', '!=', 'null'], ['THEN'], ['584', 'dbConnection', 'close'], ['CATCH'], ['TYPE', 'SQLException'], ['NAME', 'exceptSql'], ['BLOCK'], ['589', 'IO', 'logger', 'log', 'Level', 'WARNING', 'Error', 'closing', 'Connection', 'exceptSql'], ['METHOD'], ['MODIFIER', 'public'], ['RETURN', 'void'], ['NAME', 'good'], ['BLOCK'], ['597', 'goodG2B1'], ['598', 'goodG2B2'], ['599', 'goodB2G1'], ['600', 'goodB2G2'], ['METHOD'], ['MODIFIER', 'public', 'static'], ['RETURN', 'void'], ['NAME', 'main'], ['PARAMS'], ['VAR'], ['TYPE', 'String'], ['NAME', 'args'], ['BLOCK'], ['611', 'mainFromParent', 'args']], 3)\n"
          ],
          "name": "stdout"
        }
      ]
    },
    {
      "cell_type": "code",
      "metadata": {
        "id": "g89CvmCu5w5F",
        "colab_type": "code",
        "outputId": "23a58459-1a95-4ca0-eff1-efc9d8c370ed",
        "colab": {
          "base_uri": "https://localhost:8080/",
          "height": 35
        }
      },
      "source": [
        "import torch\n",
        "import torch.nn as nn\n",
        "import torch.nn.functional as F\n",
        "import torch.optim as optim\n",
        "#look up table  \n",
        "#using one-hot embedding\n",
        "vocabulary_size = len(vocabulary)\n",
        "def look_up_table(word_idx):\n",
        "  x = torch.zeros(vocabulary_size).long()\n",
        "  x[word_idx] = 1.0\n",
        "  return x\n",
        "word2idx = {w: idx +1 for (idx, w) in enumerate(vocabulary)}\n",
        "idx2word = {idx+1: w for (idx, w) in enumerate(vocabulary)}\n",
        "print(look_up_table(word2idx['!=']))"
      ],
      "execution_count": 7,
      "outputs": [
        {
          "output_type": "stream",
          "text": [
            "tensor([0, 0, 0,  ..., 0, 0, 0])\n"
          ],
          "name": "stdout"
        }
      ]
    },
    {
      "cell_type": "code",
      "metadata": {
        "id": "XC3vZVKwx4Ix",
        "colab_type": "code",
        "colab": {}
      },
      "source": [
        "\n",
        "context_size = 100\n",
        "\n",
        "def get_childs(id,edge):\n",
        "  #print(edge)\n",
        "  #print(id)\n",
        "  childs=[]\n",
        "  for (str_id,str_child) in edge:\n",
        "    str2int_id= int(str_id)-3\n",
        "    str2int_child = int(str_child)-3\n",
        "    if id == str2int_id:\n",
        "      if str2int_child<context_size:\n",
        "        childs.append(str2int_child)\n",
        "  return childs\n",
        "\n",
        "alpha= 0.1\n",
        "def ast_mordified(contexts,id,program,edge):\n",
        "  childs = get_childs(id,edge) #[0,1,2,..]\n",
        "  \n",
        "  contexts_childs =torch.zeros(1).long()\n",
        "  for child in childs:\n",
        "    p = program[child]\n",
        "    num = 0\n",
        "    contexts_child =torch.zeros(1).long()\n",
        "    for t in p:\n",
        "      contexts_child=contexts_child+word2idx[t]\n",
        "      num=num+1\n",
        "    contexts_childs=contexts_childs+ (contexts_child/num)\n",
        "  if len(childs)>0:\n",
        "    result=contexts+((contexts_childs)/len(childs))*alpha\n",
        "  else:\n",
        "    result = contexts\n",
        "  return result\n",
        "\n",
        "\n",
        "\n",
        "def get_ast_context(program,edge):\n",
        "  id = 0\n",
        "  contexts =torch.zeros(context_size,1).long()\n",
        "\n",
        "  for p in program:\n",
        "    if id < context_size:\n",
        "      num = 0\n",
        "      for t in p:\n",
        "        contexts[id]=contexts[id]+word2idx[t]\n",
        "        num = num + 1\n",
        "      contexts[id] = contexts[id]/num # average\n",
        "      contexts[id] = ast_mordified(contexts[id],id,program,edge)\n",
        "    id = id + 1\n",
        "  return contexts\n",
        "def get_source_context(program):\n",
        "  id = 0\n",
        "  contexts =torch.zeros(context_size,1).long()\n",
        "\n",
        "  for p in program:\n",
        "    if id < context_size:\n",
        "      num = 0\n",
        "      for t in p:\n",
        "        contexts[id]=contexts[id]+word2idx[t]\n",
        "        num = num + 1\n",
        "      contexts[id] = contexts[id]/num # average\n",
        "    id = id + 1\n",
        "  return contexts\n"
      ],
      "execution_count": 0,
      "outputs": []
    },
    {
      "cell_type": "code",
      "metadata": {
        "id": "zvKoRsTFyWFi",
        "colab_type": "code",
        "colab": {}
      },
      "source": [
        "\n",
        "torch.manual_seed(1)\n",
        "embedding_dim =10\n",
        "\n",
        "class FFNN(nn.Module):\n",
        "  def __init__(self, vocab_size, embedding_dim):\n",
        "    super(FFNN, self).__init__()\n",
        "    self.embeddings = nn.Embedding(vocab_size, embedding_dim)\n",
        "    self.linear1 = nn.Linear(embedding_dim*context_size,3)\n",
        "  def forward(self, inputs):\n",
        "    #print(inputs.size())\n",
        "    embeds = self.embeddings(inputs.view(-1))\n",
        "    #print(embeds)\n",
        "    out = F.relu(self.linear1(embeds.view(-1)))\n",
        "    out = F.softmax(out,dim=0)\n",
        "    return out\n",
        "\n"
      ],
      "execution_count": 0,
      "outputs": []
    },
    {
      "cell_type": "code",
      "metadata": {
        "id": "3gbcB6bTyYeA",
        "colab_type": "code",
        "outputId": "a7f533bf-fa37-45a7-d9d2-3dc996828ebb",
        "colab": {
          "base_uri": "https://localhost:8080/",
          "height": 451
        }
      },
      "source": [
        "\n",
        "loss_function = nn.BCELoss()  \n",
        "model_ast = FFNN(vocabulary_size*2, embedding_dim)\n",
        "optimizer_ffnn = optim.Adam(model_ast.parameters(), lr=0.001)\n",
        "params = sum(p.numel() for p in model_ast.parameters() if p.requires_grad)\n",
        "print(\"Total number of parameters for FFNN is: {}\".format(params))\n",
        "\n",
        "loss_ast=[]\n",
        "for epoch in range(20):\n",
        "  losses = 0\n",
        "  pid=0\n",
        "  #for program,edge,label in training_data:\n",
        "  for program,label in training_data:  \n",
        "    if label ==1:\n",
        "      out_labels = torch.FloatTensor([1,0,0])\n",
        "    elif label == 2:\n",
        "      out_labels  = torch.FloatTensor([0,1,0])\n",
        "    elif label == 3:\n",
        "      out_labels  = torch.FloatTensor([0,0,1])\n",
        "\n",
        "    context_idx = get_ast_context(program,edges[pid])\n",
        "    pid = pid +1\n",
        "    #context_idx = get_source_context(program)\n",
        "    model_ast.zero_grad()\n",
        "    #print(context_idx.size())\n",
        "    out = model_ast(context_idx)\n",
        "    #print(out.size())\n",
        "    #print(f'Out {out},lables{out_labels}')\n",
        "    #print(out_labels)\n",
        "    loss = loss_function(out, out_labels)\n",
        "    #print(f'Loss {loss.item()}')\n",
        "    loss.backward()\n",
        "    optimizer_ffnn.step()\n",
        "    #print(f'Loss {loss.item()}')\n",
        "    losses +=loss.item()\n",
        "  print(f'Loss at epo {epoch}: {losses/len(training_data)}')\n",
        "  loss_ast.append(losses/len(training_data))\n",
        "\n",
        "with torch.no_grad():\n",
        "  accu=0\n",
        "  pid=1600\n",
        "  for program, label in eval_data:\n",
        "    context_idx = get_ast_context(program,edges[pid])\n",
        "    pid = pid+1\n",
        "    model_ast.zero_grad()\n",
        "    out = model_ast(context_idx)\n",
        "    #print(f'{out}:{label}')\n",
        "    if(out[0]>(1/3)):\n",
        "      if(label == 1):\n",
        "        accu = accu +1\n",
        "    elif(out[1]>(1/3)):\n",
        "      if(label == 2):\n",
        "        accu = accu +1\n",
        "    elif(out[2]>(1/3)):\n",
        "      if(label == 3):\n",
        "        accu = accu +1\n",
        "\n",
        "  print(f'Accuracy_ast: {accu/(len(eval_data))}') \n",
        "#  print(f'Precision_ffnn: {pre}')\n",
        "#  print(f'Recall_ffnn: {re}')\n",
        "#  print(f'F1_ffnn: {2*(pre*re/(pre+re))}') "
      ],
      "execution_count": 10,
      "outputs": [
        {
          "output_type": "stream",
          "text": [
            "Total number of parameters for FFNN is: 34483\n"
          ],
          "name": "stdout"
        },
        {
          "output_type": "stream",
          "text": [
            "/pytorch/aten/src/ATen/native/BinaryOps.cpp:81: UserWarning: Integer division of tensors using div or / is deprecated, and in a future release div will perform true division as in Python 3. Use true_divide or floor_divide (// in Python) instead.\n"
          ],
          "name": "stderr"
        },
        {
          "output_type": "stream",
          "text": [
            "Loss at epo 0: 0.3387193545220725\n",
            "Loss at epo 1: 0.11078728787374985\n",
            "Loss at epo 2: 0.06259927224957793\n",
            "Loss at epo 3: 0.053823090766455174\n",
            "Loss at epo 4: 0.04001419863040338\n",
            "Loss at epo 5: 0.046218164974482494\n",
            "Loss at epo 6: 0.04794699544658811\n",
            "Loss at epo 7: 0.055133467758931805\n",
            "Loss at epo 8: 0.040652182109230585\n",
            "Loss at epo 9: 0.03682131175786573\n",
            "Loss at epo 10: 0.04296864075583917\n",
            "Loss at epo 11: 0.035981917002781534\n",
            "Loss at epo 12: 0.03588853116159268\n",
            "Loss at epo 13: 0.03780972185609919\n",
            "Loss at epo 14: 0.03869729413060406\n",
            "Loss at epo 15: 0.03937988333407243\n",
            "Loss at epo 16: 0.03585938938763981\n",
            "Loss at epo 17: 0.03593327919593905\n",
            "Loss at epo 18: 0.035822353728076156\n",
            "Loss at epo 19: 0.03581506247750947\n",
            "Accuracy_ast: 0.934\n"
          ],
          "name": "stdout"
        }
      ]
    },
    {
      "cell_type": "markdown",
      "metadata": {
        "id": "k1YiCyP4SayP",
        "colab_type": "text"
      },
      "source": [
        "Source code"
      ]
    },
    {
      "cell_type": "code",
      "metadata": {
        "id": "lL3KlCi_R6MB",
        "colab_type": "code",
        "outputId": "c08e2b22-2455-43ca-a368-86cb5ae605d2",
        "colab": {
          "base_uri": "https://localhost:8080/",
          "height": 413
        }
      },
      "source": [
        "torch.manual_seed(1)\n",
        "loss_function_sr = nn.BCELoss()\n",
        "model_sc = FFNN(vocabulary_size, embedding_dim)\n",
        "optimizer_sr = optim.Adam(model_sc.parameters(), lr=0.001)\n",
        "params = sum(p.numel() for p in model_sc.parameters() if p.requires_grad)\n",
        "print(\"Total number of parameters for FFNN is: {}\".format(params))\n",
        "\n",
        "loss_sr=[]\n",
        "for epoch in range(20):\n",
        "  losses_sr = 0\n",
        "  for program, label in training_data:\n",
        "   # print(program)\n",
        "   # print(label)\n",
        "   if label ==1:\n",
        "     out_labels_sr = torch.FloatTensor([1,0,0])\n",
        "   elif label == 2:\n",
        "     out_labels_sr = torch.FloatTensor([0,1,0])\n",
        "   elif label == 3:\n",
        "     out_labels_sr  = torch.FloatTensor([0,0,1])\n",
        "\n",
        "   context_idx = get_source_context(program)\n",
        "   model_sc.zero_grad()\n",
        "   out_sr = model_sc(context_idx)\n",
        "   #print(out.size())\n",
        "   #print(f'Out {out},lables{out_labels}')\n",
        "   #print(out_labels)\n",
        "   loss = loss_function_sr(out_sr, out_labels_sr )\n",
        "   #print(f'Loss {loss.item()}')\n",
        "   loss.backward()\n",
        "   optimizer_sr.step()\n",
        "   #print(f'Loss {loss.item()}')\n",
        "   losses_sr +=loss.item()\n",
        "  print(f'Loss at epo {epoch}: {losses_sr/len(training_data)}')\n",
        "  loss_sr.append(losses_sr/len(training_data))\n",
        "\n",
        "with torch.no_grad():\n",
        "  accu=0\n",
        "  for program, label in eval_data:\n",
        "   # print(program)\n",
        "   # print(label)\n",
        "   context_idx = get_source_context(program)\n",
        "   model_sc.zero_grad()\n",
        "   out = model_sc(context_idx)\n",
        "  # print(f'{out}:{label}')\n",
        "\n",
        "   if(out[0]>(1/3)):\n",
        "     if(label == 1):\n",
        "       accu = accu +1\n",
        "   elif(out[1]>(1/3)):\n",
        "     if(label == 2):\n",
        "       accu = accu +1\n",
        "   elif(out[2]>(1/3)):\n",
        "     if(label == 3):\n",
        "       accu = accu +1\n",
        "\n",
        "  print(f'Accuracy_source_code: {accu/(len(eval_data))}') \n",
        "#  print(f'Precision_ffnn: {pre}')\n",
        "#  print(f'Recall_ffnn: {re}')\n",
        "#  print(f'F1_ffnn: {2*(pre*re/(pre+re))}')"
      ],
      "execution_count": 11,
      "outputs": [
        {
          "output_type": "stream",
          "text": [
            "Total number of parameters for FFNN is: 18743\n",
            "Loss at epo 0: 0.46523953254918526\n",
            "Loss at epo 1: 0.3631493680582753\n",
            "Loss at epo 2: 0.32694412509377857\n",
            "Loss at epo 3: 0.30807521982568714\n",
            "Loss at epo 4: 0.24132670106505102\n",
            "Loss at epo 5: 0.2154001873055961\n",
            "Loss at epo 6: 0.20176246678795398\n",
            "Loss at epo 7: 0.1954796595963462\n",
            "Loss at epo 8: 0.18732121205287522\n",
            "Loss at epo 9: 0.17442859322679843\n",
            "Loss at epo 10: 0.1764403937967161\n",
            "Loss at epo 11: 0.17688025458888365\n",
            "Loss at epo 12: 0.17245705264847275\n",
            "Loss at epo 13: 0.18435187820432133\n",
            "Loss at epo 14: 0.17350388333399658\n",
            "Loss at epo 15: 0.17069981989459765\n",
            "Loss at epo 16: 0.1686553008174826\n",
            "Loss at epo 17: 0.165147568227586\n",
            "Loss at epo 18: 0.16269155223772758\n",
            "Loss at epo 19: 0.16270165810744608\n",
            "Accuracy_source_code: 0.722\n"
          ],
          "name": "stdout"
        }
      ]
    },
    {
      "cell_type": "markdown",
      "metadata": {
        "id": "8YAnfMCIrAh0",
        "colab_type": "text"
      },
      "source": [
        "CFG embedding"
      ]
    },
    {
      "cell_type": "code",
      "metadata": {
        "id": "5DmYGIHvq_sh",
        "colab_type": "code",
        "colab": {
          "base_uri": "https://localhost:8080/",
          "height": 73
        },
        "outputId": "a7f0fa17-c138-41c5-fbb0-9358d794efcb"
      },
      "source": [
        "import os.path\n",
        "import re\n",
        "cfg={78:'CWE78_cfg',80:'CWE80_cfg',89:'CWE89_cfg'}\n",
        "def eachFile(filepath):\n",
        "  pathDir =  os.listdir(filepath)\n",
        "  files = []\n",
        "  for allDir in pathDir:\n",
        "    child = os.path.join('%s/%s' % (filepath, allDir))\n",
        "    \n",
        "    files.append(child)\n",
        "  return files\n",
        "root_dir = './AST_CFG/' # refer root dir\n",
        "files78_cfg = eachFile(root_dir+cfg[78])\n",
        "files80_cfg = eachFile(root_dir+cfg[80])\n",
        "files89_cfg = eachFile(root_dir+cfg[89])\n",
        "files_cfg=files78_cfg[:700]+files80_cfg[:700]+files89_cfg[:700]\n",
        "labels_cfg=[1]*700+[2]*700+[3]*700\n",
        "\n",
        "def extract_cfg_edges(file):\n",
        "  results = []\n",
        "  with open(file, \"r\") as f:\n",
        "    for line in f.readlines()[2:]:\n",
        "      #print(line)\n",
        "      result = re.search(r'\\bv(\\w+)(\\s*)-(\\S+)(\\s*)v(\\w+)\\b',line)\n",
        "      if result != None:\n",
        "         results.append((result.group(1),result.group(5)))\n",
        "    return results\n",
        "def extract_cfg(file):\n",
        "  results = []\n",
        "  with open(file, \"r\") as f:\n",
        "    for line in f.readlines()[2:]:\n",
        "      #print(line)\n",
        "      result = re.search(r'\\b(v\\w+)(\\s+\\[label=\")([\\w:\\s\\S]+)\\b',line)\n",
        "      if result != None:\n",
        "         results.append(result.group(3))\n",
        "    return results\n",
        "print(extract_cfg_edges(files_cfg[0]))\n",
        "print(extract_cfg(files_cfg[0]))"
      ],
      "execution_count": 33,
      "outputs": [
        {
          "output_type": "stream",
          "text": [
            "[('1', '2'), ('2', '3'), ('3', '4'), ('4', '5'), ('5', '6'), ('5', '7'), ('7', '8'), ('8', '9'), ('9', '10'), ('10', '6'), ('8', '11'), ('11', '5'), ('6', '12'), ('13', '14'), ('15', '16'), ('16', '17'), ('17', '18'), ('19', '20')]\n",
            "['27:  void bad(HttpServletRequest request, HttpServletResponse response', '29:  String data', '31:  data', '35:  StringTokenizer tokenizer = new StringTokenizer(request.getQueryString', '36:  while (tokenizer.hasMoreTokens', 'endwhile', '38:  String token = tokenizer.nextToken', \"39:  if (token.startsWith('id\", '41:  data = token.substring(3', '42:  break', 'endif', '47:  (new CWE78_OS_Command_Injection__getQueryString_Servlet_52b()).badSink(data , request, response', '50:  void good(HttpServletRequest request, HttpServletResponse response', '52:  goodG2B(request, response', '56:  void goodG2B(HttpServletRequest request, HttpServletResponse response', '58:  String data', \"61:  data = 'foo\", '63:  (new CWE78_OS_Command_Injection__getQueryString_Servlet_52b()).goodG2BSink(data , request, response', '71:  void main(String[] args', '74:  mainFromParent(args', 'False', 'True', 'True', 'False']\n"
          ],
          "name": "stdout"
        }
      ]
    },
    {
      "cell_type": "code",
      "metadata": {
        "id": "f6oVRmaprM6b",
        "colab_type": "code",
        "colab": {
          "base_uri": "https://localhost:8080/",
          "height": 127
        },
        "outputId": "7e56196a-ce3a-4ee6-8c81-cda5c33ab253"
      },
      "source": [
        "re_punctuation_string = '[()\\s,/.\\'_:]'\n",
        "remove_token=['',' ',',',':','\\n',';']\n",
        "\n",
        "programs_cfg=[]\n",
        "edges_cfg=[]\n",
        "vocabulary_cfg = []\n",
        "for f in files_cfg:\n",
        "  lines_cfg = extract_cfg(f)\n",
        "  edge_list_cfg= extract_cfg_edges(f)\n",
        "  edges_cfg.append(edge_list_cfg)\n",
        "  program_cfg=[]\n",
        "  for line in lines_cfg:\n",
        "    statement=[token for token in re.split(re_punctuation_string,line)if token not in remove_token]\n",
        "    program_cfg.append(statement)\n",
        "  programs_cfg.append(program_cfg[2:])\n",
        "  for s in program_cfg[2:]:\n",
        "        for t in s:\n",
        "           if t not in vocabulary_cfg:\n",
        "             vocabulary_cfg.append(t) \n",
        "print(programs_cfg[1])\n",
        "print(edges_cfg[1])\n",
        "print(len(programs_cfg))\n",
        "print(len(vocabulary_cfg))\n",
        "print('IMPORT' in vocabulary_cfg)"
      ],
      "execution_count": 34,
      "outputs": [
        {
          "output_type": "stream",
          "text": [
            "[['41', 'boolean', 'privateReturnsFalse'], ['43', 'return', 'false'], ['47', 'void', 'bad'], ['49', 'String', 'data'], ['50', 'if', 'privateReturnsTrue'], ['52', 'data'], ['54', 'File', 'file', '=', 'new', 'File', 'C', '\\\\\\\\\\\\\\\\data', 'txt'], ['55', 'FileInputStream', 'streamFileInput', '=', 'null'], ['56', 'InputStreamReader', 'readerInputStream', '=', 'null'], ['57', 'BufferedReader', 'readerBuffered', '=', 'null'], ['58', 'try'], ['end-try'], ['61', 'streamFileInput', '=', 'new', 'FileInputStream', 'file'], ['62', 'readerInputStream', '=', 'new', 'InputStreamReader', 'streamFileInput', 'UTF-8'], ['63', 'readerBuffered', '=', 'new', 'BufferedReader', 'readerInputStream'], ['67', 'data', '=', 'readerBuffered', 'readLine'], ['73', 'finally'], ['76', 'try'], ['end-try'], ['78', 'if', 'readerBuffered', '!=', 'null'], ['80', 'readerBuffered', 'close'], ['endif'], ['end-catch'], ['83', 'catch', 'IOException', 'exceptIO'], ['85', 'IO', 'logger', 'log', 'Level', 'WARNING', 'Error', 'closing', 'BufferedReader', 'exceptIO'], ['88', 'try'], ['end-try'], ['90', 'if', 'readerInputStream', '!=', 'null'], ['92', 'readerInputStream', 'close'], ['endif'], ['end-catch'], ['95', 'catch', 'IOException', 'exceptIO'], ['97', 'IO', 'logger', 'log', 'Level', 'WARNING', 'Error', 'closing', 'InputStreamReader', 'exceptIO'], ['100', 'try'], ['end-try'], ['102', 'if', 'streamFileInput', '!=', 'null'], ['104', 'streamFileInput', 'close'], ['endif'], ['end-catch'], ['107', 'catch', 'IOException', 'exceptIO'], ['109', 'IO', 'logger', 'log', 'Level', 'WARNING', 'Error', 'closing', 'FileInputStream', 'exceptIO'], ['end-finally'], ['end-catch'], ['69', 'catch', 'IOException', 'exceptIO'], ['71', 'IO', 'logger', 'log', 'Level', 'WARNING', 'Error', 'with', 'stream', 'reading', 'exceptIO'], ['endif'], ['118', 'data', '=', 'null'], ['121', 'String', 'osCommand'], ['122', 'if', 'System', 'getProperty', 'os', 'name', 'toLowerCase', 'indexOf', 'win', '>=', '0'], ['125', 'osCommand', '=', 'c', '\\\\\\\\\\\\\\\\WINDOWS\\\\\\\\\\\\\\\\SYSTEM32\\\\\\\\\\\\\\\\cmd', 'exe', 'c', 'dir'], ['endif'], ['130', 'osCommand', '=', 'bin', 'ls'], ['134', 'Process', 'process', '=', 'Runtime', 'getRuntime', 'exec', 'osCommand', '+', 'data'], ['135', 'process', 'waitFor'], ['140', 'void', 'goodG2B1'], ['142', 'String', 'data'], ['143', 'if', 'privateReturnsFalse'], ['147', 'data', '=', 'null'], ['endif'], ['153', 'data', '=', 'foo'], ['157', 'String', 'osCommand'], ['158', 'if', 'System', 'getProperty', 'os', 'name', 'toLowerCase', 'indexOf', 'win', '>=', '0'], ['161', 'osCommand', '=', 'c', '\\\\\\\\\\\\\\\\WINDOWS\\\\\\\\\\\\\\\\SYSTEM32\\\\\\\\\\\\\\\\cmd', 'exe', 'c', 'dir'], ['endif'], ['166', 'osCommand', '=', 'bin', 'ls'], ['170', 'Process', 'process', '=', 'Runtime', 'getRuntime', 'exec', 'osCommand', '+', 'data'], ['171', 'process', 'waitFor'], ['176', 'void', 'goodG2B2'], ['178', 'String', 'data'], ['179', 'if', 'privateReturnsTrue'], ['182', 'data', '=', 'foo'], ['endif'], ['188', 'data', '=', 'null'], ['191', 'String', 'osCommand'], ['192', 'if', 'System', 'getProperty', 'os', 'name', 'toLowerCase', 'indexOf', 'win', '>=', '0'], ['195', 'osCommand', '=', 'c', '\\\\\\\\\\\\\\\\WINDOWS\\\\\\\\\\\\\\\\SYSTEM32\\\\\\\\\\\\\\\\cmd', 'exe', 'c', 'dir'], ['endif'], ['200', 'osCommand', '=', 'bin', 'ls'], ['204', 'Process', 'process', '=', 'Runtime', 'getRuntime', 'exec', 'osCommand', '+', 'data'], ['205', 'process', 'waitFor'], ['209', 'void', 'good'], ['211', 'goodG2B1'], ['212', 'goodG2B2'], ['220', 'void', 'main', 'String[]', 'args'], ['223', 'mainFromParent', 'args'], ['True'], ['True'], ['False'], ['Throws'], ['True'], ['False'], ['Throws'], ['True'], ['False'], ['Throws'], ['Throws'], ['False'], ['True'], ['False'], ['True'], ['False'], ['True'], ['False'], ['True'], ['False'], ['True'], ['False']]\n",
            "[('1', '2'), ('3', '4'), ('5', '6'), ('6', '7'), ('7', '8'), ('8', '9'), ('9', '10'), ('10', '11'), ('11', '12'), ('12', '13'), ('13', '15'), ('15', '16'), ('16', '17'), ('17', '18'), ('18', '14'), ('14', '19'), ('19', '20'), ('20', '22'), ('22', '23'), ('23', '24'), ('22', '24'), ('24', '21'), ('21', '26'), ('26', '27'), ('27', '25'), ('25', '21'), ('21', '28'), ('28', '30'), ('30', '31'), ('31', '32'), ('30', '32'), ('32', '29'), ('29', '34'), ('34', '35'), ('35', '33'), ('33', '29'), ('29', '36'), ('36', '38'), ('38', '39'), ('39', '40'), ('38', '40'), ('40', '37'), ('37', '42'), ('42', '43'), ('43', '41'), ('41', '37'), ('37', '44'), ('14', '46'), ('46', '47'), ('47', '45'), ('45', '19'), ('44', '48'), ('7', '49'), ('49', '48'), ('48', '50'), ('50', '51'), ('51', '52'), ('52', '53'), ('51', '54'), ('54', '53'), ('53', '55'), ('55', '56'), ('57', '58'), ('58', '59'), ('59', '60'), ('60', '61'), ('59', '62'), ('62', '61'), ('61', '63'), ('63', '64'), ('64', '65'), ('65', '66'), ('64', '67'), ('67', '66'), ('66', '68'), ('68', '69'), ('70', '71'), ('71', '72'), ('72', '73'), ('73', '74'), ('72', '75'), ('75', '74'), ('74', '76'), ('76', '77'), ('77', '78'), ('78', '79'), ('77', '80'), ('80', '79'), ('79', '81'), ('81', '82'), ('83', '84'), ('84', '85'), ('86', '87')]\n",
            "2100\n",
            "1621\n",
            "False\n"
          ],
          "name": "stdout"
        }
      ]
    },
    {
      "cell_type": "code",
      "metadata": {
        "id": "Yd2S7yoprpPD",
        "colab_type": "code",
        "colab": {
          "base_uri": "https://localhost:8080/",
          "height": 73
        },
        "outputId": "f7ed81c4-2a1e-408b-bb16-f8e26831bccc"
      },
      "source": [
        "# shuffle data\n",
        "import random\n",
        "randnum = random.randint(0,100)\n",
        "random.seed(randnum)\n",
        "random.shuffle(programs_cfg)\n",
        "\n",
        "random.seed(randnum)\n",
        "random.shuffle(labels_cfg)\n",
        "\n",
        "random.seed(randnum)\n",
        "random.shuffle(edges_cfg)\n",
        "\n",
        "training_data_cfg = []\n",
        "for i in range(1600):\n",
        "  #training_data.append((programs[i],edges[i],labels[i]))\n",
        "  training_data_cfg.append((programs_cfg[i],labels_cfg[i]))\n",
        "print(training_data_cfg[0])\n",
        "eval_data_cfg=[]\n",
        "for i in range(1600,2100):\n",
        "  #eval_data.append((programs[i],edges[i],labels[i]))\n",
        "  eval_data_cfg.append((programs_cfg[i],labels_cfg[i]))\n",
        "print(eval_data_cfg[0])\n",
        "\n",
        "\n",
        "import torch\n",
        "import torch.nn as nn\n",
        "import torch.nn.functional as F\n",
        "import torch.optim as optim\n",
        "#look up table  \n",
        "#using one-hot embedding\n",
        "vocabulary_size_cfg = len(vocabulary_cfg)\n",
        "def look_up_table(word_idx):\n",
        "  x = torch.zeros(vocabulary_size_cfg).long()\n",
        "  x[word_idx] = 1.0\n",
        "  return x\n",
        "word2idx_cfg = {w: idx +1 for (idx, w) in enumerate(vocabulary_cfg)}\n",
        "idx2word_cfg = {idx+1: w for (idx, w) in enumerate(vocabulary_cfg)}"
      ],
      "execution_count": 36,
      "outputs": [
        {
          "output_type": "stream",
          "text": [
            "([['30', 'response', 'getWriter', 'println', '<br>bad', 'data', '=', '+', 'data'], ['endif'], ['True'], ['False']], 2)\n",
            "([['31', 'void', 'goodG2BSink', 'String', 'data'], ['33', 'new', 'CWE78', 'OS', 'Command', 'Injection', 'URLConnection', '54e', 'goodG2BSink', 'data']], 1)\n"
          ],
          "name": "stdout"
        }
      ]
    },
    {
      "cell_type": "code",
      "metadata": {
        "id": "tBmvpU9mrvYj",
        "colab_type": "code",
        "colab": {}
      },
      "source": [
        "\n",
        "context_size_cfg = 100\n",
        "\n",
        "def get_childs_cfg(id,edge):\n",
        "  #print(edge)\n",
        "  #print(id)\n",
        "  childs=[]\n",
        "  for (str_id,str_child) in edge:\n",
        "    str2int_id= int(str_id)-1\n",
        "    str2int_child = int(str_child)-1\n",
        "    if id == str2int_id:\n",
        "      if str2int_child<context_size:\n",
        "        childs.append(str2int_child)\n",
        "  #print(childs)\n",
        "  return childs\n",
        "\n",
        "alpha_cfg= 0.5\n",
        "def cfg_mordified(contexts,id,program,edge):\n",
        "  childs = get_childs_cfg(id,edge) #[0,1,2,..]\n",
        "  #print(id)\n",
        "  #print(edge)\n",
        "  contexts_childs =torch.zeros(1).long()\n",
        "  for child in childs:\n",
        "    if(child < len(program)):\n",
        "      p = program[child]\n",
        "      num = 0\n",
        "      contexts_child =torch.zeros(1).long()\n",
        "      for t in p:\n",
        "        contexts_child=contexts_child+word2idx_cfg[t]\n",
        "        num=num+1\n",
        "      contexts_childs=contexts_childs+ (contexts_child/num)\n",
        "  if len(childs)>0:\n",
        "    result=contexts+((contexts_childs)/len(childs))*alpha\n",
        "  else:\n",
        "    result = contexts\n",
        "  return result\n",
        "\n",
        "def get_cfg_context(program,edge):\n",
        "  id = 0\n",
        "  contexts =torch.zeros(context_size_cfg,1).long()\n",
        "\n",
        "  for p in program:\n",
        "    if id < context_size_cfg:\n",
        "      num = 0\n",
        "      for t in p:\n",
        "        contexts[id]=contexts[id]+word2idx_cfg[t]\n",
        "        num = num + 1\n",
        "      contexts[id] = contexts[id]/num # average\n",
        "      contexts[id] = cfg_mordified(contexts[id],id,program,edge)\n",
        "    id = id + 1\n",
        "  return contexts"
      ],
      "execution_count": 0,
      "outputs": []
    },
    {
      "cell_type": "code",
      "metadata": {
        "id": "ArFOQbI6r3M6",
        "colab_type": "code",
        "colab": {
          "base_uri": "https://localhost:8080/",
          "height": 413
        },
        "outputId": "af08d75d-c131-447c-e432-9ba216d2829a"
      },
      "source": [
        "torch.manual_seed(1)\n",
        "embedding_dim =10\n",
        "\n",
        "class FFNN(nn.Module):\n",
        "  def __init__(self, vocab_size, embedding_dim):\n",
        "    super(FFNN, self).__init__()\n",
        "    self.embeddings = nn.Embedding(vocab_size, embedding_dim)\n",
        "    self.linear1 = nn.Linear(embedding_dim*context_size,3)\n",
        "  def forward(self, inputs):\n",
        "    #print(inputs.size())\n",
        "    embeds = self.embeddings(inputs.view(-1))\n",
        "    #print(embeds)\n",
        "    out = F.relu(self.linear1(embeds.view(-1)))\n",
        "    out = F.softmax(out,dim=0)\n",
        "    return out\n",
        "\n",
        "\n",
        "loss_function = nn.BCELoss()  \n",
        "model_cfg = FFNN(vocabulary_size_cfg*2, embedding_dim)\n",
        "optimizer_cfg = optim.Adam(model_cfg.parameters(), lr=0.001)\n",
        "params = sum(p.numel() for p in model_cfg.parameters() if p.requires_grad)\n",
        "print(\"Total number of parameters for FFNN is: {}\".format(params))\n",
        "\n",
        "loss_cfg=[]\n",
        "for epoch in range(20):\n",
        "  losses = 0\n",
        "  pid=0\n",
        "  #for program,edge,label in training_data:\n",
        "  for program,label in training_data_cfg:  \n",
        "    if label ==1:\n",
        "      out_labels = torch.FloatTensor([1,0,0])\n",
        "    elif label == 2:\n",
        "      out_labels  = torch.FloatTensor([0,1,0])\n",
        "    elif label == 3:\n",
        "      out_labels  = torch.FloatTensor([0,0,1])\n",
        "\n",
        "    context_idx = get_cfg_context(program,edges[pid])\n",
        "    pid = pid +1\n",
        "    #context_idx = get_source_context(program)\n",
        "    model_cfg.zero_grad()\n",
        "    #print(context_idx.size())\n",
        "    out = model_cfg(context_idx)\n",
        "    #print(out.size())\n",
        "    #print(f'Out {out},lables{out_labels}')\n",
        "    #print(out_labels)\n",
        "    loss = loss_function(out, out_labels)\n",
        "    #print(f'Loss {loss.item()}')\n",
        "    loss.backward()\n",
        "    optimizer_cfg.step()\n",
        "    #print(f'Loss {loss.item()}')\n",
        "    losses +=loss.item()\n",
        "  print(f'Loss at epo {epoch}: {losses/len(training_data)}')\n",
        "  loss_cfg.append(losses/len(training_data))\n",
        "\n",
        "with torch.no_grad():\n",
        "  accu=0\n",
        "  pid=1600\n",
        "  for program, label in eval_data_cfg:\n",
        "    context_idx = get_cfg_context(program,edges[pid])\n",
        "    pid = pid+1\n",
        "    model_cfg.zero_grad()\n",
        "    out = model_cfg(context_idx)\n",
        "    #print(f'{out}:{label}')\n",
        "    if(out[0]>(1/3)):\n",
        "      if(label == 1):\n",
        "        accu = accu +1\n",
        "    elif(out[1]>(1/3)):\n",
        "      if(label == 2):\n",
        "        accu = accu +1\n",
        "    elif(out[2]>(1/3)):\n",
        "      if(label == 3):\n",
        "        accu = accu +1\n",
        "\n",
        "  print(f'Accuracy_cfg: {accu/(len(eval_data_cfg))}') \n",
        "#  print(f'Precision_ffnn: {pre}')\n",
        "#  print(f'Recall_ffnn: {re}')\n",
        "#  print(f'F1_ffnn: {2*(pre*re/(pre+re))}')"
      ],
      "execution_count": 40,
      "outputs": [
        {
          "output_type": "stream",
          "text": [
            "Total number of parameters for FFNN is: 35423\n",
            "Loss at epo 0: 0.47276297260586264\n",
            "Loss at epo 1: 0.3443491921228807\n",
            "Loss at epo 2: 0.2374420293608193\n",
            "Loss at epo 3: 0.18834877766627117\n",
            "Loss at epo 4: 0.15456321912711787\n",
            "Loss at epo 5: 0.13226452793831966\n",
            "Loss at epo 6: 0.11547328204280358\n",
            "Loss at epo 7: 0.10457934779433867\n",
            "Loss at epo 8: 0.09436694318918358\n",
            "Loss at epo 9: 0.08490166719330304\n",
            "Loss at epo 10: 0.07752212142930577\n",
            "Loss at epo 11: 0.07499731305284439\n",
            "Loss at epo 12: 0.06933947456977282\n",
            "Loss at epo 13: 0.06777614335274182\n",
            "Loss at epo 14: 0.06355951191844453\n",
            "Loss at epo 15: 0.06041950487077592\n",
            "Loss at epo 16: 0.05823435114670412\n",
            "Loss at epo 17: 0.05509107195684475\n",
            "Loss at epo 18: 0.05376610544062374\n",
            "Loss at epo 19: 0.05332469006118187\n",
            "Accuracy_cfg: 0.772\n"
          ],
          "name": "stdout"
        }
      ]
    },
    {
      "cell_type": "code",
      "metadata": {
        "id": "6lRNmmkLSqY1",
        "colab_type": "code",
        "outputId": "1f69e0f7-1f94-413a-c616-7f78aaad4f29",
        "colab": {
          "base_uri": "https://localhost:8080/",
          "height": 281
        }
      },
      "source": [
        "\n",
        "import matplotlib.pyplot as plt\n",
        "plt.plot(list(range(0, len(loss_ast))), loss_ast, label='AST')\n",
        "plt.plot(list(range(0, len(loss_sr))), loss_sr, label='Source code')\n",
        "plt.plot(list(range(0, len(loss_cfg))), loss_cfg, label='CFG')\n",
        "plt.legend()\n",
        "plt.title('Train Losses')\n",
        "plt.show()\n",
        "#Accuracy for cfg = 0.73"
      ],
      "execution_count": 41,
      "outputs": [
        {
          "output_type": "display_data",
          "data": {
            "image/png": "[encoded data removed]",
            "text/plain": [
              "<Figure size 432x288 with 1 Axes>"
            ]
          },
          "metadata": {
            "tags": [],
            "needs_background": "light"
          }
        }
      ]
    }
  ]
}