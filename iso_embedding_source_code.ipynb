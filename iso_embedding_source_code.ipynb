{
  "nbformat": 4,
  "nbformat_minor": 0,
  "metadata": {
    "colab": {
      "name": "iso_embedding_source_code.ipynb",
      "provenance": [],
      "collapsed_sections": [],
      "authorship_tag": "ABX9TyMOjsbpELrYKtac0oSKVCb0",
      "include_colab_link": true
    },
    "kernelspec": {
      "name": "python3",
      "display_name": "Python 3"
    }
  },
  "cells": [
    {
      "cell_type": "markdown",
      "metadata": {
        "id": "view-in-github",
        "colab_type": "text"
      },
      "source": [
        "<a href=\"https://colab.research.google.com/github/yifan-zhou19/iso/blob/master/iso_embedding_source_code.ipynb\" target=\"_parent\"><img src=\"https://colab.research.google.com/assets/colab-badge.svg\" alt=\"Open In Colab\"/></a>"
      ]
    },
    {
      "cell_type": "code",
      "metadata": {
        "id": "F4lrkhKdSu_k",
        "colab_type": "code",
        "colab": {}
      },
      "source": [
        "from os.path import exists\n",
        "\n",
        "if not exists('astcfg.zip'):\n",
        "    !wget -O astcfg.zip https://raw.githubusercontent.com/yifan-zhou19/iso/master/AST_CFG.zip\n",
        "    !unzip astcfg.zip"
      ],
      "execution_count": 0,
      "outputs": []
    },
    {
      "cell_type": "markdown",
      "metadata": {
        "id": "J5BsWqEAW1Ov",
        "colab_type": "text"
      },
      "source": [
        "### **Source Code Embedding**"
      ]
    },
    {
      "cell_type": "code",
      "metadata": {
        "id": "L72jR1cjTl11",
        "colab_type": "code",
        "colab": {}
      },
      "source": [
        "# source code\n",
        "import os.path\n",
        "import re\n",
        "source_code={78:'CWE78_ast',80:'CWE80_ast',89:'CWE89_ast'}\n",
        "def eachFile(filepath):\n",
        "  pathDir =  os.listdir(filepath)\n",
        "  files = []\n",
        "  for allDir in pathDir:\n",
        "    child = os.path.join('%s/%s' % (filepath, allDir))\n",
        "    \n",
        "    files.append(child)\n",
        "  return files\n",
        "root_dir = './AST_CFG/' # refer root dir\n",
        "# get labelled data for source codes\n",
        "files78 = eachFile(root_dir+source_code[78])\n",
        "files80 = eachFile(root_dir+source_code[80])\n",
        "files89 = eachFile(root_dir+source_code[89])\n",
        "files=files78[:700]+files80[:700]+files89[:700]\n",
        "labels=[1]*700+[2]*700+[3]*700\n",
        "\n",
        "\n"
      ],
      "execution_count": 0,
      "outputs": []
    },
    {
      "cell_type": "code",
      "metadata": {
        "id": "FIIX3j54bYYL",
        "colab_type": "code",
        "outputId": "81a1b057-1b0d-4c04-ab54-90753302d389",
        "colab": {
          "base_uri": "https://localhost:8080/",
          "height": 55
        }
      },
      "source": [
        "def extract_source_code(file):\n",
        "  results = []\n",
        "  with open(file, \"r\") as f:\n",
        "    for line in f.readlines()[2:]:\n",
        "      #print(line)\n",
        "      result = re.search(r'\\b(n\\w+)(\\s+\\[label=\")([\\w:\\s\\S]+)\\b',line)\n",
        "      if result != None:\n",
        "         results.append(result.group(3))\n",
        "    return results\n",
        "\n",
        "\n",
        "\n",
        "       \n",
        "print(extract_source_code(files[1]))\n",
        "\n"
      ],
      "execution_count": 3,
      "outputs": [
        {
          "output_type": "stream",
          "text": [
            "['ROOT: CWE78_OS_Command_Injection__getCookies_Servlet_01.java', 'PACKAGE: testcases.CWE78_OS_Command_Injection', 'IMPORTS', 'IMPORT: testcasesupport', 'IMPORT: javax.servlet.http', 'CLASS', 'MODIFIER: public', 'NAME: CWE78_OS_Command_Injection__getCookies_Servlet_01', 'EXTENDS: AbstractTestCaseServlet', 'METHOD', 'MODIFIER: public', 'RETURN: void', 'NAME: bad', 'PARAMS', 'VAR', 'TYPE: HttpServletRequest', 'NAME: request', 'VAR', 'TYPE: HttpServletResponse', 'NAME: response', 'BLOCK', 'VAR', 'TYPE: String', 'NAME: data', '30:  data', 'VAR', 'TYPE: Cookie', 'NAME: cookieSources', 'INIT: = request.getCookies', 'IF', 'COND: cookieSources != null', 'THEN', '38:  data = cookieSources[0].getValue', 'VAR', 'TYPE: String', 'NAME: osCommand', 'IF', \"COND: System.getProperty('os.name').toLowerCase().indexOf('win') >= 0\", 'THEN', \"46:  osCommand = 'c:\\\\\\\\\\\\\\\\WINDOWS\\\\\\\\\\\\\\\\SYSTEM32\\\\\\\\\\\\\\\\cmd.exe /c dir\", 'ELSE', \"51:  osCommand = '/bin/ls\", 'VAR', 'TYPE: Process', 'NAME: process', 'INIT: = Runtime.getRuntime().exec(osCommand + data', '56:  process.waitFor', 'METHOD', 'MODIFIER: public', 'RETURN: void', 'NAME: good', 'PARAMS', 'VAR', 'TYPE: HttpServletRequest', 'NAME: request', 'VAR', 'TYPE: HttpServletResponse', 'NAME: response', 'BLOCK', '62:  goodG2B(request, response', 'METHOD', 'MODIFIER: private', 'RETURN: void', 'NAME: goodG2B', 'PARAMS', 'VAR', 'TYPE: HttpServletRequest', 'NAME: request', 'VAR', 'TYPE: HttpServletResponse', 'NAME: response', 'BLOCK', 'VAR', 'TYPE: String', 'NAME: data', \"71:  data = 'foo\", 'VAR', 'TYPE: String', 'NAME: osCommand', 'IF', \"COND: System.getProperty('os.name').toLowerCase().indexOf('win') >= 0\", 'THEN', \"77:  osCommand = 'c:\\\\\\\\\\\\\\\\WINDOWS\\\\\\\\\\\\\\\\SYSTEM32\\\\\\\\\\\\\\\\cmd.exe /c dir\", 'ELSE', \"82:  osCommand = '/bin/ls\", 'VAR', 'TYPE: Process', 'NAME: process', 'INIT: = Runtime.getRuntime().exec(osCommand + data', '87:  process.waitFor', 'METHOD', 'MODIFIER: public static', 'RETURN: void', 'NAME: main', 'PARAMS', 'VAR', 'TYPE: String', 'NAME: args', 'BLOCK', '99:  mainFromParent(args']\n"
          ],
          "name": "stdout"
        }
      ]
    },
    {
      "cell_type": "code",
      "metadata": {
        "id": "Dr5skrLqH2r8",
        "colab_type": "code",
        "outputId": "5929599a-98d1-4077-d2b1-c28c1ee3b8c5",
        "colab": {
          "base_uri": "https://localhost:8080/",
          "height": 91
        }
      },
      "source": [
        "\n",
        "\n",
        "re_punctuation_string = '[()\\s,/.\\'_:]'\n",
        "remove_token=['',' ',',',':','\\n',';']\n",
        "\n",
        "programs=[]\n",
        "vocabulary = []\n",
        "for f in files:\n",
        "  lines = extract_source_code(f)\n",
        "  program=[]\n",
        "  for line in lines:\n",
        "    statement=[token for token in re.split(re_punctuation_string,line)if token not in remove_token]\n",
        "    program.append(statement)\n",
        "  programs.append(program[2:])\n",
        "  for s in program[2:]:\n",
        "        for t in s:\n",
        "           if t not in vocabulary:\n",
        "             vocabulary.append(t) \n",
        "print(programs[1])\n",
        "print(len(programs))\n",
        "print(len(vocabulary))"
      ],
      "execution_count": 4,
      "outputs": [
        {
          "output_type": "stream",
          "text": [
            "[['IMPORTS'], ['IMPORT', 'testcasesupport'], ['IMPORT', 'javax', 'servlet', 'http'], ['CLASS'], ['MODIFIER', 'public'], ['NAME', 'CWE78', 'OS', 'Command', 'Injection', 'getCookies', 'Servlet', '01'], ['EXTENDS', 'AbstractTestCaseServlet'], ['METHOD'], ['MODIFIER', 'public'], ['RETURN', 'void'], ['NAME', 'bad'], ['PARAMS'], ['VAR'], ['TYPE', 'HttpServletRequest'], ['NAME', 'request'], ['VAR'], ['TYPE', 'HttpServletResponse'], ['NAME', 'response'], ['BLOCK'], ['VAR'], ['TYPE', 'String'], ['NAME', 'data'], ['30', 'data'], ['VAR'], ['TYPE', 'Cookie'], ['NAME', 'cookieSources'], ['INIT', '=', 'request', 'getCookies'], ['IF'], ['COND', 'cookieSources', '!=', 'null'], ['THEN'], ['38', 'data', '=', 'cookieSources[0]', 'getValue'], ['VAR'], ['TYPE', 'String'], ['NAME', 'osCommand'], ['IF'], ['COND', 'System', 'getProperty', 'os', 'name', 'toLowerCase', 'indexOf', 'win', '>=', '0'], ['THEN'], ['46', 'osCommand', '=', 'c', '\\\\\\\\\\\\\\\\WINDOWS\\\\\\\\\\\\\\\\SYSTEM32\\\\\\\\\\\\\\\\cmd', 'exe', 'c', 'dir'], ['ELSE'], ['51', 'osCommand', '=', 'bin', 'ls'], ['VAR'], ['TYPE', 'Process'], ['NAME', 'process'], ['INIT', '=', 'Runtime', 'getRuntime', 'exec', 'osCommand', '+', 'data'], ['56', 'process', 'waitFor'], ['METHOD'], ['MODIFIER', 'public'], ['RETURN', 'void'], ['NAME', 'good'], ['PARAMS'], ['VAR'], ['TYPE', 'HttpServletRequest'], ['NAME', 'request'], ['VAR'], ['TYPE', 'HttpServletResponse'], ['NAME', 'response'], ['BLOCK'], ['62', 'goodG2B', 'request', 'response'], ['METHOD'], ['MODIFIER', 'private'], ['RETURN', 'void'], ['NAME', 'goodG2B'], ['PARAMS'], ['VAR'], ['TYPE', 'HttpServletRequest'], ['NAME', 'request'], ['VAR'], ['TYPE', 'HttpServletResponse'], ['NAME', 'response'], ['BLOCK'], ['VAR'], ['TYPE', 'String'], ['NAME', 'data'], ['71', 'data', '=', 'foo'], ['VAR'], ['TYPE', 'String'], ['NAME', 'osCommand'], ['IF'], ['COND', 'System', 'getProperty', 'os', 'name', 'toLowerCase', 'indexOf', 'win', '>=', '0'], ['THEN'], ['77', 'osCommand', '=', 'c', '\\\\\\\\\\\\\\\\WINDOWS\\\\\\\\\\\\\\\\SYSTEM32\\\\\\\\\\\\\\\\cmd', 'exe', 'c', 'dir'], ['ELSE'], ['82', 'osCommand', '=', 'bin', 'ls'], ['VAR'], ['TYPE', 'Process'], ['NAME', 'process'], ['INIT', '=', 'Runtime', 'getRuntime', 'exec', 'osCommand', '+', 'data'], ['87', 'process', 'waitFor'], ['METHOD'], ['MODIFIER', 'public', 'static'], ['RETURN', 'void'], ['NAME', 'main'], ['PARAMS'], ['VAR'], ['TYPE', 'String'], ['NAME', 'args'], ['BLOCK'], ['99', 'mainFromParent', 'args']]\n",
            "2100\n",
            "1639\n"
          ],
          "name": "stdout"
        }
      ]
    },
    {
      "cell_type": "code",
      "metadata": {
        "id": "gH_K77L0Msyp",
        "colab_type": "code",
        "outputId": "3c334de4-4676-4156-e0db-9839b30e287d",
        "colab": {
          "base_uri": "https://localhost:8080/",
          "height": 73
        }
      },
      "source": [
        "# shuffle data\n",
        "import random\n",
        "randnum = random.randint(0,100)\n",
        "random.seed(randnum)\n",
        "random.shuffle(programs)\n",
        "random.seed(randnum)\n",
        "random.shuffle(labels)\n",
        "training_data = []\n",
        "for i in range(1600):\n",
        "  training_data.append((programs[i],labels[i]))\n",
        "print(training_data[0])\n",
        "eval_data=[]\n",
        "for i in range(1600,2100):\n",
        "  eval_data.append((programs[i],labels[i]))\n",
        "print(eval_data[0])"
      ],
      "execution_count": 14,
      "outputs": [
        {
          "output_type": "stream",
          "text": [
            "([['IMPORTS'], ['IMPORT', 'testcasesupport'], ['IMPORT', 'javax', 'servlet', 'http'], ['IMPORT', 'java', 'util', 'StringTokenizer'], ['CLASS'], ['MODIFIER', 'public'], ['NAME', 'CWE78', 'OS', 'Command', 'Injection', 'getQueryString', 'Servlet', '53a'], ['EXTENDS', 'AbstractTestCaseServlet'], ['METHOD'], ['MODIFIER', 'public'], ['RETURN', 'void'], ['NAME', 'bad'], ['PARAMS'], ['VAR'], ['TYPE', 'HttpServletRequest'], ['NAME', 'request'], ['VAR'], ['TYPE', 'HttpServletResponse'], ['NAME', 'response'], ['BLOCK'], ['VAR'], ['TYPE', 'String'], ['NAME', 'data'], ['31', 'data'], ['VAR'], ['TYPE', 'StringTokenizer'], ['NAME', 'tokenizer'], ['INIT', '=', 'new', 'StringTokenizer', 'request', 'getQueryString'], ['WHILE'], ['COND', 'tokenizer', 'hasMoreTokens'], ['BLOCK'], ['VAR'], ['TYPE', 'String'], ['NAME', 'token'], ['INIT', '=', 'tokenizer', 'nextToken'], ['IF'], ['COND', 'token', 'startsWith', 'id'], ['THEN'], ['41', 'data', '=', 'token', 'substring', '3'], ['42', 'break'], ['47', 'new', 'CWE78', 'OS', 'Command', 'Injection', 'getQueryString', 'Servlet', '53b', 'badSink', 'data', 'request', 'response'], ['METHOD'], ['MODIFIER', 'public'], ['RETURN', 'void'], ['NAME', 'good'], ['PARAMS'], ['VAR'], ['TYPE', 'HttpServletRequest'], ['NAME', 'request'], ['VAR'], ['TYPE', 'HttpServletResponse'], ['NAME', 'response'], ['BLOCK'], ['52', 'goodG2B', 'request', 'response'], ['METHOD'], ['MODIFIER', 'private'], ['RETURN', 'void'], ['NAME', 'goodG2B'], ['PARAMS'], ['VAR'], ['TYPE', 'HttpServletRequest'], ['NAME', 'request'], ['VAR'], ['TYPE', 'HttpServletResponse'], ['NAME', 'response'], ['BLOCK'], ['VAR'], ['TYPE', 'String'], ['NAME', 'data'], ['61', 'data', '=', 'foo'], ['63', 'new', 'CWE78', 'OS', 'Command', 'Injection', 'getQueryString', 'Servlet', '53b', 'goodG2BSink', 'data', 'request', 'response'], ['METHOD'], ['MODIFIER', 'public', 'static'], ['RETURN', 'void'], ['NAME', 'main'], ['PARAMS'], ['VAR'], ['TYPE', 'String'], ['NAME', 'args'], ['BLOCK'], ['74', 'mainFromParent', 'args']], 1)\n",
            "([['IMPORTS'], ['IMPORT', 'testcasesupport'], ['IMPORT', 'javax', 'servlet', 'http'], ['CLASS'], ['MODIFIER', 'public'], ['NAME', 'CWE80', 'XSS', 'CWE182', 'Servlet', 'listen', 'tcp', '53d'], ['METHOD'], ['MODIFIER', 'public'], ['RETURN', 'void'], ['NAME', 'badSink'], ['PARAMS'], ['VAR'], ['TYPE', 'String'], ['NAME', 'data'], ['VAR'], ['TYPE', 'HttpServletRequest'], ['NAME', 'request'], ['VAR'], ['TYPE', 'HttpServletResponse'], ['NAME', 'response'], ['BLOCK'], ['IF'], ['COND', 'data', '!=', 'null'], ['THEN'], ['30', 'response', 'getWriter', 'println', '<br>bad', 'data', '=', '+', 'data', 'replaceAll', '<script'], ['METHOD'], ['MODIFIER', 'public'], ['RETURN', 'void'], ['NAME', 'goodG2BSink'], ['PARAMS'], ['VAR'], ['TYPE', 'String'], ['NAME', 'data'], ['VAR'], ['TYPE', 'HttpServletRequest'], ['NAME', 'request'], ['VAR'], ['TYPE', 'HttpServletResponse'], ['NAME', 'response'], ['BLOCK'], ['IF'], ['COND', 'data', '!=', 'null'], ['THEN'], ['42', 'response', 'getWriter', 'println', '<br>bad', 'data', '=', '+', 'data', 'replaceAll', '<script']], 2)\n"
          ],
          "name": "stdout"
        }
      ]
    },
    {
      "cell_type": "code",
      "metadata": {
        "id": "dT2peqieS80-",
        "colab_type": "code",
        "outputId": "220cecab-d16c-4c9e-ac02-302062627602",
        "colab": {
          "base_uri": "https://localhost:8080/",
          "height": 35
        }
      },
      "source": [
        "import torch\n",
        "import torch.nn as nn\n",
        "import torch.nn.functional as F\n",
        "import torch.optim as optim\n",
        "#look up table  \n",
        "#using one-hot embedding\n",
        "vocabulary_size = len(vocabulary)\n",
        "def look_up_table(word_idx):\n",
        "  x = torch.zeros(vocabulary_size).long()\n",
        "  x[word_idx] = 1.0\n",
        "  return x\n",
        "word2idx = {w: idx +1 for (idx, w) in enumerate(vocabulary)}\n",
        "idx2word = {idx+1: w for (idx, w) in enumerate(vocabulary)}\n",
        "print(look_up_table(word2idx['!=']))"
      ],
      "execution_count": 6,
      "outputs": [
        {
          "output_type": "stream",
          "text": [
            "tensor([0, 0, 0,  ..., 0, 0, 0])\n"
          ],
          "name": "stdout"
        }
      ]
    },
    {
      "cell_type": "code",
      "metadata": {
        "id": "uZYuLKOcTIDy",
        "colab_type": "code",
        "outputId": "27b6a32a-3a81-4345-927d-c97bcdb471b4",
        "colab": {
          "base_uri": "https://localhost:8080/",
          "height": 1000
        }
      },
      "source": [
        "context_size = 100\n",
        "def get_source_context(program):\n",
        "  id = 0\n",
        "  contexts =torch.zeros(context_size,1).long()\n",
        "\n",
        "  for p in program:\n",
        "    if id < context_size:\n",
        "      num = 0\n",
        "      for t in p:\n",
        "        contexts[id]=contexts[id]+word2idx[t]\n",
        "        num = num + 1\n",
        "      contexts[id] = contexts[id]/num # average\n",
        "    id = id + 1\n",
        "  return contexts\n",
        "print(get_source_context(programs[0]))\n",
        "#print(len(programs[1]))"
      ],
      "execution_count": 7,
      "outputs": [
        {
          "output_type": "stream",
          "text": [
            "tensor([[  1],\n",
            "        [  2],\n",
            "        [  4],\n",
            "        [196],\n",
            "        [196],\n",
            "        [196],\n",
            "        [196],\n",
            "        [ 11],\n",
            "        [ 18],\n",
            "        [ 19],\n",
            "        [623],\n",
            "        [ 29],\n",
            "        [ 31],\n",
            "        [ 19],\n",
            "        [ 60],\n",
            "        [ 55],\n",
            "        [ 36],\n",
            "        [ 37],\n",
            "        [ 36],\n",
            "        [ 30],\n",
            "        [ 39],\n",
            "        [ 37],\n",
            "        [213],\n",
            "        [208],\n",
            "        [ 43],\n",
            "        [ 37],\n",
            "        [213],\n",
            "        [208],\n",
            "        [ 43],\n",
            "        [ 37],\n",
            "        [214],\n",
            "        [209],\n",
            "        [ 43],\n",
            "        [ 48],\n",
            "        [ 36],\n",
            "        [227],\n",
            "        [322],\n",
            "        [277],\n",
            "        [217],\n",
            "        [ 60],\n",
            "        [214],\n",
            "        [214],\n",
            "        [ 36],\n",
            "        [170],\n",
            "        [ 71],\n",
            "        [ 48],\n",
            "        [ 36],\n",
            "        [ 72],\n",
            "        [147],\n",
            "        [ 75],\n",
            "        [238],\n",
            "        [ 60],\n",
            "        [214],\n",
            "        [214],\n",
            "        [ 36],\n",
            "        [145],\n",
            "        [ 48],\n",
            "        [ 36],\n",
            "        [ 72],\n",
            "        [146],\n",
            "        [ 75],\n",
            "        [238],\n",
            "        [ 60],\n",
            "        [214],\n",
            "        [214],\n",
            "        [ 36],\n",
            "        [146],\n",
            "        [ 48],\n",
            "        [ 36],\n",
            "        [ 72],\n",
            "        [146],\n",
            "        [ 75],\n",
            "        [238],\n",
            "        [ 60],\n",
            "        [214],\n",
            "        [214],\n",
            "        [ 36],\n",
            "        [146],\n",
            "        [481],\n",
            "        [ 31],\n",
            "        [ 19],\n",
            "        [ 60],\n",
            "        [ 73],\n",
            "        [ 36],\n",
            "        [184],\n",
            "        [793],\n",
            "        [ 31],\n",
            "        [ 25],\n",
            "        [ 60],\n",
            "        [ 71],\n",
            "        [ 36],\n",
            "        [ 37],\n",
            "        [ 36],\n",
            "        [ 30],\n",
            "        [ 93],\n",
            "        [490],\n",
            "        [ 31],\n",
            "        [ 25],\n",
            "        [ 60],\n",
            "        [761]])\n"
          ],
          "name": "stdout"
        }
      ]
    },
    {
      "cell_type": "code",
      "metadata": {
        "id": "K2AfxrzcTUtL",
        "colab_type": "code",
        "colab": {}
      },
      "source": [
        "\n",
        "torch.manual_seed(1)\n",
        "embedding_dim =5\n",
        "\n",
        "class FFNN(nn.Module):\n",
        "  def __init__(self, vocab_size, embedding_dim):\n",
        "    super(FFNN, self).__init__()\n",
        "    self.embeddings = nn.Embedding(vocab_size, embedding_dim)\n",
        "    self.linear1 = nn.Linear(embedding_dim*context_size,3)\n",
        "  def forward(self, inputs):\n",
        "    #print(inputs.size())\n",
        "    embeds = self.embeddings(inputs.view(-1))\n",
        "    #print(embeds)\n",
        "    out = F.relu(self.linear1(embeds.view(-1)))\n",
        "    out = F.softmax(out,dim=0)\n",
        "    return out\n",
        "\n",
        "\n",
        "\n",
        "\n",
        "\n",
        "\n"
      ],
      "execution_count": 0,
      "outputs": []
    },
    {
      "cell_type": "code",
      "metadata": {
        "id": "5TQ5-cFHTWRJ",
        "colab_type": "code",
        "outputId": "946aec98-9703-4eee-92d3-ac70ba49f61a",
        "colab": {
          "base_uri": "https://localhost:8080/",
          "height": 215
        }
      },
      "source": [
        "\n",
        "loss_function = nn.BCELoss()\n",
        "model_sc = FFNN(vocabulary_size*2, embedding_dim)\n",
        "optimizer_ffnn = optim.Adam(model_sc.parameters(), lr=0.001)\n",
        "params = sum(p.numel() for p in model_sc.parameters() if p.requires_grad)\n",
        "print(\"Total number of parameters for FFNN is: {}\".format(params))\n",
        "\n",
        "loss_ffnn=[]\n",
        "for epoch in range(10):\n",
        "  losses = 0\n",
        "  for program, label in training_data:\n",
        "   # print(program)\n",
        "   # print(label)\n",
        "   if label ==1:\n",
        "     out_labels = torch.FloatTensor([1,0,0])\n",
        "   elif label == 2:\n",
        "     out_labels  = torch.FloatTensor([0,1,0])\n",
        "   elif label == 3:\n",
        "     out_labels  = torch.FloatTensor([0,0,1])\n",
        "\n",
        "   context_idx = get_source_context(program)\n",
        "   model_sc.zero_grad()\n",
        "   out = model_sc(context_idx)\n",
        "   #print(out.size())\n",
        "   #print(f'Out {out},lables{out_labels}')\n",
        "   #print(out_labels)\n",
        "   loss = loss_function(out, out_labels )\n",
        "   #print(f'Loss {loss.item()}')\n",
        "   loss.backward()\n",
        "   optimizer_ffnn.step()\n",
        "   #print(f'Loss {loss.item()}')\n",
        "   losses +=loss.item()\n",
        "  print(f'Loss at epo {epoch}: {losses/len(training_data)}')\n",
        "  loss_ffnn.append(losses/len(training_data))"
      ],
      "execution_count": 17,
      "outputs": [
        {
          "output_type": "stream",
          "text": [
            "Total number of parameters for FFNN is: 17893\n",
            "Loss at epo 0: 0.44911572065524524\n",
            "Loss at epo 1: 0.24516738509571043\n",
            "Loss at epo 2: 0.1631377903405996\n",
            "Loss at epo 3: 0.13171173514439205\n",
            "Loss at epo 4: 0.11373502159176418\n",
            "Loss at epo 5: 0.10234942780521183\n",
            "Loss at epo 6: 0.09316430195718672\n",
            "Loss at epo 7: 0.08931855525913873\n",
            "Loss at epo 8: 0.08571569878401891\n",
            "Loss at epo 9: 0.08111993514433863\n"
          ],
          "name": "stdout"
        }
      ]
    },
    {
      "cell_type": "code",
      "metadata": {
        "id": "n9ziOSXlTeC0",
        "colab_type": "code",
        "outputId": "20aed6d3-9f94-4dd8-f7f1-a3ace39bd144",
        "colab": {
          "base_uri": "https://localhost:8080/",
          "height": 35
        }
      },
      "source": [
        "with torch.no_grad():\n",
        "  accu=0\n",
        "  for program, label in eval_data:\n",
        "   # print(program)\n",
        "   # print(label)\n",
        "   context_idx = get_source_context(program)\n",
        "   model_sc.zero_grad()\n",
        "   out = model_sc(context_idx)\n",
        "  # print(f'{out}:{label}')\n",
        "\n",
        "   if(out[0]>(1/3)):\n",
        "     if(label == 1):\n",
        "       accu = accu +1\n",
        "   elif(out[1]>(1/3)):\n",
        "     if(label == 2):\n",
        "       accu = accu +1\n",
        "   elif(out[2]>(1/3)):\n",
        "     if(label == 3):\n",
        "       accu = accu +1\n",
        "\n",
        "  print(f'Accuracy_source_code: {accu/(len(eval_data))}') \n",
        "#  print(f'Precision_ffnn: {pre}')\n",
        "#  print(f'Recall_ffnn: {re}')\n",
        "#  print(f'F1_ffnn: {2*(pre*re/(pre+re))}') "
      ],
      "execution_count": 18,
      "outputs": [
        {
          "output_type": "stream",
          "text": [
            "Accuracy_source_code: 0.852\n"
          ],
          "name": "stdout"
        }
      ]
    },
    {
      "cell_type": "markdown",
      "metadata": {
        "id": "IZ6Zw6L1lvLs",
        "colab_type": "text"
      },
      "source": [
        "## **AST Embedding**"
      ]
    },
    {
      "cell_type": "code",
      "metadata": {
        "id": "AyjB1Gmclys4",
        "colab_type": "code",
        "colab": {}
      },
      "source": [
        ""
      ],
      "execution_count": 0,
      "outputs": []
    }
  ]
}