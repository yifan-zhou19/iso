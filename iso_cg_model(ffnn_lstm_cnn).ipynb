{
  "nbformat": 4,
  "nbformat_minor": 0,
  "metadata": {
    "colab": {
      "name": "iso_cg_model(ffnn lstm cnn).ipynb",
      "provenance": [],
      "collapsed_sections": [],
      "authorship_tag": "ABX9TyM/h7NVbB67WlsWldtrMxvI",
      "include_colab_link": true
    },
    "kernelspec": {
      "name": "python3",
      "display_name": "Python 3"
    },
    "accelerator": "GPU"
  },
  "cells": [
    {
      "cell_type": "markdown",
      "metadata": {
        "id": "view-in-github",
        "colab_type": "text"
      },
      "source": [
        "<a href=\"https://colab.research.google.com/github/yifan-zhou19/iso/blob/master/iso_cg_model(ffnn_lstm_cnn).ipynb\" target=\"_parent\"><img src=\"https://colab.research.google.com/assets/colab-badge.svg\" alt=\"Open In Colab\"/></a>"
      ]
    },
    {
      "cell_type": "code",
      "metadata": {
        "id": "UzDaPftitlyt",
        "colab_type": "code",
        "colab": {
          "base_uri": "https://localhost:8080/",
          "height": 53
        },
        "outputId": "adb52f6c-1e9d-4df7-a513-a9f5db58f959"
      },
      "source": [
        "import torch\n",
        "cuda = True if torch.cuda.is_available() else False\n",
        "print(cuda)\n",
        "GPU = True\n",
        "device_idx = 0\n",
        "if GPU:\n",
        "    device = torch.device(\"cuda:\" + str(device_idx) if torch.cuda.is_available() else \"cpu\")\n",
        "else:\n",
        "    device = torch.device(\"cpu\")\n",
        "print(device)"
      ],
      "execution_count": 137,
      "outputs": [
        {
          "output_type": "stream",
          "text": [
            "True\n",
            "cuda:0\n"
          ],
          "name": "stdout"
        }
      ]
    },
    {
      "cell_type": "code",
      "metadata": {
        "id": "x2P3QMOEIjA8",
        "colab_type": "code",
        "outputId": "d50a7922-25c1-49f5-ed7f-916be1f6d9fb",
        "colab": {
          "base_uri": "https://localhost:8080/",
          "height": 269
        }
      },
      "source": [
        "##################\n",
        "# DATA IMPORTING #\n",
        "##################\n",
        "\n",
        "from os.path import exists\n",
        "\n",
        "!wget -O cwe119_cgd.txt https://raw.githubusercontent.com/CGCL-codes/VulDeePecker/master/CWE-119/CGD/cwe119_cgd.txt\n",
        "\n",
        "print()\n",
        "\n",
        "with open(\"./cwe119_cgd.txt\", \"r\") as cgd:\n",
        "  print(\"Source: \",cgd.readline())"
      ],
      "execution_count": 4,
      "outputs": [
        {
          "output_type": "stream",
          "text": [
            "--2020-04-28 12:17:32--  https://raw.githubusercontent.com/CGCL-codes/VulDeePecker/master/CWE-119/CGD/cwe119_cgd.txt\n",
            "Resolving raw.githubusercontent.com (raw.githubusercontent.com)... 151.101.0.133, 151.101.64.133, 151.101.128.133, ...\n",
            "Connecting to raw.githubusercontent.com (raw.githubusercontent.com)|151.101.0.133|:443... connected.\n",
            "HTTP request sent, awaiting response... 200 OK\n",
            "Length: 17202057 (16M) [text/plain]\n",
            "Saving to: ‘cwe119_cgd.txt’\n",
            "\n",
            "\rcwe119_cgd.txt        0%[                    ]       0  --.-KB/s               \rcwe119_cgd.txt       36%[======>             ]   5.97M  29.8MB/s               \rcwe119_cgd.txt      100%[===================>]  16.40M  53.5MB/s    in 0.3s    \n",
            "\n",
            "2020-04-28 12:17:34 (53.5 MB/s) - ‘cwe119_cgd.txt’ saved [17202057/17202057]\n",
            "\n",
            "\n",
            "Source:  1 CVE-2010-1444/vlc_media_player_1.1.0_CVE-2010-1444_zipstream.c cfunc 449\n",
            "\n"
          ],
          "name": "stdout"
        }
      ]
    },
    {
      "cell_type": "code",
      "metadata": {
        "id": "9fBY-ym7MqoH",
        "colab_type": "code",
        "outputId": "3e0203da-5f44-4d78-e18b-4563636f101a",
        "colab": {
          "base_uri": "https://localhost:8080/",
          "height": 53
        }
      },
      "source": [
        "import re\n",
        "re_punctuation_string = '[()\\s,/.\\']'\n",
        "programs=[]\n",
        "program = []\n",
        "statement=[]\n",
        "labels = []\n",
        "vocabulary = [] \n",
        "remove_token=['',' ',',','NULL','\\n',';']\n",
        "with open(\"./cwe119_cgd.txt\", \"r\") as cgd:\n",
        "  lines = cgd.readlines()\n",
        "  for line in lines:\n",
        "    statement=[token for token in re.split(re_punctuation_string,line)if token not in remove_token]\n",
        "    #print(statement)\n",
        "    if statement == ['---------------------------------']:\n",
        "      if program[-1] == ['0']:\n",
        "        labels.append(0)\n",
        "      elif program[-1] == ['1']:\n",
        "        labels.append(1)\n",
        "      programs.append(program[1:-2])\n",
        "      for s in program[1:]:\n",
        "        for t in s:\n",
        "           if t not in vocabulary:\n",
        "             vocabulary.append(t)\n",
        "      #print(program)\n",
        "      program = []\n",
        "    else:\n",
        "      program.append(statement)\n",
        "\n",
        "print(len(labels))\n",
        "\n",
        "\n",
        "  \n",
        "print(len(vocabulary))\n",
        "   "
      ],
      "execution_count": 86,
      "outputs": [
        {
          "output_type": "stream",
          "text": [
            "39753\n",
            "22631\n"
          ],
          "name": "stdout"
        }
      ]
    },
    {
      "cell_type": "code",
      "metadata": {
        "id": "Hoxbji00476j",
        "colab_type": "code",
        "colab": {}
      },
      "source": [
        "# shuffle data\n",
        "import random\n",
        "randnum = random.randint(0,100)\n",
        "random.seed(randnum)\n",
        "random.shuffle(programs)\n",
        "random.seed(randnum)\n",
        "random.shuffle(labels)"
      ],
      "execution_count": 0,
      "outputs": []
    },
    {
      "cell_type": "code",
      "metadata": {
        "id": "HFj_HuQc1k3A",
        "colab_type": "code",
        "outputId": "191c062d-d7f2-4026-d254-608ef5da5ecb",
        "colab": {
          "base_uri": "https://localhost:8080/",
          "height": 53
        }
      },
      "source": [
        "#print(vocabulary[:20])\n",
        "print(len([one for one in labels[:10000] if one == 1 ]))\n",
        "print(len([zero for zero in labels[:10000] if zero == 0 ]))"
      ],
      "execution_count": 88,
      "outputs": [
        {
          "output_type": "stream",
          "text": [
            "2613\n",
            "7387\n"
          ],
          "name": "stdout"
        }
      ]
    },
    {
      "cell_type": "code",
      "metadata": {
        "id": "9RRoEHvz3RFz",
        "colab_type": "code",
        "outputId": "64097504-3270-4a24-cc95-dbd2d7f97efa",
        "colab": {
          "base_uri": "https://localhost:8080/",
          "height": 53
        }
      },
      "source": [
        "print(len([one for one in labels[10000:15000] if one == 1 ]))\n",
        "print(len([zero for zero in labels[10000:15000] if zero == 0]))\n"
      ],
      "execution_count": 89,
      "outputs": [
        {
          "output_type": "stream",
          "text": [
            "1318\n",
            "3682\n"
          ],
          "name": "stdout"
        }
      ]
    },
    {
      "cell_type": "code",
      "metadata": {
        "id": "EDhsxT2HATaD",
        "colab_type": "code",
        "outputId": "3e43f855-ba20-4bc1-8c5c-bc41e8d3cf00",
        "colab": {
          "base_uri": "https://localhost:8080/",
          "height": 55
        }
      },
      "source": [
        "training_data = []\n",
        "for i in range(10000):\n",
        "  training_data.append((programs[i],labels[i]))\n",
        "print(training_data[:2])"
      ],
      "execution_count": 90,
      "outputs": [
        {
          "output_type": "stream",
          "text": [
            "[([['#ifdef', '_WIN32'], ['#define', 'SNPRINTF', '_snprintf'], ['#else'], ['#define', 'SNPRINTF', 'snprintf'], ['#endif'], ['char', '*', '*dataPtr1', '=', '&data;'], ['char', '*', '*dataPtr2', '=', '&data;'], ['char', 'dataBuffer[100]', '=', '\"\";'], ['data', '=', 'dataBuffer;'], ['char', '*', 'data', '=', '*dataPtr1;'], ['size_t', 'dataLen', '=', 'strlen', 'data'], ['if', '100-dataLen', '>', '1'], ['if', 'fgets', 'data+dataLen', 'int', '100-dataLen', 'stdin', '!='], ['dataLen', '=', 'strlen', 'data'], ['if', 'dataLen', '>', '0', '&&', 'data[dataLen-1]', '==', '\\\\n'], ['data[dataLen-1]', '=', '\\\\0'], ['else'], ['data[dataLen]', '=', '\\\\0'], ['*dataPtr1', '=', 'data;'], ['char', '*', 'data', '=', '*dataPtr2;'], ['char', 'dest[100]', '=', '\"\";']], 0), ([['ss_tc_root', '=', 'getenv', '\"SS_TC_ROOT\"'], ['if', 'ss_tc_root', '!=', '{'], ['size_dirpath', '=', 'strlen', 'ss_tc_root', '+', 'strlen', '\"testData\"', '+', '2;'], ['dirpath', '=', 'char*', 'malloc', 'size_dirpath', '*', 'sizeof', 'char'], ['if', 'dirpath', '!=', '{'], ['sprintf', 'dirpath', '\"%s', '%s\"', 'ss_tc_root', '\"testData\"'], ['if', 'stat', 'dirpath', '&st', '==', '-1', '{'], ['retval', '=', 'mkdir', 'dirpath', '0700'], ['if', 'retval', '==', '0', '{'], ['size_filepath', '=', 'strlen', 'dirpath', '+', 'strlen', '\"logfile', 'txt\"', '+', '2;'], ['filepath', '=', 'char*', 'malloc', 'size_filepath', '*', 'sizeof', 'char'], ['if', 'filepath', '!=', '{'], ['sprintf', 'filepath', '\"%s', '%s\"', 'dirpath', '\"logfile', 'txt\"'], ['stonesoup_printf_context', '=', 'fopen', 'filepath', '\"w\"'], ['free', 'filepath'], ['free', 'dirpath'], ['if', 'stonesoup_printf_context', '==', '{'], ['stonesoup_setup_printf_context'], ['stonesoup_read_taint', '&metabasis_chincough', '\"GEMMATED_WAYNESBURG\"'], ['stonesoup_buff[stonesoup_oc_i]', '=', 'stonesoup_toupper', 'stonesoup_buff[stonesoup_oc_i]'], ['stonesoup_printf', '\"%s\\\\n\"', 'stonesoup_buff'], ['vfprintf', 'stonesoup_printf_context', 'format', 'argptr'], ['fflush', 'stonesoup_printf_context'], ['stonesoup_printf', '\"%s\\\\n\"', 'stonesoup_buff'], ['stonesoup_close_printf_context'], ['if', 'stonesoup_printf_context', '!=', '&&'], ['stonesoup_printf_context', '!=', 'stderr', '{']], 0)]\n"
          ],
          "name": "stdout"
        }
      ]
    },
    {
      "cell_type": "code",
      "metadata": {
        "id": "FGMHg4rLvs38",
        "colab_type": "code",
        "outputId": "5dc84429-89e6-47cd-f830-008060679f51",
        "colab": {
          "base_uri": "https://localhost:8080/",
          "height": 55
        }
      },
      "source": [
        "eval_data=[]\n",
        "for i in range(10000,15000):\n",
        "  eval_data.append((programs[i],labels[i]))\n",
        "print(eval_data[:2])"
      ],
      "execution_count": 91,
      "outputs": [
        {
          "output_type": "stream",
          "text": [
            "[([['if', 'getenv', '\"STONESOUP_DISABLE_WEAKNESS\"', '==', '||']], 0), ([['ss_tc_root', '=', 'getenv', '\"SS_TC_ROOT\"'], ['size_dirpath', '=', 'strlen', 'ss_tc_root', '+', 'strlen', '\"testData\"', '+', '2;'], ['dirpath', '=', 'char*', 'malloc', 'size_dirpath', '*', 'sizeof', 'char'], ['sprintf', 'dirpath', '\"%s', '%s\"', 'ss_tc_root', '\"testData\"'], ['if', 'stat', 'dirpath', '&st', '==', '-1', '{'], ['retval', '=', 'mkdir', 'dirpath', '0700'], ['size_filepath', '=', 'strlen', 'dirpath', '+', 'strlen', '\"logfile', 'txt\"', '+', '2;'], ['sprintf', 'filepath', '\"%s', '%s\"', 'dirpath', '\"logfile', 'txt\"']], 0)]\n"
          ],
          "name": "stdout"
        }
      ]
    },
    {
      "cell_type": "code",
      "metadata": {
        "id": "5rx9mY-Q3isJ",
        "colab_type": "code",
        "outputId": "a3d75475-5ffa-4683-ce17-c3100863e764",
        "colab": {
          "base_uri": "https://localhost:8080/",
          "height": 35
        }
      },
      "source": [
        "import torch\n",
        "import torch.nn as nn\n",
        "import torch.nn.functional as F\n",
        "import torch.optim as optim\n",
        "#look up table  \n",
        "#using one-hot embedding\n",
        "vocabulary_size = len(vocabulary)\n",
        "def look_up_table(word_idx):\n",
        "  x = torch.zeros(vocabulary_size).long()\n",
        "  x[word_idx] = 1.0\n",
        "  return x\n",
        "word2idx = {w: idx +1 for (idx, w) in enumerate(vocabulary)}\n",
        "idx2word = {idx+1: w for (idx, w) in enumerate(vocabulary)}\n",
        "print(look_up_table(word2idx['1']))"
      ],
      "execution_count": 92,
      "outputs": [
        {
          "output_type": "stream",
          "text": [
            "tensor([0, 0, 0,  ..., 0, 0, 0])\n"
          ],
          "name": "stdout"
        }
      ]
    },
    {
      "cell_type": "code",
      "metadata": {
        "id": "NvyUKYKSHPlR",
        "colab_type": "code",
        "colab": {}
      },
      "source": [
        "\n",
        "context_size = 50\n",
        "def get_programcontext(program):\n",
        "  id = 0\n",
        "  contexts =torch.zeros(context_size,1).long()\n",
        "  for p in program:\n",
        "    for t in p:\n",
        "      if id < context_size:\n",
        "        contexts[id]= word2idx[t]\n",
        "        id = id +1\n",
        "      else:\n",
        "        return contexts\n",
        "  return contexts\n",
        "#get_programcontext(programs[0])"
      ],
      "execution_count": 0,
      "outputs": []
    },
    {
      "cell_type": "code",
      "metadata": {
        "id": "fv6gDZNAzBGZ",
        "colab_type": "code",
        "colab": {
          "base_uri": "https://localhost:8080/",
          "height": 53
        },
        "outputId": "bdbff214-f8ef-4030-c4c2-b36f1cf95fef"
      },
      "source": [
        "max_len = 0\n",
        "mean_len = 0\n",
        "l_big = 0\n",
        "l_small = 0\n",
        "for p in programs:\n",
        "  con= get_programcontext(p)\n",
        "  if con[context_size-1]>0:\n",
        "    l_big = l_big +1\n",
        "  else:\n",
        "    l_small = l_small +1\n",
        "\n",
        "  #print(l)\n",
        "\n",
        "print(l_big/len(programs))\n",
        "print(l_small/len(programs))"
      ],
      "execution_count": 156,
      "outputs": [
        {
          "output_type": "stream",
          "text": [
            "0.17659044600407517\n",
            "0.8234095539959249\n"
          ],
          "name": "stdout"
        }
      ]
    },
    {
      "cell_type": "code",
      "metadata": {
        "id": "ICfbHSXT5BLH",
        "colab_type": "code",
        "outputId": "2d8d1af5-3616-4f5c-903e-2a36f77a6247",
        "colab": {
          "base_uri": "https://localhost:8080/",
          "height": 35
        }
      },
      "source": [
        "\n",
        "\n",
        "torch.manual_seed(1)\n",
        "embedding_dim =10\n",
        "\n",
        "hidden_dim=5\n",
        "class FFNN(nn.Module):\n",
        "  def __init__(self, vocab_size, embedding_dim):\n",
        "    super(FFNN, self).__init__()\n",
        "    self.embeddings = nn.Embedding(vocab_size, embedding_dim)\n",
        "    self.linear1 = nn.Linear(embedding_dim*context_size,hidden_dim)\n",
        "    self.linear2 = nn.Linear(hidden_dim,2)\n",
        "  def forward(self, inputs):\n",
        "    #print(inputs.size())\n",
        "    if torch.cuda.is_available():\n",
        "      embeds = self.embeddings(inputs.view(-1).cuda())\n",
        "      out = F.relu(self.linear1(embeds.view(-1))).cuda()\n",
        "      out = F.softmax(self.linear2(out),dim=0).cuda()\n",
        "    else:\n",
        "      embeds = self.embeddings(inputs.view(-1))\n",
        "    #print(embeds)\n",
        "      out = F.relu(self.linear1(embeds.view(-1)))\n",
        "      out = F.softmax(self.linear2(out),dim=0)\n",
        "    return out\n",
        "\n",
        "\n",
        "\n",
        "\n",
        "\n",
        "\n",
        "loss_function = nn.BCELoss()\n",
        "model_ffnn = FFNN(vocabulary_size, embedding_dim)\n",
        "if torch.cuda.is_available():\n",
        "    model_ffnn.cuda()\n",
        "    \n",
        "optimizer_ffnn = optim.Adam(model_ffnn.parameters(), lr=0.001)\n",
        "params = sum(p.numel() for p in model_ffnn.parameters() if p.requires_grad)\n",
        "print(\"Total number of parameters for FFNN is: {}\".format(params))\n",
        "\n",
        "\n",
        "\n"
      ],
      "execution_count": 157,
      "outputs": [
        {
          "output_type": "stream",
          "text": [
            "Total number of parameters for FFNN is: 228827\n"
          ],
          "name": "stdout"
        }
      ]
    },
    {
      "cell_type": "code",
      "metadata": {
        "id": "_RLzX28SJHON",
        "colab_type": "code",
        "outputId": "f41ca40d-f4b1-44e0-b5d0-39c1f35f56a9",
        "colab": {
          "base_uri": "https://localhost:8080/",
          "height": 35
        }
      },
      "source": [
        "\n",
        "torch.manual_seed(1)\n",
        "embedding_dim =10\n",
        "\n",
        "class CNN(nn.Module):\n",
        "  def __init__(self, vocab_size, embedding_dim):\n",
        "    super(CNN, self).__init__()\n",
        "    self.embeddings = nn.Embedding(vocab_size, embedding_dim)\n",
        "    self.conv1 = nn.Conv1d(1, 10, (5,embedding_dim),padding =(2,0))\n",
        "    self.conv2 = nn.Conv2d(10, 4, (3,1))\n",
        "    self.fc1 = nn.Linear(192, 2)\n",
        "\n",
        "  def forward(self, inputs):\n",
        "    if torch.cuda.is_available():\n",
        "    #print(inputs.size())\n",
        "      embeds = self.embeddings(inputs.view(-1).cuda())\n",
        "    #print(embeds.size())\n",
        "      out = self.conv1(embeds.view(1,1,context_size,embedding_dim)).cuda()\n",
        "    #print(out.size())\n",
        "      out = self.conv2(out).cuda()\n",
        "    #print(out.size())\n",
        "      out = F.softmax(self.fc1(out.view(-1)),dim=0).cuda()\n",
        "    else:\n",
        "      #print(inputs.size())\n",
        "      embeds = self.embeddings(inputs.view(-1))\n",
        "    #print(embeds.size())\n",
        "      out = self.conv1(embeds.view(1,1,context_size,embedding_dim))\n",
        "    #print(out.size())\n",
        "      out = self.conv2(out)\n",
        "    #print(out.size())\n",
        "      out = F.softmax(self.fc1(out.view(-1)),dim=0)\n",
        "    return out\n",
        "\n",
        "model_cnn = CNN(vocabulary_size, embedding_dim)\n",
        "if torch.cuda.is_available():\n",
        "    model_cnn.cuda()\n",
        "optimizer_cnn = optim.Adam(model_cnn.parameters(), lr=0.001)\n",
        "params = sum(p.numel() for p in model_cnn.parameters() if p.requires_grad)\n",
        "print(\"Total number of parameters for CNN is: {}\".format(params))"
      ],
      "execution_count": 166,
      "outputs": [
        {
          "output_type": "stream",
          "text": [
            "Total number of parameters for CNN is: 227330\n"
          ],
          "name": "stdout"
        }
      ]
    },
    {
      "cell_type": "code",
      "metadata": {
        "id": "YGw9kqh3JUu0",
        "colab_type": "code",
        "outputId": "2c46f485-be80-4e28-8627-1cde0b555c48",
        "colab": {
          "base_uri": "https://localhost:8080/",
          "height": 35
        }
      },
      "source": [
        "\n",
        "torch.manual_seed(1)\n",
        "embedding_dim =10\n",
        "\n",
        "hidden_dim=5\n",
        "\n",
        "\n",
        "\n",
        "class LSTM(nn.Module):\n",
        "  def __init__(self, vocab_size, embedding_dim):\n",
        "    super(LSTM, self).__init__()\n",
        "    self.embeddings = nn.Embedding(vocab_size, embedding_dim)\n",
        "    self.lstm = nn.LSTM(embedding_dim, hidden_dim)\n",
        "    self.fc1 = nn.Linear(hidden_dim, 2)\n",
        "\n",
        "  def forward(self, inputs):\n",
        "    if torch.cuda.is_available():\n",
        "    #print(inputs.size())\n",
        "      embeds = self.embeddings(inputs.cuda())\n",
        "    #print(embeds.size())\n",
        "      lstm_out, _ = self.lstm(embeds.view(len(inputs), 1, -1).cuda())\n",
        "    #print(out.size())\n",
        "      out =  self.fc1(lstm_out.view(len(inputs), -1)).cuda()\n",
        "    #print(out.size())\n",
        "      out = F.softmax(out,dim=1).cuda()\n",
        "    else:\n",
        "    #print(inputs.size())\n",
        "      embeds = self.embeddings(inputs)\n",
        "    #print(embeds.size())\n",
        "      lstm_out, _ = self.lstm(embeds.view(len(inputs), 1, -1))\n",
        "    #print(out.size())\n",
        "      out =  self.fc1(lstm_out.view(len(inputs), -1))\n",
        "    #print(out.size())\n",
        "      out = F.softmax(out,dim=1)\n",
        "    return out[-1]\n",
        "\n",
        "model_lstm = LSTM(vocabulary_size, embedding_dim)\n",
        "if torch.cuda.is_available():\n",
        "    model_lstm.cuda()\n",
        "optimizer_lstm = optim.Adam(model_lstm.parameters(), lr=0.001)\n",
        "params = sum(p.numel() for p in model_lstm.parameters() if p.requires_grad)\n",
        "print(\"Total number of parameters for LSTM is: {}\".format(params))"
      ],
      "execution_count": 160,
      "outputs": [
        {
          "output_type": "stream",
          "text": [
            "Total number of parameters for LSTM is: 226662\n"
          ],
          "name": "stdout"
        }
      ]
    },
    {
      "cell_type": "code",
      "metadata": {
        "id": "vMPZPsNa5Y_U",
        "colab_type": "code",
        "outputId": "4f828375-ca6b-47a2-a877-83eb95a7ec38",
        "colab": {
          "base_uri": "https://localhost:8080/",
          "height": 377
        }
      },
      "source": [
        "loss_ffnn=[]\n",
        "for epoch in range(20):\n",
        "  losses = 0\n",
        "  for program, label in training_data:\n",
        "   # print(program)\n",
        "   # print(label)\n",
        "   if label ==1:\n",
        "     out_labels = torch.FloatTensor([0,1])\n",
        "   else:\n",
        "     out_labels  = torch.FloatTensor([1,0])  \n",
        "   context_idx = get_programcontext(program)\n",
        "   model_ffnn.zero_grad()\n",
        "   out = model_ffnn(context_idx)\n",
        "   #print(out.size())\n",
        "   #print(f'Out {out}')\n",
        "   #print(out_labels)\n",
        "   if torch.cuda.is_available():\n",
        "     loss = loss_function(out, out_labels.cuda())\n",
        "   else:\n",
        "     loss = loss_function(out, out_labels)\n",
        "   if torch.cuda.is_available():\n",
        "     loss.cuda()\n",
        "   #print(f'Loss {loss.item()}')\n",
        "   loss.backward()\n",
        "   optimizer_ffnn.step()\n",
        "   #print(f'Loss {loss.item()}')\n",
        "   losses +=loss.item()\n",
        "  print(f'Loss at epo {epoch}: {losses/len(training_data)}')\n",
        "  loss_ffnn.append(losses/len(training_data))"
      ],
      "execution_count": 158,
      "outputs": [
        {
          "output_type": "stream",
          "text": [
            "Loss at epo 0: 0.42971116589719605\n",
            "Loss at epo 1: 0.2582435409383385\n",
            "Loss at epo 2: 0.18491887092482567\n",
            "Loss at epo 3: 0.15068261167981123\n",
            "Loss at epo 4: 0.1309617747233993\n",
            "Loss at epo 5: 0.11999687827103692\n",
            "Loss at epo 6: 0.11233798295292577\n",
            "Loss at epo 7: 0.10558565787909772\n",
            "Loss at epo 8: 0.10230210890999754\n",
            "Loss at epo 9: 0.0963687245455439\n",
            "Loss at epo 10: 0.0925347222631172\n",
            "Loss at epo 11: 0.0916629306057925\n",
            "Loss at epo 12: 0.08723066297210733\n",
            "Loss at epo 13: 0.08598972930025602\n",
            "Loss at epo 14: 0.08249444548074546\n",
            "Loss at epo 15: 0.08161436874649021\n",
            "Loss at epo 16: 0.08010981079356272\n",
            "Loss at epo 17: 0.07913462731962452\n",
            "Loss at epo 18: 0.07680514909450502\n",
            "Loss at epo 19: 0.07661029042589779\n"
          ],
          "name": "stdout"
        }
      ]
    },
    {
      "cell_type": "code",
      "metadata": {
        "id": "qGOLxQyUL857",
        "colab_type": "code",
        "colab": {
          "base_uri": "https://localhost:8080/",
          "height": 89
        },
        "outputId": "46b8a20d-4ebf-4d7f-a3ee-63acee028aa1"
      },
      "source": [
        "with torch.no_grad():\n",
        "  tp=0\n",
        "  tn=0\n",
        "  fp=0 \n",
        "  fn = 0\n",
        "  for program, label in eval_data:\n",
        "   # print(program)\n",
        "   # print(label)\n",
        "   context_idx = get_programcontext(program)\n",
        "   model_ffnn.zero_grad()\n",
        "   out = model_ffnn(context_idx)\n",
        "   #print(f'{out}:{label}')\n",
        "   if(out[0]>0.5):\n",
        "     if(label == 0):\n",
        "       tn =tn+1\n",
        "     else:\n",
        "       fp = fp +1\n",
        "   elif(out[1]>0.5):\n",
        "     if(label == 1):\n",
        "       tp = tp+1\n",
        "     else:\n",
        "       fn = fn +1\n",
        "  accu=(tn+tp)/(tp+tn+fn+fp)\n",
        "  pre=tp/(tp+fp)\n",
        "  re=tp/(tp+fn)\n",
        "  print(f'Accuracy_ffnn: {accu}') \n",
        "  print(f'Precision_ffnn: {pre}')\n",
        "  print(f'Recall_ffnn: {re}')\n",
        "  print(f'F1_ffnn: {2*(pre*re/(pre+re))}')  "
      ],
      "execution_count": 159,
      "outputs": [
        {
          "output_type": "stream",
          "text": [
            "Accuracy_ffnn: 0.9188\n",
            "Precision_ffnn: 0.8141122913505311\n",
            "Recall_ffnn: 0.8695299837925445\n",
            "F1_ffnn: 0.8409090909090909\n"
          ],
          "name": "stdout"
        }
      ]
    },
    {
      "cell_type": "code",
      "metadata": {
        "id": "fZS0NsGNHJnL",
        "colab_type": "code",
        "colab": {}
      },
      "source": [
        ""
      ],
      "execution_count": 0,
      "outputs": []
    },
    {
      "cell_type": "code",
      "metadata": {
        "id": "w0pxYwjE8MZR",
        "colab_type": "code",
        "outputId": "b12d87b1-6f82-4275-ddc9-078e87e3be9d",
        "colab": {
          "base_uri": "https://localhost:8080/",
          "height": 377
        }
      },
      "source": [
        "loss_cnn=[]\n",
        "for epoch in range(20):\n",
        "  losses = 0\n",
        "  for program, label in training_data:\n",
        "   # print(program)\n",
        "   # print(label)\n",
        "   if label ==1:\n",
        "     out_labels = torch.FloatTensor([0,1])\n",
        "   else:\n",
        "     out_labels  = torch.FloatTensor([1,0])\n",
        "\n",
        "   context_idx = get_programcontext(program)\n",
        "   model_cnn.zero_grad()\n",
        "   out = model_cnn(context_idx)\n",
        "   if torch.cuda.is_available():\n",
        "     loss = loss_function(out, out_labels.cuda())\n",
        "   else:\n",
        "     loss = loss_function(out, out_labels)\n",
        "   if torch.cuda.is_available():\n",
        "     loss.cuda()\n",
        "\n",
        "   #print(out.size())\n",
        "   #print(f'Out {out}')\n",
        "   #print(out_labels)\n",
        "   #print(f'Loss {loss.item()}')\n",
        "   loss.backward()\n",
        "   optimizer_cnn.step()\n",
        "   #print(f'Loss {loss.item()}')\n",
        "   losses +=loss.item()\n",
        "  print(f'Loss at epo {epoch}: {losses/len(training_data)}')\n",
        "  loss_cnn.append(losses/len(training_data))"
      ],
      "execution_count": 167,
      "outputs": [
        {
          "output_type": "stream",
          "text": [
            "Loss at epo 0: 0.41697519065833005\n",
            "Loss at epo 1: 0.2683435124128308\n",
            "Loss at epo 2: 0.2153988377843374\n",
            "Loss at epo 3: 0.18634405876291313\n",
            "Loss at epo 4: 0.1676637099212482\n",
            "Loss at epo 5: 0.15436617898875915\n",
            "Loss at epo 6: 0.1440694310014126\n",
            "Loss at epo 7: 0.13564873832394286\n",
            "Loss at epo 8: 0.12869896073906587\n",
            "Loss at epo 9: 0.12316978408126575\n",
            "Loss at epo 10: 0.1185675874163119\n",
            "Loss at epo 11: 0.11457015662503031\n",
            "Loss at epo 12: 0.11110988775771512\n",
            "Loss at epo 13: 0.10809673256734142\n",
            "Loss at epo 14: 0.105500174570571\n",
            "Loss at epo 15: 0.10318725925782003\n",
            "Loss at epo 16: 0.10106878665449996\n",
            "Loss at epo 17: 0.0992946695607472\n",
            "Loss at epo 18: 0.09771117342129242\n",
            "Loss at epo 19: 0.0959618792160113\n"
          ],
          "name": "stdout"
        }
      ]
    },
    {
      "cell_type": "code",
      "metadata": {
        "id": "4CnoFSROMQ89",
        "colab_type": "code",
        "colab": {
          "base_uri": "https://localhost:8080/",
          "height": 89
        },
        "outputId": "14de0ca8-92a9-4dbe-ee63-27fca3ad4b09"
      },
      "source": [
        "with torch.no_grad():\n",
        "  tp=0\n",
        "  tn=0\n",
        "  fp=0 \n",
        "  fn = 0\n",
        "  for program, label in eval_data:\n",
        "   # print(program)\n",
        "   # print(label)\n",
        "   context_idx = get_programcontext(program)\n",
        "   model_cnn.zero_grad()\n",
        "   out = model_cnn(context_idx)\n",
        "   #print(f'{out}:{label}')\n",
        "   if(out[0]>0.5):\n",
        "     if(label == 0):\n",
        "       tn =tn+1\n",
        "     else:\n",
        "       fp = fp +1\n",
        "   elif(out[1]>0.5):\n",
        "     if(label == 1):\n",
        "       tp = tp+1\n",
        "     else:\n",
        "       fn = fn +1\n",
        "  accu=(tn+tp)/(tp+tn+fn+fp)\n",
        "  pre=tp/(tp+fp)\n",
        "  re=tp/(tp+fn)\n",
        "  print(f'Accuracy_cnn: {accu}') \n",
        "  print(f'Precision_cnn: {pre}')\n",
        "  print(f'Recall_cnn: {re}')\n",
        "  print(f'F1_cnn: {2*(pre*re/(pre+re))}')"
      ],
      "execution_count": 168,
      "outputs": [
        {
          "output_type": "stream",
          "text": [
            "Accuracy_cnn: 0.924\n",
            "Precision_cnn: 0.8512898330804249\n",
            "Recall_cnn: 0.8591117917304747\n",
            "F1_cnn: 0.8551829268292683\n"
          ],
          "name": "stdout"
        }
      ]
    },
    {
      "cell_type": "code",
      "metadata": {
        "id": "SJUEhVM29KgB",
        "colab_type": "code",
        "outputId": "9ca59c73-8bde-44f1-dacc-4b8cd4da8ff0",
        "colab": {
          "base_uri": "https://localhost:8080/",
          "height": 377
        }
      },
      "source": [
        "loss_lstm=[]\n",
        "for epoch in range(20):\n",
        "  losses = 0\n",
        "  for program, label in training_data:\n",
        "   # print(program)\n",
        "   # print(label)\n",
        "   if label ==1:\n",
        "     out_labels = torch.FloatTensor([0,1])\n",
        "   else:\n",
        "     out_labels  = torch.FloatTensor([1,0])\n",
        "\n",
        "   context_idx = get_programcontext(program)\n",
        "   model_lstm.zero_grad()\n",
        "   out = model_lstm(context_idx)\n",
        "   #print(out.size())\n",
        "   #print(f'Out {out}')\n",
        "   #print(out_labels)\n",
        "   if torch.cuda.is_available():\n",
        "     loss = loss_function(out, out_labels.cuda())\n",
        "   else:\n",
        "     loss = loss_function(out, out_labels)\n",
        "   if torch.cuda.is_available():\n",
        "     loss.cuda()\n",
        "\n",
        "   #print(f'Loss {loss.item()}')\n",
        "   loss.backward()\n",
        "   optimizer_lstm.step()\n",
        "   #print(f'Loss {loss.item()}')\n",
        "   losses +=loss.item()\n",
        "  print(f'Loss at epo {epoch}: {losses/len(training_data)}')\n",
        "  loss_lstm.append(losses/len(training_data))\n",
        "\n",
        "  "
      ],
      "execution_count": 161,
      "outputs": [
        {
          "output_type": "stream",
          "text": [
            "Loss at epo 0: 0.5489940863322467\n",
            "Loss at epo 1: 0.5046412153031677\n",
            "Loss at epo 2: 0.36495951921045783\n",
            "Loss at epo 3: 0.2425417581582442\n",
            "Loss at epo 4: 0.18391947889160365\n",
            "Loss at epo 5: 0.15223266119963955\n",
            "Loss at epo 6: 0.1335876972950995\n",
            "Loss at epo 7: 0.12319008555344771\n",
            "Loss at epo 8: 0.11281630502741319\n",
            "Loss at epo 9: 0.10839448482579318\n",
            "Loss at epo 10: 0.10189317787083564\n",
            "Loss at epo 11: 0.09825914795607095\n",
            "Loss at epo 12: 0.09294755992756691\n",
            "Loss at epo 13: 0.0923885303911171\n",
            "Loss at epo 14: 0.08881938323437352\n",
            "Loss at epo 15: 0.08754639481414342\n",
            "Loss at epo 16: 0.0846412183684879\n",
            "Loss at epo 17: 0.08283744719877141\n",
            "Loss at epo 18: 0.08032965628380771\n",
            "Loss at epo 19: 0.08070653421618044\n"
          ],
          "name": "stdout"
        }
      ]
    },
    {
      "cell_type": "code",
      "metadata": {
        "id": "A6xoZC1EOd7z",
        "colab_type": "code",
        "colab": {
          "base_uri": "https://localhost:8080/",
          "height": 89
        },
        "outputId": "2833d00e-8e53-4fea-dc90-71240e8a89b6"
      },
      "source": [
        "with torch.no_grad():\n",
        "  tp=0\n",
        "  tn=0\n",
        "  fp=0 \n",
        "  fn = 0\n",
        "  for program, label in eval_data:\n",
        "   # print(program)\n",
        "   # print(label)\n",
        "   context_idx = get_programcontext(program)\n",
        "   model_lstm.zero_grad()\n",
        "   out = model_lstm(context_idx)\n",
        "   #print(f'{out}:{label}')\n",
        "   if(out[0]>0.5):\n",
        "     if(label == 0):\n",
        "       tn =tn+1\n",
        "     else:\n",
        "       fp = fp +1\n",
        "   elif(out[1]>=0.5):\n",
        "     if(label == 1):\n",
        "       tp = tp+1\n",
        "     else:\n",
        "       fn = fn +1\n",
        "  accu=(tn+tp)/(tp+tn+fn+fp)\n",
        "  pre=tp/(tp+fp)\n",
        "  re=tp/(tp+fn)\n",
        "  print(f'Accuracy_lstm: {accu}') \n",
        "  print(f'Precision_lstm: {pre}')\n",
        "  print(f'Recall_lstm: {re}')\n",
        "  print(f'F1_lstm: {2*(pre*re/(pre+re))}')"
      ],
      "execution_count": 162,
      "outputs": [
        {
          "output_type": "stream",
          "text": [
            "Accuracy_lstm: 0.9334\n",
            "Precision_lstm: 0.8558421851289834\n",
            "Recall_lstm: 0.8874901652242329\n",
            "F1_lstm: 0.8713789107763614\n"
          ],
          "name": "stdout"
        }
      ]
    },
    {
      "cell_type": "code",
      "metadata": {
        "id": "74Q58gRPvdOP",
        "colab_type": "code",
        "outputId": "375da0a6-3b70-4ebb-dca8-63beb950283c",
        "colab": {
          "base_uri": "https://localhost:8080/",
          "height": 89
        }
      },
      "source": [
        ""
      ],
      "execution_count": 0,
      "outputs": [
        {
          "output_type": "stream",
          "text": [
            "Accuracy_ffnn: 0.9148\n",
            "Precision_ffnn: 0.8281481481481482\n",
            "Recall_ffnn: 0.8521341463414634\n",
            "F1_ffnn: 0.8399699474079639\n"
          ],
          "name": "stdout"
        }
      ]
    },
    {
      "cell_type": "code",
      "metadata": {
        "id": "cWzA4rmnP4bE",
        "colab_type": "code",
        "outputId": "ba7b3b99-5401-48fe-9dfe-416ed22ae417",
        "colab": {
          "base_uri": "https://localhost:8080/",
          "height": 89
        }
      },
      "source": [
        ""
      ],
      "execution_count": 0,
      "outputs": [
        {
          "output_type": "stream",
          "text": [
            "Accuracy_cnn: 0.9248\n",
            "Precision_cnn: 0.8303703703703704\n",
            "Recall_cnn: 0.8840694006309149\n",
            "F1_cnn: 0.8563789152024447\n"
          ],
          "name": "stdout"
        }
      ]
    },
    {
      "cell_type": "code",
      "metadata": {
        "id": "AqggaGWnZz8W",
        "colab_type": "code",
        "outputId": "e2a6c352-164a-4fe8-b199-852bf651912c",
        "colab": {
          "base_uri": "https://localhost:8080/",
          "height": 89
        }
      },
      "source": [
        ""
      ],
      "execution_count": 0,
      "outputs": [
        {
          "output_type": "stream",
          "text": [
            "Accuracy_lstm: 0.9372\n",
            "Precision_lstm: 0.8518518518518519\n",
            "Recall_lstm: 0.9098101265822784\n",
            "F1_lstm: 0.8798775822494261\n"
          ],
          "name": "stdout"
        }
      ]
    },
    {
      "cell_type": "code",
      "metadata": {
        "id": "K-JNCmWy4iO1",
        "colab_type": "code",
        "outputId": "3f7c7f25-6ae5-41f3-cb77-259d7ef65c02",
        "colab": {
          "base_uri": "https://localhost:8080/",
          "height": 281
        }
      },
      "source": [
        "import matplotlib.pyplot as plt\n",
        "\n",
        "plt.plot(list(range(0, len(loss_cnn))), loss_cnn, label='CNN')\n",
        "plt.plot(list(range(0, len(loss_ffnn))), loss_ffnn, label='FFNN')\n",
        "plt.plot(list(range(0, len(loss_lstm))), loss_lstm, label='LSTM')\n",
        "plt.legend()\n",
        "plt.title('Train Losses')\n",
        "plt.show()"
      ],
      "execution_count": 169,
      "outputs": [
        {
          "output_type": "display_data",
          "data": {
            "image/png": "[encoded data removed]",
            "text/plain": [
              "<Figure size 432x288 with 1 Axes>"
            ]
          },
          "metadata": {
            "tags": [],
            "needs_background": "light"
          }
        }
      ]
    }
  ]
}