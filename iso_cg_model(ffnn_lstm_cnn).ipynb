{
  "nbformat": 4,
  "nbformat_minor": 0,
  "metadata": {
    "colab": {
      "name": "iso_cg_model(ffnn lstm cnn).ipynb",
      "provenance": [],
      "collapsed_sections": [],
      "authorship_tag": "ABX9TyOVl99nEYnGc+KdOf/kqVE4",
      "include_colab_link": true
    },
    "kernelspec": {
      "name": "python3",
      "display_name": "Python 3"
    }
  },
  "cells": [
    {
      "cell_type": "markdown",
      "metadata": {
        "id": "view-in-github",
        "colab_type": "text"
      },
      "source": [
        "<a href=\"https://colab.research.google.com/github/yifan-zhou19/iso/blob/master/iso_cg_model(ffnn_lstm_cnn).ipynb\" target=\"_parent\"><img src=\"https://colab.research.google.com/assets/colab-badge.svg\" alt=\"Open In Colab\"/></a>"
      ]
    },
    {
      "cell_type": "code",
      "metadata": {
        "id": "x2P3QMOEIjA8",
        "colab_type": "code",
        "outputId": "1ce1b4f6-4083-40c0-997a-ed9cc0d242f6",
        "colab": {
          "base_uri": "https://localhost:8080/",
          "height": 289
        }
      },
      "source": [
        "##################\n",
        "# DATA IMPORTING #\n",
        "##################\n",
        "\n",
        "from os.path import exists\n",
        "\n",
        "!wget -O cwe119_cgd.txt https://raw.githubusercontent.com/CGCL-codes/VulDeePecker/master/CWE-119/CGD/cwe119_cgd.txt\n",
        "\n",
        "print()\n",
        "\n",
        "with open(\"./cwe119_cgd.txt\", \"r\") as cgd:\n",
        "  print(\"Source: \",cgd.readline())"
      ],
      "execution_count": 2,
      "outputs": [
        {
          "output_type": "stream",
          "text": [
            "--2020-04-19 14:43:41--  https://raw.githubusercontent.com/CGCL-codes/VulDeePecker/master/CWE-119/CGD/cwe119_cgd.txt\n",
            "Resolving raw.githubusercontent.com (raw.githubusercontent.com)... 151.101.0.133, 151.101.64.133, 151.101.128.133, ...\n",
            "Connecting to raw.githubusercontent.com (raw.githubusercontent.com)|151.101.0.133|:443... connected.\n",
            "HTTP request sent, awaiting response... 200 OK\n",
            "Length: 17202057 (16M) [text/plain]\n",
            "Saving to: ‘cwe119_cgd.txt’\n",
            "\n",
            "cwe119_cgd.txt      100%[===================>]  16.40M  93.2MB/s    in 0.2s    \n",
            "\n",
            "2020-04-19 14:43:42 (93.2 MB/s) - ‘cwe119_cgd.txt’ saved [17202057/17202057]\n",
            "\n",
            "\n",
            "Source:  1 CVE-2010-1444/vlc_media_player_1.1.0_CVE-2010-1444_zipstream.c cfunc 449\n",
            "\n"
          ],
          "name": "stdout"
        }
      ]
    },
    {
      "cell_type": "code",
      "metadata": {
        "id": "9fBY-ym7MqoH",
        "colab_type": "code",
        "outputId": "933f991e-494e-4f47-f773-4a493702115e",
        "colab": {
          "base_uri": "https://localhost:8080/",
          "height": 53
        }
      },
      "source": [
        "import re\n",
        "re_punctuation_string = '[()\\s,/.\\']'\n",
        "programs=[]\n",
        "program = []\n",
        "statement=[]\n",
        "labels = []\n",
        "vocabulary = [] \n",
        "remove_token=['',' ',',','NULL','\\n',';']\n",
        "with open(\"./cwe119_cgd.txt\", \"r\") as cgd:\n",
        "  lines = cgd.readlines()\n",
        "  for line in lines:\n",
        "    statement=[token for token in re.split(re_punctuation_string,line)if token not in remove_token]\n",
        "    #print(statement)\n",
        "    if statement == ['---------------------------------']:\n",
        "      if program[-1] == ['0']:\n",
        "        labels.append(0)\n",
        "      elif program[-1] == ['1']:\n",
        "        labels.append(1)\n",
        "      programs.append(program[1:-2])\n",
        "      for s in program[1:]:\n",
        "        for t in s:\n",
        "           if t not in vocabulary:\n",
        "             vocabulary.append(t)\n",
        "      #print(program)\n",
        "      program = []\n",
        "    else:\n",
        "      program.append(statement)\n",
        "\n",
        "print(len(labels))\n",
        "\n",
        "\n",
        "  \n",
        "print(len(vocabulary))\n",
        "   "
      ],
      "execution_count": 3,
      "outputs": [
        {
          "output_type": "stream",
          "text": [
            "39753\n",
            "22631\n"
          ],
          "name": "stdout"
        }
      ]
    },
    {
      "cell_type": "code",
      "metadata": {
        "id": "Hoxbji00476j",
        "colab_type": "code",
        "colab": {}
      },
      "source": [
        "# shuffle data\n",
        "import random\n",
        "randnum = random.randint(0,100)\n",
        "random.seed(randnum)\n",
        "random.shuffle(programs)\n",
        "random.seed(randnum)\n",
        "random.shuffle(labels)"
      ],
      "execution_count": 0,
      "outputs": []
    },
    {
      "cell_type": "code",
      "metadata": {
        "id": "HFj_HuQc1k3A",
        "colab_type": "code",
        "outputId": "b92f11d1-ec15-4f94-dce5-570b24ebae2e",
        "colab": {
          "base_uri": "https://localhost:8080/",
          "height": 53
        }
      },
      "source": [
        "#print(vocabulary[:20])\n",
        "print(len([one for one in labels[:10000] if one == 1 ]))\n",
        "print(len([zero for zero in labels[:10000] if zero == 0 ]))"
      ],
      "execution_count": 5,
      "outputs": [
        {
          "output_type": "stream",
          "text": [
            "2581\n",
            "7419\n"
          ],
          "name": "stdout"
        }
      ]
    },
    {
      "cell_type": "code",
      "metadata": {
        "id": "9RRoEHvz3RFz",
        "colab_type": "code",
        "outputId": "a2be1178-085c-495d-e0c3-6e633c0bc529",
        "colab": {
          "base_uri": "https://localhost:8080/",
          "height": 53
        }
      },
      "source": [
        "print(len([one for one in labels[10000:15000] if one == 1 ]))\n",
        "print(len([zero for zero in labels[10000:15000] if zero == 0]))\n"
      ],
      "execution_count": 6,
      "outputs": [
        {
          "output_type": "stream",
          "text": [
            "1350\n",
            "3650\n"
          ],
          "name": "stdout"
        }
      ]
    },
    {
      "cell_type": "code",
      "metadata": {
        "id": "EDhsxT2HATaD",
        "colab_type": "code",
        "outputId": "e8f7d5c5-6fff-4203-b937-cd128ed60fc4",
        "colab": {
          "base_uri": "https://localhost:8080/",
          "height": 55
        }
      },
      "source": [
        "training_data = []\n",
        "for i in range(10000):\n",
        "  training_data.append((programs[i],labels[i]))\n",
        "print(training_data[:2])"
      ],
      "execution_count": 7,
      "outputs": [
        {
          "output_type": "stream",
          "text": [
            "[([['#define', 'SRC_STRING', '\"AAAAAAAAAA\"'], ['char', '*', 'data;'], ['data', '=', 'NULL;'], ['for', 'i', '=', '0;', 'i', '<', '1;', 'i++'], ['data', '=', 'char', '*', 'malloc', '10*sizeof', 'char'], ['char', 'source[10+1]', '=', 'SRC_STRING;']], 1), ([['data[100-1]', '=', '\\\\0'], ['printLine', 'data']], 0)]\n"
          ],
          "name": "stdout"
        }
      ]
    },
    {
      "cell_type": "code",
      "metadata": {
        "id": "FGMHg4rLvs38",
        "colab_type": "code",
        "outputId": "045d5ea2-46a5-4ba5-8b5a-afa69deb292a",
        "colab": {
          "base_uri": "https://localhost:8080/",
          "height": 55
        }
      },
      "source": [
        "eval_data=[]\n",
        "for i in range(10000,15000):\n",
        "  eval_data.append((programs[i],labels[i]))\n",
        "print(eval_data[:2])"
      ],
      "execution_count": 8,
      "outputs": [
        {
          "output_type": "stream",
          "text": [
            "[([['data[50-1]', '=', '\\\\0'], ['char', 'dest[50]', '=', '\"\";']], 0), ([['wchar_t', '*', 'data;'], ['data', '=', 'NULL;'], ['data', '=', 'new', 'wchar_t[10];'], ['badSink_b', 'data'], ['void', 'badSink_b', 'wchar_t', '*', 'data'], ['badSink_c', 'data'], ['void', 'badSink_c', 'wchar_t', '*', 'data'], ['wchar_t', 'source[10+1]', '=', 'SRC_STRING;']], 1)]\n"
          ],
          "name": "stdout"
        }
      ]
    },
    {
      "cell_type": "code",
      "metadata": {
        "id": "5rx9mY-Q3isJ",
        "colab_type": "code",
        "outputId": "afbd8ae5-f759-43a4-c93d-8e9d320fc70b",
        "colab": {
          "base_uri": "https://localhost:8080/",
          "height": 35
        }
      },
      "source": [
        "import torch\n",
        "import torch.nn as nn\n",
        "import torch.nn.functional as F\n",
        "import torch.optim as optim\n",
        "#look up table  \n",
        "#using one-hot embedding\n",
        "vocabulary_size = len(vocabulary)\n",
        "def look_up_table(word_idx):\n",
        "  x = torch.zeros(vocabulary_size).long()\n",
        "  x[word_idx] = 1.0\n",
        "  return x\n",
        "word2idx = {w: idx +1 for (idx, w) in enumerate(vocabulary)}\n",
        "idx2word = {idx+1: w for (idx, w) in enumerate(vocabulary)}\n",
        "print(look_up_table(word2idx['1']))"
      ],
      "execution_count": 9,
      "outputs": [
        {
          "output_type": "stream",
          "text": [
            "tensor([0, 0, 0,  ..., 0, 0, 0])\n"
          ],
          "name": "stdout"
        }
      ]
    },
    {
      "cell_type": "code",
      "metadata": {
        "id": "NvyUKYKSHPlR",
        "colab_type": "code",
        "outputId": "19520b71-b176-4f5e-c1b0-d9b01a391e10",
        "colab": {
          "base_uri": "https://localhost:8080/",
          "height": 377
        }
      },
      "source": [
        "context_size = 20\n",
        "def get_programcontext(program):\n",
        "  id = 0\n",
        "  contexts =torch.zeros(context_size,1).long()\n",
        "  for p in program:\n",
        "    for t in p:\n",
        "      if id < context_size:\n",
        "        contexts[id]= word2idx[t]\n",
        "        id = id +1\n",
        "      else:\n",
        "        return contexts\n",
        "  return contexts\n",
        "get_programcontext(programs[4920])"
      ],
      "execution_count": 10,
      "outputs": [
        {
          "output_type": "execute_result",
          "data": {
            "text/plain": [
              "tensor([[4078],\n",
              "        [   5],\n",
              "        [ 743],\n",
              "        [4079],\n",
              "        [4080],\n",
              "        [   5],\n",
              "        [ 168],\n",
              "        [4078],\n",
              "        [  99],\n",
              "        [ 168],\n",
              "        [4081],\n",
              "        [  99],\n",
              "        [ 539],\n",
              "        [4082],\n",
              "        [   5],\n",
              "        [ 127],\n",
              "        [ 638],\n",
              "        [4080],\n",
              "        [ 352],\n",
              "        [ 151]])"
            ]
          },
          "metadata": {
            "tags": []
          },
          "execution_count": 10
        }
      ]
    },
    {
      "cell_type": "code",
      "metadata": {
        "id": "ICfbHSXT5BLH",
        "colab_type": "code",
        "outputId": "b9f833cc-29bf-4cb5-a748-aab32930f9e3",
        "colab": {
          "base_uri": "https://localhost:8080/",
          "height": 71
        }
      },
      "source": [
        "\n",
        "\n",
        "torch.manual_seed(1)\n",
        "embedding_dim =15\n",
        "\n",
        "hidden_dim=15\n",
        "class FFNN(nn.Module):\n",
        "  def __init__(self, vocab_size, embedding_dim):\n",
        "    super(FFNN, self).__init__()\n",
        "    self.embeddings = nn.Embedding(vocab_size, embedding_dim)\n",
        "    self.conv1 = nn.Conv2d(1, 3, 2)\n",
        "    self.pool = nn.MaxPool2d(2, 2)\n",
        "    self.conv2 = nn.Conv2d(6, 16, 2)\n",
        "    self.fc1 = nn.Linear(16 * 5 * 5, 2)\n",
        "\n",
        "    self.linear1 = nn.Linear(embedding_dim*context_size,10)\n",
        "    self.linear2 = nn.Linear(10,2)\n",
        "  def forward(self, inputs):\n",
        "    #print(inputs.size())\n",
        "    embeds = self.embeddings(inputs.view(-1))\n",
        "    #print(embeds)\n",
        "    out = F.relu(self.linear1(embeds.view(-1)))\n",
        "    out = F.softmax(self.linear2(out),dim=0)\n",
        "    return out\n",
        "\n",
        "\n",
        "\n",
        "\n",
        "\n",
        "\n",
        "loss_function = nn.BCELoss()\n",
        "model_ffnn = FFNN(vocabulary_size, embedding_dim)\n",
        "optimizer_ffnn = optim.Adam(model_ffnn.parameters(), lr=0.001)\n",
        "params = sum(p.numel() for p in model_ffnn.parameters() if p.requires_grad)\n",
        "print(\"Total number of parameters for FFNN is: {}\".format(params))\n",
        "\n",
        "\n",
        "\n"
      ],
      "execution_count": 13,
      "outputs": [
        {
          "output_type": "stream",
          "text": [
            "Total number of parameters for FFNN is: 343714\n",
            "Total number of parameters for CNN is: 340436\n",
            "Total number of parameters for LSTM is: 341417\n"
          ],
          "name": "stdout"
        }
      ]
    },
    {
      "cell_type": "code",
      "metadata": {
        "id": "_RLzX28SJHON",
        "colab_type": "code",
        "colab": {
          "base_uri": "https://localhost:8080/",
          "height": 35
        },
        "outputId": "367c617c-f600-4805-ca70-c1580c8b75a4"
      },
      "source": [
        "\n",
        "torch.manual_seed(1)\n",
        "embedding_dim =15\n",
        "\n",
        "class CNN(nn.Module):\n",
        "  def __init__(self, vocab_size, embedding_dim):\n",
        "    super(CNN, self).__init__()\n",
        "    self.embeddings = nn.Embedding(vocab_size, embedding_dim)\n",
        "    self.conv1 = nn.Conv1d(1, 9, (5,embedding_dim),padding =(2,0))\n",
        "    self.conv2 = nn.Conv2d(9, 5, (2,1))\n",
        "    self.fc1 = nn.Linear(5*19, 2)\n",
        "\n",
        "  def forward(self, inputs):\n",
        "    #print(inputs.size())\n",
        "    embeds = self.embeddings(inputs.view(-1))\n",
        "    #print(embeds.size())\n",
        "    out = self.conv1(embeds.view(1,1,context_size,embedding_dim))\n",
        "    #print(out.size())\n",
        "    out = self.conv2(out)\n",
        "    #print(out.size())\n",
        "    out = F.softmax(self.fc1(out.view(-1)),dim=0)\n",
        "    return out\n",
        "\n",
        "model_cnn = CNN(vocabulary_size, embedding_dim)\n",
        "optimizer_cnn = optim.Adam(model_cnn.parameters(), lr=0.001)\n",
        "params = sum(p.numel() for p in model_cnn.parameters() if p.requires_grad)\n",
        "print(\"Total number of parameters for CNN is: {}\".format(params))"
      ],
      "execution_count": 27,
      "outputs": [
        {
          "output_type": "stream",
          "text": [
            "Total number of parameters for CNN is: 340436\n"
          ],
          "name": "stdout"
        }
      ]
    },
    {
      "cell_type": "code",
      "metadata": {
        "id": "YGw9kqh3JUu0",
        "colab_type": "code",
        "colab": {
          "base_uri": "https://localhost:8080/",
          "height": 35
        },
        "outputId": "2e5c5049-aa64-4804-b318-1e623ff63319"
      },
      "source": [
        "\n",
        "torch.manual_seed(1)\n",
        "embedding_dim =15\n",
        "\n",
        "hidden_dim=15\n",
        "\n",
        "\n",
        "\n",
        "class LSTM(nn.Module):\n",
        "  def __init__(self, vocab_size, embedding_dim):\n",
        "    super(LSTM, self).__init__()\n",
        "    self.embeddings = nn.Embedding(vocab_size, embedding_dim)\n",
        "    self.lstm = nn.LSTM(embedding_dim, hidden_dim)\n",
        "    self.fc1 = nn.Linear(hidden_dim, 2)\n",
        "\n",
        "  def forward(self, inputs):\n",
        "    #print(inputs.size())\n",
        "    embeds = self.embeddings(inputs)\n",
        "    #print(embeds.size())\n",
        "    lstm_out, _ = self.lstm(embeds.view(len(inputs), 1, -1))\n",
        "    #print(out.size())\n",
        "    out =  self.fc1(lstm_out.view(len(inputs), -1))\n",
        "    #print(out.size())\n",
        "    out = F.softmax(out,dim=1)\n",
        "    return out[-1]\n",
        "\n",
        "model_lstm = LSTM(vocabulary_size, embedding_dim)\n",
        "optimizer_lstm = optim.Adam(model_lstm.parameters(), lr=0.001)\n",
        "params = sum(p.numel() for p in model_lstm.parameters() if p.requires_grad)\n",
        "print(\"Total number of parameters for LSTM is: {}\".format(params))"
      ],
      "execution_count": 31,
      "outputs": [
        {
          "output_type": "stream",
          "text": [
            "Total number of parameters for LSTM is: 341417\n"
          ],
          "name": "stdout"
        }
      ]
    },
    {
      "cell_type": "code",
      "metadata": {
        "id": "vMPZPsNa5Y_U",
        "colab_type": "code",
        "colab": {
          "base_uri": "https://localhost:8080/",
          "height": 377
        },
        "outputId": "f833d708-456e-4f0b-d3f1-1674d6af7f8f"
      },
      "source": [
        "loss_ffnn=[]\n",
        "for epoch in range(20):\n",
        "  losses = 0\n",
        "  for program, label in training_data:\n",
        "   # print(program)\n",
        "   # print(label)\n",
        "   if label ==1:\n",
        "     out_labels = torch.FloatTensor([0,1])\n",
        "   else:\n",
        "     out_labels  = torch.FloatTensor([1,0])\n",
        "\n",
        "   context_idx = get_programcontext(program)\n",
        "   model_ffnn.zero_grad()\n",
        "   out = model_ffnn(context_idx)\n",
        "   #print(out.size())\n",
        "   #print(f'Out {out}')\n",
        "   #print(out_labels)\n",
        "   loss = loss_function(out, out_labels )\n",
        "   #print(f'Loss {loss.item()}')\n",
        "   loss.backward()\n",
        "   optimizer_ffnn.step()\n",
        "   #print(f'Loss {loss.item()}')\n",
        "   losses +=loss.item()\n",
        "  print(f'Loss at epo {epoch}: {losses/len(training_data)}')\n",
        "  loss_ffnn.append(losses/len(training_data))"
      ],
      "execution_count": 14,
      "outputs": [
        {
          "output_type": "stream",
          "text": [
            "Loss at epo 0: 0.43017799125669137\n",
            "Loss at epo 1: 0.3028090852695508\n",
            "Loss at epo 2: 0.24653100898158342\n",
            "Loss at epo 3: 0.21547359129801075\n",
            "Loss at epo 4: 0.19763623593468932\n",
            "Loss at epo 5: 0.18351433898274694\n",
            "Loss at epo 6: 0.17470127702979488\n",
            "Loss at epo 7: 0.1687429365884017\n",
            "Loss at epo 8: 0.16281480271997553\n",
            "Loss at epo 9: 0.1585997763959786\n",
            "Loss at epo 10: 0.15509781577249782\n",
            "Loss at epo 11: 0.15193908091117414\n",
            "Loss at epo 12: 0.15023913784473533\n",
            "Loss at epo 13: 0.14744943618491652\n",
            "Loss at epo 14: 0.14594168134095004\n",
            "Loss at epo 15: 0.14437423681088618\n",
            "Loss at epo 16: 0.14256813892317297\n",
            "Loss at epo 17: 0.141538108312441\n",
            "Loss at epo 18: 0.1385479923384193\n",
            "Loss at epo 19: 0.13803714160384728\n"
          ],
          "name": "stdout"
        }
      ]
    },
    {
      "cell_type": "code",
      "metadata": {
        "id": "fZS0NsGNHJnL",
        "colab_type": "code",
        "colab": {}
      },
      "source": [
        ""
      ],
      "execution_count": 0,
      "outputs": []
    },
    {
      "cell_type": "code",
      "metadata": {
        "id": "w0pxYwjE8MZR",
        "colab_type": "code",
        "colab": {
          "base_uri": "https://localhost:8080/",
          "height": 377
        },
        "outputId": "502748a3-b81e-49db-f90f-cf93798ffe37"
      },
      "source": [
        "loss_cnn=[]\n",
        "for epoch in range(20):\n",
        "  losses = 0\n",
        "  for program, label in training_data:\n",
        "   # print(program)\n",
        "   # print(label)\n",
        "   if label ==1:\n",
        "     out_labels = torch.FloatTensor([0,1])\n",
        "   else:\n",
        "     out_labels  = torch.FloatTensor([1,0])\n",
        "\n",
        "   context_idx = get_programcontext(program)\n",
        "   model_cnn.zero_grad()\n",
        "   out = model_cnn(context_idx)\n",
        "   #print(out.size())\n",
        "   #print(f'Out {out}')\n",
        "   #print(out_labels)\n",
        "   loss = loss_function(out, out_labels )\n",
        "   #print(f'Loss {loss.item()}')\n",
        "   loss.backward()\n",
        "   optimizer_cnn.step()\n",
        "   #print(f'Loss {loss.item()}')\n",
        "   losses +=loss.item()\n",
        "  print(f'Loss at epo {epoch}: {losses/len(training_data)}')\n",
        "  loss_cnn.append(losses/len(training_data))"
      ],
      "execution_count": 29,
      "outputs": [
        {
          "output_type": "stream",
          "text": [
            "Loss at epo 0: 0.4329644622432694\n",
            "Loss at epo 1: 0.3080646322125338\n",
            "Loss at epo 2: 0.264106816858453\n",
            "Loss at epo 3: 0.24187296481116938\n",
            "Loss at epo 4: 0.2277713280842017\n",
            "Loss at epo 5: 0.21760353947275685\n",
            "Loss at epo 6: 0.20984574428133645\n",
            "Loss at epo 7: 0.20360441401495546\n",
            "Loss at epo 8: 0.19847366318416398\n",
            "Loss at epo 9: 0.19381015862164996\n",
            "Loss at epo 10: 0.18961560205682967\n",
            "Loss at epo 11: 0.1856175353756958\n",
            "Loss at epo 12: 0.18191200981283637\n",
            "Loss at epo 13: 0.17868655303486083\n",
            "Loss at epo 14: 0.175748401916963\n",
            "Loss at epo 15: 0.17286334641702256\n",
            "Loss at epo 16: 0.17006412490261688\n",
            "Loss at epo 17: 0.1674790255540157\n",
            "Loss at epo 18: 0.16511839005399626\n",
            "Loss at epo 19: 0.16291598970482965\n"
          ],
          "name": "stdout"
        }
      ]
    },
    {
      "cell_type": "code",
      "metadata": {
        "id": "SJUEhVM29KgB",
        "colab_type": "code",
        "colab": {
          "base_uri": "https://localhost:8080/",
          "height": 377
        },
        "outputId": "cd0e0ca8-276f-4e56-cec3-07de81c93420"
      },
      "source": [
        "loss_lstm=[]\n",
        "for epoch in range(20):\n",
        "  losses = 0\n",
        "  for program, label in training_data:\n",
        "   # print(program)\n",
        "   # print(label)\n",
        "   if label ==1:\n",
        "     out_labels = torch.FloatTensor([0,1])\n",
        "   else:\n",
        "     out_labels  = torch.FloatTensor([1,0])\n",
        "\n",
        "   context_idx = get_programcontext(program)\n",
        "   model_lstm.zero_grad()\n",
        "   out = model_lstm(context_idx)\n",
        "   #print(out.size())\n",
        "   #print(f'Out {out}')\n",
        "   #print(out_labels)\n",
        "   loss = loss_function(out, out_labels )\n",
        "   #print(f'Loss {loss.item()}')\n",
        "   loss.backward()\n",
        "   optimizer_lstm.step()\n",
        "   #print(f'Loss {loss.item()}')\n",
        "   losses +=loss.item()\n",
        "  print(f'Loss at epo {epoch}: {losses/len(training_data)}')\n",
        "  loss_lstm.append(losses/len(training_data))\n",
        "\n",
        "  "
      ],
      "execution_count": 32,
      "outputs": [
        {
          "output_type": "stream",
          "text": [
            "Loss at epo 0: 0.4106655039300211\n",
            "Loss at epo 1: 0.276416620680294\n",
            "Loss at epo 2: 0.2444005040439195\n",
            "Loss at epo 3: 0.22220756849476603\n",
            "Loss at epo 4: 0.206825136278657\n",
            "Loss at epo 5: 0.19522269151275978\n",
            "Loss at epo 6: 0.1865209095785598\n",
            "Loss at epo 7: 0.1765615358981522\n",
            "Loss at epo 8: 0.17360264210932363\n",
            "Loss at epo 9: 0.16483224221080164\n",
            "Loss at epo 10: 0.16119229238703592\n",
            "Loss at epo 11: 0.15704808118052607\n",
            "Loss at epo 12: 0.1548087656527492\n",
            "Loss at epo 13: 0.15192189801120204\n",
            "Loss at epo 14: 0.14656113714115235\n",
            "Loss at epo 15: 0.14484914882364563\n",
            "Loss at epo 16: 0.14236343145716063\n",
            "Loss at epo 17: 0.13999237054309505\n",
            "Loss at epo 18: 0.13902712813158385\n",
            "Loss at epo 19: 0.1389830996185602\n"
          ],
          "name": "stdout"
        }
      ]
    },
    {
      "cell_type": "code",
      "metadata": {
        "id": "74Q58gRPvdOP",
        "colab_type": "code",
        "outputId": "d4c18f14-7c46-49fe-dcbf-bf2050b23f4d",
        "colab": {
          "base_uri": "https://localhost:8080/",
          "height": 89
        }
      },
      "source": [
        "with torch.no_grad():\n",
        "  tp=0\n",
        "  tn=0\n",
        "  fp=0 \n",
        "  fn = 0\n",
        "  for program, label in eval_data:\n",
        "   # print(program)\n",
        "   # print(label)\n",
        "   context_idx = get_programcontext(program)\n",
        "   model_ffnn.zero_grad()\n",
        "   out = model_ffnn(context_idx)\n",
        "   #print(f'{out}:{label}')\n",
        "   if(out[0]>0.5):\n",
        "     if(label == 0):\n",
        "       tn =tn+1\n",
        "     else:\n",
        "       fp = fp +1\n",
        "   elif(out[1]>0.5):\n",
        "     if(label == 1):\n",
        "       tp = tp+1\n",
        "     else:\n",
        "       fn = fn +1\n",
        "  accu=(tn+tp)/(tp+tn+fn+fp)\n",
        "  pre=tp/(tp+fp)\n",
        "  re=tp/(tp+fn)\n",
        "  print(f'Accuracy_ffnn: {accu}') \n",
        "  print(f'Precision_ffnn: {pre}')\n",
        "  print(f'Recall_ffnn: {re}')\n",
        "  print(f'F1_ffnn: {2*(pre*re/(pre+re))}')  "
      ],
      "execution_count": 18,
      "outputs": [
        {
          "output_type": "stream",
          "text": [
            "Accuracy_ffnn: 0.8558\n",
            "Precision_ffnn: 0.705925925925926\n",
            "Recall_ffnn: 0.7462803445575568\n",
            "F1_ffnn: 0.7255424438523032\n"
          ],
          "name": "stdout"
        }
      ]
    },
    {
      "cell_type": "code",
      "metadata": {
        "id": "cWzA4rmnP4bE",
        "colab_type": "code",
        "colab": {
          "base_uri": "https://localhost:8080/",
          "height": 89
        },
        "outputId": "e0087942-0869-465d-de5a-bf0cf1bdd525"
      },
      "source": [
        "with torch.no_grad():\n",
        "  tp=0\n",
        "  tn=0\n",
        "  fp=0 \n",
        "  fn = 0\n",
        "  for program, label in eval_data:\n",
        "   # print(program)\n",
        "   # print(label)\n",
        "   context_idx = get_programcontext(program)\n",
        "   model_cnn.zero_grad()\n",
        "   out = model_cnn(context_idx)\n",
        "   #print(f'{out}:{label}')\n",
        "   if(out[0]>0.5):\n",
        "     if(label == 0):\n",
        "       tn =tn+1\n",
        "     else:\n",
        "       fp = fp +1\n",
        "   elif(out[1]>0.5):\n",
        "     if(label == 1):\n",
        "       tp = tp+1\n",
        "     else:\n",
        "       fn = fn +1\n",
        "  accu=(tn+tp)/(tp+tn+fn+fp)\n",
        "  pre=tp/(tp+fp)\n",
        "  re=tp/(tp+fn)\n",
        "  print(f'Accuracy_cnn: {accu}') \n",
        "  print(f'Precision_cnn: {pre}')\n",
        "  print(f'Recall_cnn: {re}')\n",
        "  print(f'F1_cnn: {2*(pre*re/(pre+re))}')"
      ],
      "execution_count": 30,
      "outputs": [
        {
          "output_type": "stream",
          "text": [
            "Accuracy_cnn: 0.8676\n",
            "Precision_cnn: 0.7140740740740741\n",
            "Recall_cnn: 0.7774193548387097\n",
            "F1_cnn: 0.7444015444015445\n"
          ],
          "name": "stdout"
        }
      ]
    },
    {
      "cell_type": "code",
      "metadata": {
        "id": "AqggaGWnZz8W",
        "colab_type": "code",
        "colab": {
          "base_uri": "https://localhost:8080/",
          "height": 89
        },
        "outputId": "0b872b6e-7344-458a-c88d-804277c6a401"
      },
      "source": [
        "with torch.no_grad():\n",
        "  tp=0\n",
        "  tn=0\n",
        "  fp=0 \n",
        "  fn = 0\n",
        "  for program, label in eval_data:\n",
        "   # print(program)\n",
        "   # print(label)\n",
        "   context_idx = get_programcontext(program)\n",
        "   model_lstm.zero_grad()\n",
        "   out = model_lstm(context_idx)\n",
        "   #print(f'{out}:{label}')\n",
        "   if(out[0]>0.5):\n",
        "     if(label == 0):\n",
        "       tn =tn+1\n",
        "     else:\n",
        "       fp = fp +1\n",
        "   elif(out[1]>=0.5):\n",
        "     if(label == 1):\n",
        "       tp = tp+1\n",
        "     else:\n",
        "       fn = fn +1\n",
        "  accu=(tn+tp)/(tp+tn+fn+fp)\n",
        "  pre=tp/(tp+fp)\n",
        "  re=tp/(tp+fn)\n",
        "  print(f'Accuracy_lstm: {accu}') \n",
        "  print(f'Precision_lstm: {pre}')\n",
        "  print(f'Recall_lstm: {re}')\n",
        "  print(f'F1_lstm: {2*(pre*re/(pre+re))}')"
      ],
      "execution_count": 40,
      "outputs": [
        {
          "output_type": "stream",
          "text": [
            "Accuracy_lstm: 0.8638\n",
            "Precision_lstm: 0.7207407407407408\n",
            "Recall_lstm: 0.7619420516836335\n",
            "F1_lstm: 0.7407689379520366\n"
          ],
          "name": "stdout"
        }
      ]
    },
    {
      "cell_type": "code",
      "metadata": {
        "id": "K-JNCmWy4iO1",
        "colab_type": "code",
        "colab": {
          "base_uri": "https://localhost:8080/",
          "height": 281
        },
        "outputId": "1eb10c1f-e641-4d24-b34f-3461fd3bd8d6"
      },
      "source": [
        "import matplotlib.pyplot as plt\n",
        "plt.plot(list(range(0, len(loss_ffnn))), loss_ffnn, label='FFNN')\n",
        "plt.plot(list(range(0, len(loss_cnn))), loss_cnn, label='CNN')\n",
        "plt.plot(list(range(0, len(loss_lstm))), loss_lstm, label='LSTM')\n",
        "plt.legend()\n",
        "plt.title('Train Losses')\n",
        "plt.show()"
      ],
      "execution_count": 39,
      "outputs": [
        {
          "output_type": "display_data",
          "data": {
            "image/png": "[encoded data removed]",
            "text/plain": [
              "<Figure size 432x288 with 1 Axes>"
            ]
          },
          "metadata": {
            "tags": [],
            "needs_background": "light"
          }
        }
      ]
    }
  ]
}