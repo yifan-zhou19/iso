{
  "nbformat": 4,
  "nbformat_minor": 0,
  "metadata": {
    "colab": {
      "name": "iso_embedding_(ast_sourcecode_cfg 10classes).ipynb",
      "provenance": [],
      "authorship_tag": "ABX9TyOaf4gr/3glqyO+SzEtJSBe",
      "include_colab_link": true
    },
    "kernelspec": {
      "name": "python3",
      "display_name": "Python 3"
    }
  },
  "cells": [
    {
      "cell_type": "markdown",
      "metadata": {
        "id": "view-in-github",
        "colab_type": "text"
      },
      "source": [
        "<a href=\"https://colab.research.google.com/github/yifan-zhou19/iso/blob/master/iso_embedding_(ast_sourcecode_cfg_10classes).ipynb\" target=\"_parent\"><img src=\"https://colab.research.google.com/assets/colab-badge.svg\" alt=\"Open In Colab\"/></a>"
      ]
    },
    {
      "cell_type": "code",
      "metadata": {
        "id": "xmjJ-_LNmrdi",
        "colab_type": "code",
        "colab": {}
      },
      "source": [
        "from os.path import exists\n",
        "\n",
        "if not exists('ast.zip'):\n",
        "    !wget -O ast.zip https://raw.githubusercontent.com/yifan-zhou19/iso/master/AST.zip\n",
        "    !unzip ast.zip\n",
        "if not exists('cfg.zip'):\n",
        "    !wget -O cfg.zip https://raw.githubusercontent.com/yifan-zhou19/iso/master/CFG.zip\n",
        "    !unzip cfg.zip"
      ],
      "execution_count": 0,
      "outputs": []
    },
    {
      "cell_type": "markdown",
      "metadata": {
        "id": "VL1qNbhYnE2w",
        "colab_type": "text"
      },
      "source": [
        " **Extract Data**"
      ]
    },
    {
      "cell_type": "code",
      "metadata": {
        "id": "y7P2IEqInEMU",
        "colab_type": "code",
        "colab": {}
      },
      "source": [
        "import os.path\n",
        "import re\n",
        "source_code={15:'CWE15_ast',23:'CWE23_ast',36:'CWE36_ast',78:'CWE78_ast',80:'CWE80_ast',89:'CWE89_ast',90:'CWE90_ast',113:'CWE113_ast',134:'CWE134_ast',190:'CWE190_ast'}\n",
        "\n",
        "def eachFile(filepath):\n",
        "  pathDir =  os.listdir(filepath)\n",
        "  files = []\n",
        "  for allDir in pathDir:\n",
        "    child = os.path.join('%s/%s' % (filepath, allDir))\n",
        "    \n",
        "    files.append(child)\n",
        "  return files\n",
        "root_dir_ast = './AST/' # refer root dir\n",
        "files15 = eachFile(root_dir_ast+source_code[15])\n",
        "files23 = eachFile(root_dir_ast+source_code[23])\n",
        "files36 = eachFile(root_dir_ast+source_code[36])\n",
        "files78 = eachFile(root_dir_ast+source_code[78])\n",
        "files80 = eachFile(root_dir_ast+source_code[80])\n",
        "files89 = eachFile(root_dir_ast+source_code[89])\n",
        "files90 = eachFile(root_dir_ast+source_code[90])\n",
        "files113 = eachFile(root_dir_ast+source_code[113])\n",
        "files134 = eachFile(root_dir_ast+source_code[134])\n",
        "files190 = eachFile(root_dir_ast+source_code[190])\n",
        "files=files15[:700]+files23[:700]+files36[:700]+files78[:700]+files80[:700]+files89[:700]+files90[:700]+files113[:700]+files134[:700]+files190[:700]\n",
        "labels=[0]*700+[1]*700+[2]*700+[3]*700+[4]*700+[5]*700+[6]*700+[7]*700+[8]*700+[9]*700\n",
        "\n",
        "cfg={15:'CWE15_cfg',23:'CWE23_cfg',36:'CWE36_cfg',78:'CWE78_cfg',80:'CWE80_cfg',89:'CWE89_cfg',90:'CWE90_cfg',113:'CWE113_cfg',134:'CWE134_cfg',190:'CWE190_cfg'}\n",
        "\n",
        "root_dir_cfg = './CFG/' # refer root dir\n",
        "files15_cfg = eachFile(root_dir_cfg+cfg[15])\n",
        "files23_cfg = eachFile(root_dir_cfg+cfg[23])\n",
        "files36_cfg = eachFile(root_dir_cfg+cfg[36])\n",
        "files78_cfg = eachFile(root_dir_cfg+cfg[78])\n",
        "files80_cfg = eachFile(root_dir_cfg+cfg[80])\n",
        "files89_cfg = eachFile(root_dir_cfg+cfg[89])\n",
        "files90_cfg = eachFile(root_dir_cfg+cfg[90])\n",
        "files113_cfg = eachFile(root_dir_cfg+cfg[113])\n",
        "files134_cfg = eachFile(root_dir_cfg+cfg[134])\n",
        "files190_cfg = eachFile(root_dir_cfg+cfg[190])\n",
        "files_cfg=files15_cfg[:700]+files23_cfg[:700]+files36_cfg[:700]+files78_cfg[:700]+files80_cfg[:700]+files89_cfg[:700]+files90_cfg[:700]+files113_cfg[:700]+files134_cfg[:700]+files190_cfg[:700]\n",
        "\n",
        "labels_cfg=[0]*700+[1]*700+[2]*700+[3]*700+[4]*700+[5]*700+[6]*700+[7]*700+[8]*700+[9]*700"
      ],
      "execution_count": 0,
      "outputs": []
    },
    {
      "cell_type": "markdown",
      "metadata": {
        "id": "Rheu3lAE6kGp",
        "colab_type": "text"
      },
      "source": [
        " "
      ]
    },
    {
      "cell_type": "code",
      "metadata": {
        "id": "OcXR_6SmnNY5",
        "colab_type": "code",
        "outputId": "68d4f61a-0579-4298-c5bb-6b35665ccf0e",
        "colab": {
          "base_uri": "https://localhost:8080/",
          "height": 109
        }
      },
      "source": [
        "def extract_ast_edges(file):\n",
        "  results = []\n",
        "  with open(file, \"r\") as f:\n",
        "    for line in f.readlines()[2:]:\n",
        "      #print(line)\n",
        "      result = re.search(r'\\bn(\\w+)(\\s*)-(\\S+)(\\s*)n(\\w+)\\b',line)\n",
        "      if result != None:\n",
        "         results.append((result.group(1),result.group(5)))\n",
        "    return results\n",
        "def extract_source_code(file):\n",
        "  results = []\n",
        "  with open(file, \"r\") as f:\n",
        "    for line in f.readlines()[2:]:\n",
        "      #print(line)\n",
        "      result = re.search(r'\\b(n\\w+)(\\s+\\[label=\")([\\w:\\s\\S]+)\\b',line)\n",
        "      if result != None:\n",
        "         results.append(result.group(3))\n",
        "    return results\n",
        "print(extract_ast_edges(files[1]))\n",
        "print(extract_source_code(files[1]))\n",
        "\n",
        "def extract_cfg_edges(file):\n",
        "  results = []\n",
        "  with open(file, \"r\") as f:\n",
        "    for line in f.readlines()[2:]:\n",
        "      #print(line)\n",
        "      result = re.search(r'\\bv(\\w+)(\\s*)-(\\S+)(\\s*)v(\\w+)\\b',line)\n",
        "      if result != None:\n",
        "         results.append((result.group(1),result.group(5)))\n",
        "    return results\n",
        "def extract_cfg(file):\n",
        "  results = []\n",
        "  with open(file, \"r\") as f:\n",
        "    for line in f.readlines()[2:]:\n",
        "      #print(line)\n",
        "      result = re.search(r'\\b(v\\w+)(\\s+\\[label=\")([\\w:\\s\\S]+)\\b',line)\n",
        "      if result != None:\n",
        "         results.append(result.group(3))\n",
        "    return results\n",
        "print(extract_cfg_edges(files_cfg[0]))\n",
        "print(extract_cfg(files_cfg[0]))"
      ],
      "execution_count": 8,
      "outputs": [
        {
          "output_type": "stream",
          "text": [
            "[('1', '2'), ('1', '3'), ('3', '4'), ('3', '5'), ('3', '6'), ('3', '7'), ('1', '8'), ('8', '9'), ('8', '10'), ('8', '11'), ('8', '12'), ('12', '13'), ('12', '14'), ('12', '15'), ('12', '16'), ('16', '17'), ('17', '18'), ('17', '19'), ('12', '20'), ('20', '21'), ('21', '22'), ('21', '23'), ('21', '24'), ('20', '25'), ('25', '26'), ('26', '27'), ('26', '28'), ('25', '29'), ('29', '30'), ('29', '31'), ('29', '32'), ('32', '33'), ('25', '34'), ('34', '35'), ('35', '36'), ('36', '37'), ('37', '38'), ('37', '39'), ('39', '40'), ('35', '41'), ('41', '42'), ('41', '43'), ('41', '44'), ('44', '45')]\n",
            "['ROOT: CWE15_External_Control_of_System_or_Configuration_Setting__listen_tcp_81_bad.java', 'PACKAGE: testcases.CWE15_External_Control_of_System_or_Configuration_Setting', 'IMPORTS', 'IMPORT: testcasesupport', 'IMPORT: javax.servlet.http', 'IMPORT: java.sql', 'IMPORT: java.util.logging.Level', 'CLASS', 'MODIFIER: public', 'NAME: CWE15_External_Control_of_System_or_Configuration_Setting__listen_tcp_81_bad', 'EXTENDS: CWE15_External_Control_of_System_or_Configuration_Setting__listen_tcp_81_base', 'METHOD', 'MODIFIER: public', 'RETURN: void', 'NAME: action', 'PARAMS', 'VAR', 'TYPE: String', 'NAME: data', 'BLOCK', 'VAR', 'TYPE: Connection', 'NAME: dbConnection', 'INIT: = null', 'TRY', 'BLOCK', '36:  dbConnection = IO.getDBConnection', '40:  dbConnection.setCatalog(data', 'CATCH', 'TYPE: SQLException', 'NAME: exceptSql', 'BLOCK', \"44:  IO.logger.log(Level.WARNING, 'Error getting database connection', exceptSql\", 'FINALLY', 'TRY', 'BLOCK', 'IF', 'COND: dbConnection != null', 'THEN', '52:  dbConnection.close', 'CATCH', 'TYPE: SQLException', 'NAME: exceptSql', 'BLOCK', \"57:  IO.logger.log(Level.WARNING, 'Error closing Connection', exceptSql\"]\n",
            "[('1', '2'), ('2', '3'), ('3', '4'), ('4', '5'), ('5', '6'), ('6', '7'), ('7', '8'), ('8', '10'), ('10', '11'), ('11', '12'), ('12', '13'), ('13', '14'), ('14', '9'), ('9', '15'), ('15', '16'), ('16', '18'), ('18', '19'), ('19', '20'), ('18', '20'), ('20', '17'), ('17', '22'), ('22', '23'), ('23', '21'), ('21', '17'), ('17', '24'), ('24', '26'), ('26', '27'), ('27', '28'), ('26', '28'), ('28', '25'), ('25', '30'), ('30', '31'), ('31', '29'), ('29', '25'), ('25', '32'), ('32', '34'), ('34', '35'), ('35', '36'), ('34', '36'), ('36', '33'), ('33', '38'), ('38', '39'), ('39', '37'), ('37', '33'), ('33', '40'), ('40', '42'), ('42', '43'), ('43', '44'), ('42', '44'), ('44', '41'), ('41', '46'), ('46', '47'), ('47', '45'), ('45', '41'), ('41', '48'), ('9', '50'), ('50', '51'), ('51', '49'), ('49', '15'), ('48', '52'), ('52', '53'), ('53', '55'), ('55', '56'), ('56', '54'), ('54', '57'), ('57', '58'), ('58', '60'), ('60', '61'), ('61', '62'), ('60', '62'), ('62', '59'), ('59', '64'), ('64', '65'), ('65', '63'), ('63', '59'), ('59', '66'), ('54', '68'), ('68', '69'), ('69', '67'), ('67', '57'), ('70', '71'), ('72', '73'), ('73', '74'), ('74', '75'), ('75', '76'), ('76', '78'), ('78', '79'), ('79', '77'), ('77', '80'), ('80', '81'), ('81', '83'), ('83', '84'), ('84', '85'), ('83', '85'), ('85', '82'), ('82', '87'), ('87', '88'), ('88', '86'), ('86', '82'), ('82', '89'), ('77', '91'), ('91', '92'), ('92', '90'), ('90', '80'), ('93', '94')]\n",
            "['36:  void bad', '38:  String data', '40:  data', '44:  ServerSocket listener = null', '45:  Socket socket = null', '46:  BufferedReader readerBuffered = null', '47:  InputStreamReader readerInputStream = null', '50:  try', 'end-try', '52:  listener = new ServerSocket(39543', '53:  socket = listener.accept', \"57:  readerInputStream = new InputStreamReader(socket.getInputStream(), 'UTF-8\", '58:  readerBuffered = new BufferedReader(readerInputStream', '61:  data = readerBuffered.readLine', '67:  finally', '70:  try', 'end-try', '72:  if (readerBuffered != null', '74:  readerBuffered.close', 'endif', 'end-catch', '77:  catch (IOException exceptIO', \"79:  IO.logger.log(Level.WARNING, 'Error closing BufferedReader', exceptIO\", '82:  try', 'end-try', '84:  if (readerInputStream != null', '86:  readerInputStream.close', 'endif', 'end-catch', '89:  catch (IOException exceptIO', \"91:  IO.logger.log(Level.WARNING, 'Error closing InputStreamReader', exceptIO\", '95:  try', 'end-try', '97:  if (socket != null', '99:  socket.close', 'endif', 'end-catch', '102:  catch (IOException exceptIO', \"104:  IO.logger.log(Level.WARNING, 'Error closing Socket', exceptIO\", '107:  try', 'end-try', '109:  if (listener != null', '111:  listener.close', 'endif', 'end-catch', '114:  catch (IOException exceptIO', \"116:  IO.logger.log(Level.WARNING, 'Error closing ServerSocket', exceptIO\", 'end-finally', 'end-catch', '63:  catch (IOException exceptIO', \"65:  IO.logger.log(Level.WARNING, 'Error with stream reading', exceptIO\", '121:  Connection dbConnection = null', '123:  try', 'end-try', '125:  dbConnection = IO.getDBConnection', '129:  dbConnection.setCatalog(data', '135:  finally', '137:  try', 'end-try', '139:  if (dbConnection != null', '141:  dbConnection.close', 'endif', 'end-catch', '144:  catch (SQLException exceptSql', \"146:  IO.logger.log(Level.WARNING, 'Error closing Connection', exceptSql\", 'end-finally', 'end-catch', '131:  catch (SQLException exceptSql', \"133:  IO.logger.log(Level.WARNING, 'Error getting database connection', exceptSql\", '152:  void good', '154:  goodG2B', '158:  void goodG2B', '160:  String data', \"163:  data = 'foo\", '165:  Connection dbConnection = null', '167:  try', 'end-try', '169:  dbConnection = IO.getDBConnection', '173:  dbConnection.setCatalog(data', '179:  finally', '181:  try', 'end-try', '183:  if (dbConnection != null', '185:  dbConnection.close', 'endif', 'end-catch', '188:  catch (SQLException exceptSql', \"190:  IO.logger.log(Level.WARNING, 'Error closing Connection', exceptSql\", 'end-finally', 'end-catch', '175:  catch (SQLException exceptSql', \"177:  IO.logger.log(Level.WARNING, 'Error getting database connection', exceptSql\", '201:  void main(String[] args', '204:  mainFromParent(args', 'True', 'False', 'Throws', 'True', 'False', 'Throws', 'True', 'False', 'Throws', 'True', 'False', 'Throws', 'Throws', 'True', 'False', 'Throws', 'Throws', 'True', 'False', 'Throws', 'Throws']\n"
          ],
          "name": "stdout"
        }
      ]
    },
    {
      "cell_type": "code",
      "metadata": {
        "id": "HjY0xGf-o07a",
        "colab_type": "code",
        "outputId": "8684c8f8-1b1c-4baf-f1a0-c00dd751ed43",
        "colab": {
          "base_uri": "https://localhost:8080/",
          "height": 217
        }
      },
      "source": [
        "re_punctuation_string = '[()\\s,/.\\'_:]'\n",
        "remove_token=['',' ',',',':','\\n',';']\n",
        "\n",
        "programs=[]\n",
        "edges=[]\n",
        "vocabulary = []\n",
        "for f in files:\n",
        "  lines = extract_source_code(f)\n",
        "  edge_list= extract_ast_edges(f)\n",
        "  edges.append(edge_list)\n",
        "  program=[]\n",
        "  for line in lines:\n",
        "    statement=[token for token in re.split(re_punctuation_string,line)if token not in remove_token]\n",
        "    program.append(statement)\n",
        "  programs.append(program[2:])\n",
        "  for s in program[2:]:\n",
        "        for t in s:\n",
        "           if t not in vocabulary:\n",
        "             vocabulary.append(t) \n",
        "print(programs[1])\n",
        "print(edges[0])\n",
        "print(len(programs))\n",
        "print(len(edges))\n",
        "print(len(vocabulary))\n",
        "\n",
        "programs_cfg=[]\n",
        "edges_cfg=[]\n",
        "vocabulary_cfg = []\n",
        "for f in files_cfg:\n",
        "  lines_cfg = extract_cfg(f)\n",
        "  edge_list_cfg= extract_cfg_edges(f)\n",
        "  edges_cfg.append(edge_list_cfg)\n",
        "  program_cfg=[]\n",
        "  for line in lines_cfg:\n",
        "    statement=[token for token in re.split(re_punctuation_string,line)if token not in remove_token]\n",
        "    program_cfg.append(statement)\n",
        "  programs_cfg.append(program_cfg[2:])\n",
        "  for s in program_cfg[2:]:\n",
        "        for t in s:\n",
        "           if t not in vocabulary_cfg:\n",
        "             vocabulary_cfg.append(t) \n",
        "print(programs_cfg[1])\n",
        "print(edges_cfg[1])\n",
        "print(len(programs_cfg))\n",
        "print(len(vocabulary_cfg))\n",
        "print('IMPORT' in vocabulary_cfg)"
      ],
      "execution_count": 9,
      "outputs": [
        {
          "output_type": "stream",
          "text": [
            "[['IMPORTS'], ['IMPORT', 'testcasesupport'], ['IMPORT', 'javax', 'servlet', 'http'], ['IMPORT', 'java', 'sql'], ['IMPORT', 'java', 'util', 'logging', 'Level'], ['CLASS'], ['MODIFIER', 'public'], ['NAME', 'CWE15', 'External', 'Control', 'of', 'System', 'or', 'Configuration', 'Setting', 'listen', 'tcp', '81', 'bad'], ['EXTENDS', 'CWE15', 'External', 'Control', 'of', 'System', 'or', 'Configuration', 'Setting', 'listen', 'tcp', '81', 'base'], ['METHOD'], ['MODIFIER', 'public'], ['RETURN', 'void'], ['NAME', 'action'], ['PARAMS'], ['VAR'], ['TYPE', 'String'], ['NAME', 'data'], ['BLOCK'], ['VAR'], ['TYPE', 'Connection'], ['NAME', 'dbConnection'], ['INIT', '=', 'null'], ['TRY'], ['BLOCK'], ['36', 'dbConnection', '=', 'IO', 'getDBConnection'], ['40', 'dbConnection', 'setCatalog', 'data'], ['CATCH'], ['TYPE', 'SQLException'], ['NAME', 'exceptSql'], ['BLOCK'], ['44', 'IO', 'logger', 'log', 'Level', 'WARNING', 'Error', 'getting', 'database', 'connection', 'exceptSql'], ['FINALLY'], ['TRY'], ['BLOCK'], ['IF'], ['COND', 'dbConnection', '!=', 'null'], ['THEN'], ['52', 'dbConnection', 'close'], ['CATCH'], ['TYPE', 'SQLException'], ['NAME', 'exceptSql'], ['BLOCK'], ['57', 'IO', 'logger', 'log', 'Level', 'WARNING', 'Error', 'closing', 'Connection', 'exceptSql']]\n",
            "[('1', '2'), ('1', '3'), ('3', '4'), ('3', '5'), ('3', '6'), ('3', '7'), ('3', '8'), ('3', '9'), ('3', '10'), ('1', '11'), ('11', '12'), ('11', '13'), ('11', '14'), ('11', '15'), ('15', '16'), ('15', '17'), ('15', '18'), ('15', '19'), ('19', '20'), ('20', '21'), ('20', '22'), ('19', '23'), ('23', '24'), ('23', '25'), ('25', '26'), ('25', '27'), ('27', '28'), ('27', '29'), ('27', '30'), ('25', '31'), ('31', '32'), ('31', '33'), ('31', '34'), ('25', '35'), ('35', '36'), ('36', '37'), ('36', '38'), ('36', '39'), ('35', '40'), ('40', '41'), ('40', '42'), ('40', '43'), ('43', '44'), ('35', '45'), ('45', '46'), ('46', '47'), ('47', '48'), ('48', '49'), ('48', '50'), ('50', '51'), ('46', '52'), ('52', '53'), ('52', '54'), ('52', '55'), ('55', '56'), ('23', '57'), ('57', '58'), ('19', '59'), ('59', '60'), ('59', '61'), ('59', '62'), ('19', '63'), ('63', '64'), ('64', '65'), ('64', '66'), ('63', '67'), ('67', '68'), ('67', '69'), ('67', '70'), ('70', '71'), ('63', '72'), ('72', '73'), ('73', '74'), ('74', '75'), ('75', '76'), ('75', '77'), ('77', '78'), ('73', '79'), ('79', '80'), ('79', '81'), ('79', '82'), ('82', '83'), ('11', '84'), ('84', '85'), ('84', '86'), ('84', '87'), ('84', '88'), ('88', '89'), ('89', '90'), ('89', '91'), ('88', '92'), ('92', '93'), ('92', '94'), ('94', '95'), ('92', '96'), ('96', '97'), ('88', '98'), ('98', '99'), ('98', '100'), ('98', '101'), ('88', '102'), ('102', '103'), ('103', '104'), ('103', '105'), ('102', '106'), ('106', '107'), ('106', '108'), ('106', '109'), ('109', '110'), ('102', '111'), ('111', '112'), ('112', '113'), ('113', '114'), ('114', '115'), ('114', '116'), ('116', '117'), ('112', '118'), ('118', '119'), ('118', '120'), ('118', '121'), ('121', '122'), ('11', '123'), ('123', '124'), ('123', '125'), ('123', '126'), ('123', '127'), ('127', '128'), ('128', '129'), ('128', '130'), ('127', '131'), ('131', '132'), ('131', '133'), ('133', '134'), ('131', '135'), ('135', '136'), ('127', '137'), ('137', '138'), ('137', '139'), ('137', '140'), ('127', '141'), ('141', '142'), ('142', '143'), ('142', '144'), ('141', '145'), ('145', '146'), ('145', '147'), ('145', '148'), ('148', '149'), ('141', '150'), ('150', '151'), ('151', '152'), ('152', '153'), ('153', '154'), ('153', '155'), ('155', '156'), ('151', '157'), ('157', '158'), ('157', '159'), ('157', '160'), ('160', '161'), ('11', '162'), ('162', '163'), ('162', '164'), ('162', '165'), ('162', '166'), ('166', '167'), ('166', '168'), ('11', '169'), ('169', '170'), ('169', '171'), ('169', '172'), ('169', '173'), ('173', '174'), ('174', '175'), ('174', '176'), ('169', '177'), ('177', '178')]\n",
            "7000\n",
            "7000\n",
            "1716\n",
            "[['31', 'void', 'goodG2BSink', 'String', 'data', 'HttpServletRequest', 'request', 'HttpServletResponse', 'response'], ['33', 'new', 'CWE15', 'External', 'Control', 'of', 'System', 'or', 'Configuration', 'Setting', 'getCookies', 'Servlet', '53d', 'goodG2BSink', 'data', 'request', 'response']]\n",
            "[('1', '2'), ('3', '4')]\n",
            "7000\n",
            "1762\n",
            "False\n"
          ],
          "name": "stdout"
        }
      ]
    },
    {
      "cell_type": "code",
      "metadata": {
        "id": "MFwzkd_IpFcM",
        "colab_type": "code",
        "outputId": "134b0a8c-9e32-498c-eb3b-0b02746940f2",
        "colab": {
          "base_uri": "https://localhost:8080/",
          "height": 109
        }
      },
      "source": [
        "# shuffle data\n",
        "import random\n",
        "randnum = random.randint(0,100)\n",
        "random.seed(randnum)\n",
        "random.shuffle(programs)\n",
        "\n",
        "random.seed(randnum)\n",
        "random.shuffle(labels)\n",
        "\n",
        "random.seed(randnum)\n",
        "random.shuffle(edges)\n",
        "\n",
        "training_data = []\n",
        "for i in range(5000):\n",
        "  #training_data.append((programs[i],edges[i],labels[i]))\n",
        "  training_data.append((programs[i],labels[i]))\n",
        "print(training_data[0])\n",
        "eval_data=[]\n",
        "for i in range(5000,7000):\n",
        "  #eval_data.append((programs[i],edges[i],labels[i]))\n",
        "  eval_data.append((programs[i],labels[i]))\n",
        "print(eval_data[0])\n",
        "\n",
        "random.seed(randnum)\n",
        "random.shuffle(programs_cfg)\n",
        "\n",
        "random.seed(randnum)\n",
        "random.shuffle(labels_cfg)\n",
        "\n",
        "random.seed(randnum)\n",
        "random.shuffle(edges_cfg)\n",
        "\n",
        "training_data_cfg = []\n",
        "for i in range(5000):\n",
        "  training_data_cfg.append((programs_cfg[i],labels_cfg[i]))\n",
        "print(training_data_cfg[0])\n",
        "eval_data_cfg=[]\n",
        "for i in range(5000,7000):\n",
        "  #eval_data.append((programs[i],edges[i],labels[i]))\n",
        "  eval_data_cfg.append((programs_cfg[i],labels_cfg[i]))\n",
        "print(eval_data_cfg[0])\n",
        "\n",
        "print(labels[:10])\n",
        "print(labels_cfg[:10])"
      ],
      "execution_count": 10,
      "outputs": [
        {
          "output_type": "stream",
          "text": [
            "([['IMPORTS'], ['IMPORT', 'testcasesupport'], ['IMPORT', 'java', 'util', 'HashMap'], ['IMPORT', 'javax', 'servlet', 'http'], ['CLASS'], ['MODIFIER', 'public'], ['NAME', 'CWE15', 'External', 'Control', 'of', 'System', 'or', 'Configuration', 'Setting', 'getCookies', 'Servlet', '74a'], ['EXTENDS', 'AbstractTestCaseServlet'], ['METHOD'], ['MODIFIER', 'public'], ['RETURN', 'void'], ['NAME', 'bad'], ['PARAMS'], ['VAR'], ['TYPE', 'HttpServletRequest'], ['NAME', 'request'], ['VAR'], ['TYPE', 'HttpServletResponse'], ['NAME', 'response'], ['BLOCK'], ['VAR'], ['TYPE', 'String'], ['NAME', 'data'], ['31', 'data'], ['VAR'], ['TYPE', 'Cookie'], ['NAME', 'cookieSources'], ['INIT', '=', 'request', 'getCookies'], ['IF'], ['COND', 'cookieSources', '!=', 'null'], ['THEN'], ['39', 'data', '=', 'cookieSources[0]', 'getValue'], ['VAR'], ['TYPE', 'HashMap<Integer', 'String'], ['NAME', 'dataHashMap'], ['INIT', '=', 'new', 'HashMap<Integer', 'String'], ['44', 'dataHashMap', 'put', '0', 'data'], ['45', 'dataHashMap', 'put', '1', 'data'], ['46', 'dataHashMap', 'put', '2', 'data'], ['47', 'new', 'CWE15', 'External', 'Control', 'of', 'System', 'or', 'Configuration', 'Setting', 'getCookies', 'Servlet', '74b', 'badSink', 'dataHashMap', 'request', 'response'], ['METHOD'], ['MODIFIER', 'public'], ['RETURN', 'void'], ['NAME', 'good'], ['PARAMS'], ['VAR'], ['TYPE', 'HttpServletRequest'], ['NAME', 'request'], ['VAR'], ['TYPE', 'HttpServletResponse'], ['NAME', 'response'], ['BLOCK'], ['52', 'goodG2B', 'request', 'response'], ['METHOD'], ['MODIFIER', 'private'], ['RETURN', 'void'], ['NAME', 'goodG2B'], ['PARAMS'], ['VAR'], ['TYPE', 'HttpServletRequest'], ['NAME', 'request'], ['VAR'], ['TYPE', 'HttpServletResponse'], ['NAME', 'response'], ['BLOCK'], ['VAR'], ['TYPE', 'String'], ['NAME', 'data'], ['61', 'data', '=', 'foo'], ['VAR'], ['TYPE', 'HashMap<Integer', 'String'], ['NAME', 'dataHashMap'], ['INIT', '=', 'new', 'HashMap<Integer', 'String'], ['64', 'dataHashMap', 'put', '0', 'data'], ['65', 'dataHashMap', 'put', '1', 'data'], ['66', 'dataHashMap', 'put', '2', 'data'], ['67', 'new', 'CWE15', 'External', 'Control', 'of', 'System', 'or', 'Configuration', 'Setting', 'getCookies', 'Servlet', '74b', 'goodG2BSink', 'dataHashMap', 'request', 'response'], ['METHOD'], ['MODIFIER', 'public', 'static'], ['RETURN', 'void'], ['NAME', 'main'], ['PARAMS'], ['VAR'], ['TYPE', 'String'], ['NAME', 'args'], ['BLOCK'], ['78', 'mainFromParent', 'args']], 0)\n",
            "([['IMPORTS'], ['IMPORT', 'testcasesupport'], ['IMPORT', 'javax', 'servlet', 'http'], ['IMPORT', 'java', 'sql', 'Connection'], ['IMPORT', 'java', 'sql', 'PreparedStatement'], ['IMPORT', 'java', 'sql', 'ResultSet'], ['IMPORT', 'java', 'sql', 'SQLException'], ['IMPORT', 'java', 'util', 'logging', 'Level'], ['CLASS'], ['MODIFIER', 'public'], ['NAME', 'CWE113', 'HTTP', 'Response', 'Splitting', 'database', 'setHeaderServlet', '61b'], ['METHOD'], ['MODIFIER', 'public'], ['RETURN', 'String'], ['NAME', 'badSource'], ['PARAMS'], ['VAR'], ['TYPE', 'HttpServletRequest'], ['NAME', 'request'], ['VAR'], ['TYPE', 'HttpServletResponse'], ['NAME', 'response'], ['BLOCK'], ['VAR'], ['TYPE', 'String'], ['NAME', 'data'], ['36', 'data'], ['VAR'], ['TYPE', 'Connection'], ['NAME', 'connection'], ['INIT', '=', 'null'], ['VAR'], ['TYPE', 'PreparedStatement'], ['NAME', 'preparedStatement'], ['INIT', '=', 'null'], ['VAR'], ['TYPE', 'ResultSet'], ['NAME', 'resultSet'], ['INIT', '=', 'null'], ['TRY'], ['BLOCK'], ['47', 'connection', '=', 'IO', 'getDBConnection'], ['50', 'preparedStatement', '=', 'connection', 'prepareStatement', 'select', 'name', 'from', 'users', 'where', 'id=0'], ['51', 'resultSet', '=', 'preparedStatement', 'executeQuery'], ['54', 'data', '=', 'resultSet', 'getString', '1'], ['CATCH'], ['TYPE', 'SQLException'], ['NAME', 'exceptSql'], ['BLOCK'], ['58', 'IO', 'logger', 'log', 'Level', 'WARNING', 'Error', 'with', 'SQL', 'statement', 'exceptSql'], ['FINALLY'], ['TRY'], ['BLOCK'], ['IF'], ['COND', 'resultSet', '!=', 'null'], ['THEN'], ['67', 'resultSet', 'close'], ['CATCH'], ['TYPE', 'SQLException'], ['NAME', 'exceptSql'], ['BLOCK'], ['72', 'IO', 'logger', 'log', 'Level', 'WARNING', 'Error', 'closing', 'ResultSet', 'exceptSql'], ['TRY'], ['BLOCK'], ['IF'], ['COND', 'preparedStatement', '!=', 'null'], ['THEN'], ['79', 'preparedStatement', 'close'], ['CATCH'], ['TYPE', 'SQLException'], ['NAME', 'exceptSql'], ['BLOCK'], ['84', 'IO', 'logger', 'log', 'Level', 'WARNING', 'Error', 'closing', 'PreparedStatement', 'exceptSql'], ['TRY'], ['BLOCK'], ['IF'], ['COND', 'connection', '!=', 'null'], ['THEN'], ['91', 'connection', 'close'], ['CATCH'], ['TYPE', 'SQLException'], ['NAME', 'exceptSql'], ['BLOCK'], ['96', 'IO', 'logger', 'log', 'Level', 'WARNING', 'Error', 'closing', 'Connection', 'exceptSql'], ['101', 'return', 'data'], ['METHOD'], ['MODIFIER', 'public'], ['RETURN', 'String'], ['NAME', 'goodG2BSource'], ['PARAMS'], ['VAR'], ['TYPE', 'HttpServletRequest'], ['NAME', 'request'], ['VAR'], ['TYPE', 'HttpServletResponse'], ['NAME', 'response'], ['BLOCK'], ['VAR'], ['TYPE', 'String'], ['NAME', 'data'], ['110', 'data', '=', 'foo'], ['112', 'return', 'data'], ['METHOD'], ['MODIFIER', 'public'], ['RETURN', 'String'], ['NAME', 'goodB2GSource'], ['PARAMS'], ['VAR'], ['TYPE', 'HttpServletRequest'], ['NAME', 'request'], ['VAR'], ['TYPE', 'HttpServletResponse'], ['NAME', 'response'], ['BLOCK'], ['VAR'], ['TYPE', 'String'], ['NAME', 'data'], ['120', 'data'], ['VAR'], ['TYPE', 'Connection'], ['NAME', 'connection'], ['INIT', '=', 'null'], ['VAR'], ['TYPE', 'PreparedStatement'], ['NAME', 'preparedStatement'], ['INIT', '=', 'null'], ['VAR'], ['TYPE', 'ResultSet'], ['NAME', 'resultSet'], ['INIT', '=', 'null'], ['TRY'], ['BLOCK'], ['131', 'connection', '=', 'IO', 'getDBConnection'], ['134', 'preparedStatement', '=', 'connection', 'prepareStatement', 'select', 'name', 'from', 'users', 'where', 'id=0'], ['135', 'resultSet', '=', 'preparedStatement', 'executeQuery'], ['138', 'data', '=', 'resultSet', 'getString', '1'], ['CATCH'], ['TYPE', 'SQLException'], ['NAME', 'exceptSql'], ['BLOCK'], ['142', 'IO', 'logger', 'log', 'Level', 'WARNING', 'Error', 'with', 'SQL', 'statement', 'exceptSql'], ['FINALLY'], ['TRY'], ['BLOCK'], ['IF'], ['COND', 'resultSet', '!=', 'null'], ['THEN'], ['151', 'resultSet', 'close'], ['CATCH'], ['TYPE', 'SQLException'], ['NAME', 'exceptSql'], ['BLOCK'], ['156', 'IO', 'logger', 'log', 'Level', 'WARNING', 'Error', 'closing', 'ResultSet', 'exceptSql'], ['TRY'], ['BLOCK'], ['IF'], ['COND', 'preparedStatement', '!=', 'null'], ['THEN'], ['163', 'preparedStatement', 'close'], ['CATCH'], ['TYPE', 'SQLException'], ['NAME', 'exceptSql'], ['BLOCK'], ['168', 'IO', 'logger', 'log', 'Level', 'WARNING', 'Error', 'closing', 'PreparedStatement', 'exceptSql'], ['TRY'], ['BLOCK'], ['IF'], ['COND', 'connection', '!=', 'null'], ['THEN'], ['175', 'connection', 'close'], ['CATCH'], ['TYPE', 'SQLException'], ['NAME', 'exceptSql'], ['BLOCK'], ['180', 'IO', 'logger', 'log', 'Level', 'WARNING', 'Error', 'closing', 'Connection', 'exceptSql'], ['185', 'return', 'data']], 7)\n",
            "([['33', 'Connection', 'dbConnection', '=', 'null'], ['35', 'try'], ['end-try'], ['37', 'dbConnection', '=', 'IO', 'getDBConnection'], ['41', 'dbConnection', 'setCatalog', 'data'], ['47', 'finally'], ['49', 'try'], ['end-try'], ['51', 'if', 'dbConnection', '!=', 'null'], ['53', 'dbConnection', 'close'], ['endif'], ['end-catch'], ['56', 'catch', 'SQLException', 'exceptSql'], ['58', 'IO', 'logger', 'log', 'Level', 'WARNING', 'Error', 'closing', 'Connection', 'exceptSql'], ['end-finally'], ['end-catch'], ['43', 'catch', 'SQLException', 'exceptSql'], ['45', 'IO', 'logger', 'log', 'Level', 'WARNING', 'Error', 'getting', 'database', 'connection', 'exceptSql'], ['65', 'void', 'goodG2BSink', 'Object', 'dataObject', 'HttpServletRequest', 'request', 'HttpServletResponse', 'response'], ['67', 'String', 'data', '=', 'String', 'dataObject'], ['69', 'Connection', 'dbConnection', '=', 'null'], ['71', 'try'], ['end-try'], ['73', 'dbConnection', '=', 'IO', 'getDBConnection'], ['77', 'dbConnection', 'setCatalog', 'data'], ['83', 'finally'], ['85', 'try'], ['end-try'], ['87', 'if', 'dbConnection', '!=', 'null'], ['89', 'dbConnection', 'close'], ['endif'], ['end-catch'], ['92', 'catch', 'SQLException', 'exceptSql'], ['94', 'IO', 'logger', 'log', 'Level', 'WARNING', 'Error', 'closing', 'Connection', 'exceptSql'], ['end-finally'], ['end-catch'], ['79', 'catch', 'SQLException', 'exceptSql'], ['81', 'IO', 'logger', 'log', 'Level', 'WARNING', 'Error', 'getting', 'database', 'connection', 'exceptSql'], ['True'], ['False'], ['Throws'], ['Throws'], ['True'], ['False'], ['Throws'], ['Throws']], 0)\n",
            "([['33', 'response', 'addHeader', 'Location', 'author', 'jsp?lang=', '+', 'data'], ['endif'], ['39', 'void', 'goodG2BSink', 'String', 'data', 'HttpServletRequest', 'request', 'HttpServletResponse', 'response'], ['43', 'if', 'data', '!=', 'null'], ['45', 'response', 'addHeader', 'Location', 'author', 'jsp?lang=', '+', 'data'], ['endif'], ['51', 'void', 'goodB2GSink', 'String', 'data', 'HttpServletRequest', 'request', 'HttpServletResponse', 'response'], ['55', 'if', 'data', '!=', 'null'], ['57', 'data', '=', 'URLEncoder', 'encode', 'data', 'UTF-8'], ['58', 'response', 'addHeader', 'Location', 'author', 'jsp?lang=', '+', 'data'], ['endif'], ['True'], ['False'], ['True'], ['False'], ['True'], ['False']], 7)\n"
          ],
          "name": "stdout"
        }
      ]
    },
    {
      "cell_type": "code",
      "metadata": {
        "id": "g89CvmCu5w5F",
        "colab_type": "code",
        "outputId": "14f21c30-cfa0-4429-9fc0-06645738b62a",
        "colab": {
          "base_uri": "https://localhost:8080/",
          "height": 35
        }
      },
      "source": [
        "import torch\n",
        "import torch.nn as nn\n",
        "import torch.nn.functional as F\n",
        "import torch.optim as optim\n",
        "#look up table  \n",
        "vocabulary_size = len(vocabulary)\n",
        "def look_up_table(word_idx):\n",
        "  x = torch.zeros(vocabulary_size).long()\n",
        "  x[word_idx] = 1.0\n",
        "  return x\n",
        "word2idx = {w: idx +1 for (idx, w) in enumerate(vocabulary)}\n",
        "idx2word = {idx+1: w for (idx, w) in enumerate(vocabulary)}\n",
        "print(look_up_table(word2idx['!=']))\n",
        "\n",
        "vocabulary_size_cfg = len(vocabulary_cfg)\n",
        "word2idx_cfg = {w: idx +1 for (idx, w) in enumerate(vocabulary_cfg)}\n",
        "idx2word_cfg = {idx+1: w for (idx, w) in enumerate(vocabulary_cfg)}"
      ],
      "execution_count": 11,
      "outputs": [
        {
          "output_type": "stream",
          "text": [
            "tensor([0, 0, 0,  ..., 0, 0, 0])\n"
          ],
          "name": "stdout"
        }
      ]
    },
    {
      "cell_type": "code",
      "metadata": {
        "id": "_XPFvpyve2Zz",
        "colab_type": "code",
        "colab": {}
      },
      "source": [
        "def predict_label(out):\n",
        "  max = 0.1\n",
        "  label = -1\n",
        "  for i in range(10):\n",
        "    if(out[i]>max):\n",
        "      max = out[i]\n",
        "      label = i\n",
        "  return label"
      ],
      "execution_count": 0,
      "outputs": []
    },
    {
      "cell_type": "markdown",
      "metadata": {
        "id": "OIhizRn3Ai1V",
        "colab_type": "text"
      },
      "source": [
        "**AST Embedding**"
      ]
    },
    {
      "cell_type": "code",
      "metadata": {
        "id": "XC3vZVKwx4Ix",
        "colab_type": "code",
        "colab": {}
      },
      "source": [
        "\n",
        "context_size = 100\n",
        "\n",
        "def get_childs(id,edge):\n",
        "  #print(edge)\n",
        "  #print(id)\n",
        "  childs=[]\n",
        "  for (str_id,str_child) in edge:\n",
        "    str2int_id= int(str_id)-3\n",
        "    str2int_child = int(str_child)-3\n",
        "    if id == str2int_id:\n",
        "      if str2int_child<context_size:\n",
        "        childs.append(str2int_child)\n",
        "  return childs\n",
        "\n",
        "alpha= 0.2\n",
        "def ast_mordified(contexts,id,program,edge):\n",
        "  childs = get_childs(id,edge) #[0,1,2,..]\n",
        "  \n",
        "  contexts_childs =torch.zeros(1).long()\n",
        "  for child in childs:\n",
        "    p = program[child]\n",
        "    num = 0\n",
        "    contexts_child =torch.zeros(1).long()\n",
        "    for t in p:\n",
        "      contexts_child=contexts_child+word2idx[t]\n",
        "      num=num+1\n",
        "    contexts_childs=contexts_childs+ (contexts_child/num)\n",
        "  if len(childs)>0:\n",
        "    result=contexts+((contexts_childs)/len(childs))*alpha\n",
        "  else:\n",
        "    result = contexts\n",
        "  return result\n",
        "\n",
        "\n",
        "\n",
        "def get_ast_context(program,edge):\n",
        "  id = 0\n",
        "  contexts =torch.zeros(context_size,1).long()\n",
        "\n",
        "  for p in program:\n",
        "    if id < context_size:\n",
        "      num = 0\n",
        "      for t in p:\n",
        "        contexts[id]=contexts[id]+word2idx[t]\n",
        "        num = num + 1\n",
        "      contexts[id] = contexts[id]/num # average\n",
        "      contexts[id] = ast_mordified(contexts[id],id,program,edge)\n",
        "    id = id + 1\n",
        "  return contexts\n",
        "def get_source_context(program):\n",
        "  id = 0\n",
        "  contexts =torch.zeros(context_size,1).long()\n",
        "\n",
        "  for p in program:\n",
        "    if id < context_size:\n",
        "      num = 0\n",
        "      for t in p:\n",
        "        contexts[id]=contexts[id]+word2idx[t]\n",
        "        num = num + 1\n",
        "      contexts[id] = contexts[id]/num # average\n",
        "    id = id + 1\n",
        "  return contexts\n"
      ],
      "execution_count": 0,
      "outputs": []
    },
    {
      "cell_type": "code",
      "metadata": {
        "id": "zvKoRsTFyWFi",
        "colab_type": "code",
        "colab": {}
      },
      "source": [
        "\n",
        "torch.manual_seed(1)\n",
        "embedding_dim =10\n",
        "\n",
        "class FFNN(nn.Module):\n",
        "  def __init__(self, vocab_size, embedding_dim):\n",
        "    super(FFNN, self).__init__()\n",
        "    self.embeddings = nn.Embedding(vocab_size, embedding_dim)\n",
        "    self.linear1 = nn.Linear(embedding_dim*context_size,10)\n",
        "  def forward(self, inputs):\n",
        "    #print(inputs.size())\n",
        "    embeds = self.embeddings(inputs.view(-1))\n",
        "    #print(embeds)\n",
        "    out = F.relu(self.linear1(embeds.view(-1)))\n",
        "    out = F.softmax(out,dim=0)\n",
        "    return out\n",
        "\n"
      ],
      "execution_count": 0,
      "outputs": []
    },
    {
      "cell_type": "code",
      "metadata": {
        "id": "3gbcB6bTyYeA",
        "colab_type": "code",
        "outputId": "9776893a-f495-4045-a5bd-2d70d4df8052",
        "colab": {
          "base_uri": "https://localhost:8080/",
          "height": 413
        }
      },
      "source": [
        "\n",
        "loss_function = nn.BCELoss()  \n",
        "model_ast = FFNN(vocabulary_size*2, embedding_dim)\n",
        "optimizer_ffnn = optim.SGD(model_ast.parameters(), lr=0.01)\n",
        "params = sum(p.numel() for p in model_ast.parameters() if p.requires_grad)\n",
        "print(\"Total number of parameters for FFNN is: {}\".format(params))\n",
        "\n",
        "loss_ast=[]\n",
        "for epoch in range(20):\n",
        "  losses = 0\n",
        "  pid=0\n",
        "  #for program,edge,label in training_data:\n",
        "  for program,label in training_data:  \n",
        "    if label ==0:\n",
        "      out_labels = torch.FloatTensor([1,0,0,0,0,0,0,0,0,0])\n",
        "    elif label == 1:\n",
        "      out_labels  = torch.FloatTensor([0,1,0,0,0,0,0,0,0,0])\n",
        "    elif label == 2:\n",
        "      out_labels  = torch.FloatTensor([0,0,1,0,0,0,0,0,0,0])\n",
        "    elif label == 3:\n",
        "      out_labels  = torch.FloatTensor([0,0,0,1,0,0,0,0,0,0])\n",
        "    elif label == 4:\n",
        "      out_labels  = torch.FloatTensor([0,0,0,0,1,0,0,0,0,0])\n",
        "    elif label == 5:\n",
        "      out_labels  = torch.FloatTensor([0,0,0,0,0,1,0,0,0,0])\n",
        "    elif label == 6:\n",
        "      out_labels  = torch.FloatTensor([0,0,0,0,0,0,1,0,0,0])\n",
        "    elif label == 7:\n",
        "      out_labels  = torch.FloatTensor([0,0,0,0,0,0,0,1,0,0])\n",
        "    elif label == 8:\n",
        "      out_labels  = torch.FloatTensor([0,0,0,0,0,0,0,0,1,0])\n",
        "    elif label == 9:\n",
        "      out_labels  = torch.FloatTensor([0,0,0,0,0,0,0,0,0,1])\n",
        "\n",
        "    context_idx = get_ast_context(program,edges[pid])\n",
        "    pid = pid +1\n",
        "    #context_idx = get_source_context(program)\n",
        "    model_ast.zero_grad()\n",
        "    #print(context_idx.size())\n",
        "    out = model_ast(context_idx)\n",
        "    #print(out.size())\n",
        "    #print(f'Out {out},lables{out_labels}')\n",
        "    #print(out_labels)\n",
        "    loss = loss_function(out, out_labels)\n",
        "    #print(f'Loss {loss.item()}')\n",
        "    loss.backward()\n",
        "    optimizer_ffnn.step()\n",
        "    #print(f'Loss {loss.item()}')\n",
        "    losses +=loss.item()\n",
        "  print(f'Loss at epo {epoch}: {losses/len(training_data)}')\n",
        "  loss_ast.append(losses/len(training_data))\n",
        " \n",
        "\n",
        "with torch.no_grad():\n",
        "  accu=0\n",
        "  pid=5000\n",
        "  for program, label in eval_data:\n",
        "    context_idx = get_ast_context(program,edges[pid])\n",
        "    pid = pid+1\n",
        "    model_ast.zero_grad()\n",
        "    out = model_ast(context_idx)\n",
        "    #print(f'{out}:{label}')\n",
        "    if(predict_label(out)==label):\n",
        "      accu = accu + 1\n",
        "    \n",
        "  print(f'Accuracy_ast: {accu/(len(eval_data))}')\n",
        "#  print(f'Precision_ffnn: {pre}')\n",
        "#  print(f'Recall_ffnn: {re}')\n",
        "#  print(f'F1_ffnn: {2*(pre*re/(pre+re))}') "
      ],
      "execution_count": 80,
      "outputs": [
        {
          "output_type": "stream",
          "text": [
            "Total number of parameters for FFNN is: 44330\n",
            "Loss at epo 0: 0.19221281559355557\n",
            "Loss at epo 1: 0.10132688541068928\n",
            "Loss at epo 2: 0.07970196954043932\n",
            "Loss at epo 3: 0.0684167716311611\n",
            "Loss at epo 4: 0.06116314613668801\n",
            "Loss at epo 5: 0.055911381973091555\n",
            "Loss at epo 6: 0.051846841731925816\n",
            "Loss at epo 7: 0.048587991000962935\n",
            "Loss at epo 8: 0.04588225614456396\n",
            "Loss at epo 9: 0.04357743799170853\n",
            "Loss at epo 10: 0.041585269443331845\n",
            "Loss at epo 11: 0.03983190533713048\n",
            "Loss at epo 12: 0.03827149021304606\n",
            "Loss at epo 13: 0.036875134007074074\n",
            "Loss at epo 14: 0.035612534190041595\n",
            "Loss at epo 15: 0.03446320618376235\n",
            "Loss at epo 16: 0.0334088166189656\n",
            "Loss at epo 17: 0.03244208895533021\n",
            "Loss at epo 18: 0.03154819834528486\n",
            "Loss at epo 19: 0.030719647205578376\n",
            "Accuracy_ast: 0.789\n"
          ],
          "name": "stdout"
        }
      ]
    },
    {
      "cell_type": "code",
      "metadata": {
        "id": "zw-0OoDdgL9A",
        "colab_type": "code",
        "colab": {
          "base_uri": "https://localhost:8080/",
          "height": 35
        },
        "outputId": "6a6e533a-abb5-4bf8-89ae-b64638bc7ae1"
      },
      "source": [
        "with torch.no_grad():\n",
        "  accu=0\n",
        "  pid=5000\n",
        "  for program, label in eval_data:\n",
        "    context_idx = get_ast_context(program,edges[pid])\n",
        "    pid = pid+1\n",
        "    model_ast.zero_grad()\n",
        "    out = model_ast(context_idx)\n",
        "    #print(f'{out}:{label}')\n",
        "    if(predict_label(out)==label):\n",
        "      accu = accu + 1\n",
        "print(f'Accuracy_ast: {accu/(len(eval_data))}')"
      ],
      "execution_count": 89,
      "outputs": [
        {
          "output_type": "stream",
          "text": [
            "Accuracy_ast: 0.8165\n"
          ],
          "name": "stdout"
        }
      ]
    },
    {
      "cell_type": "markdown",
      "metadata": {
        "id": "k1YiCyP4SayP",
        "colab_type": "text"
      },
      "source": [
        "Source code"
      ]
    },
    {
      "cell_type": "code",
      "metadata": {
        "id": "lL3KlCi_R6MB",
        "colab_type": "code",
        "colab": {}
      },
      "source": [
        "torch.manual_seed(1)\n",
        "loss_function_sr = nn.BCELoss()\n",
        "model_sc = FFNN(vocabulary_size, embedding_dim)\n",
        "optimizer_sr = optim.SGD(model_sc.parameters(), lr=0.01)\n",
        "params = sum(p.numel() for p in model_sc.parameters() if p.requires_grad)\n",
        "print(\"Total number of parameters for FFNN is: {}\".format(params))\n",
        "\n",
        "loss_sr=[]\n",
        "for epoch in range(20):\n",
        "  losses_sr = 0\n",
        "  for program, label in training_data:\n",
        "    if label ==0:\n",
        "      out_labels_sr = torch.FloatTensor([1,0,0,0,0,0,0,0,0,0])\n",
        "    elif label == 1:\n",
        "      out_labels_sr  = torch.FloatTensor([0,1,0,0,0,0,0,0,0,0])\n",
        "    elif label == 2:\n",
        "      out_labels_sr  = torch.FloatTensor([0,0,1,0,0,0,0,0,0,0])\n",
        "    elif label == 3:\n",
        "      out_labels_sr  = torch.FloatTensor([0,0,0,1,0,0,0,0,0,0])\n",
        "    elif label == 4:\n",
        "      out_labels_sr  = torch.FloatTensor([0,0,0,0,1,0,0,0,0,0])\n",
        "    elif label == 5:\n",
        "      out_labels_sr  = torch.FloatTensor([0,0,0,0,0,1,0,0,0,0])\n",
        "    elif label == 6:\n",
        "      out_labels_sr  = torch.FloatTensor([0,0,0,0,0,0,1,0,0,0])\n",
        "    elif label == 7:\n",
        "      out_labels_sr  = torch.FloatTensor([0,0,0,0,0,0,0,1,0,0])\n",
        "    elif label == 8:\n",
        "      out_labels_sr  = torch.FloatTensor([0,0,0,0,0,0,0,0,1,0])\n",
        "    elif label == 9:\n",
        "      out_labels_sr  = torch.FloatTensor([0,0,0,0,0,0,0,0,0,1])\n",
        "\n",
        "    context_idx = get_source_context(program)\n",
        "    model_sc.zero_grad()\n",
        "    out_sr = model_sc(context_idx)\n",
        "    #print(out.size())\n",
        "    #print(f'Out {out},lables{out_labels}')\n",
        "    #print(out_labels)\n",
        "    loss = loss_function_sr(out_sr, out_labels_sr )\n",
        "    #print(f'Loss {loss.item()}')\n",
        "    loss.backward()\n",
        "    optimizer_sr.step()\n",
        "    #print(f'Loss {loss.item()}')\n",
        "    losses_sr +=loss.item()\n",
        "  print(f'Loss at epo {epoch}: {losses_sr/len(training_data)}')\n",
        "  loss_sr.append(losses_sr/len(training_data))\n",
        "\n",
        "with torch.no_grad():\n",
        "  accu=0\n",
        "  for program, label in eval_data:\n",
        "    context_idx = get_source_context(program)\n",
        "    model_sc.zero_grad()\n",
        "    out = model_sc(context_idx)\n",
        "    if(predict_label(out)==label):\n",
        "      accu = accu + 1\n",
        "\n",
        "  print(f'Accuracy_source_code: {accu/(len(eval_data))}') \n",
        "#  print(f'Precision_ffnn: {pre}')\n",
        "#  print(f'Recall_ffnn: {re}')\n",
        "#  print(f'F1_ffnn: {2*(pre*re/(pre+re))}')"
      ],
      "execution_count": 0,
      "outputs": []
    },
    {
      "cell_type": "markdown",
      "metadata": {
        "id": "8YAnfMCIrAh0",
        "colab_type": "text"
      },
      "source": [
        "CFG embedding"
      ]
    },
    {
      "cell_type": "code",
      "metadata": {
        "id": "tBmvpU9mrvYj",
        "colab_type": "code",
        "colab": {}
      },
      "source": [
        "\n",
        "context_size_cfg = 100\n",
        "\n",
        "def get_childs_cfg(id,edge):\n",
        "  #print(edge)\n",
        "  #print(id)\n",
        "  childs=[]\n",
        "  for (str_id,str_child) in edge:\n",
        "    str2int_id= int(str_id)-1\n",
        "    str2int_child = int(str_child)-1\n",
        "    if id == str2int_id:\n",
        "      if str2int_child<context_size_cfg:\n",
        "        childs.append(str2int_child)\n",
        "  #print(childs)\n",
        "  return childs\n",
        "\n",
        "alpha_cfg= 0.5\n",
        "def cfg_mordified(contexts,id,program,edge):\n",
        "  childs = get_childs_cfg(id,edge) #[0,1,2,..]\n",
        "  #print(id)\n",
        "  #print(edge)\n",
        "  contexts_childs =torch.zeros(1).long()\n",
        "  for child in childs:\n",
        "    if(child < len(program)):\n",
        "      p = program[child]\n",
        "      num = 0\n",
        "      contexts_child =torch.zeros(1).long()\n",
        "      for t in p:\n",
        "        contexts_child=contexts_child+word2idx_cfg[t]\n",
        "        num=num+1\n",
        "      contexts_childs=contexts_childs+ (contexts_child/num)\n",
        "  if len(childs)>0:\n",
        "    result=contexts+((contexts_childs)/len(childs))*alpha\n",
        "  else:\n",
        "    result = contexts\n",
        "  return result\n",
        "\n",
        "def get_cfg_context(program,edge):\n",
        "  id = 0\n",
        "  contexts =torch.zeros(context_size_cfg,1).long()\n",
        "\n",
        "  for p in program:\n",
        "    if id < context_size_cfg:\n",
        "      num = 0\n",
        "      for t in p:\n",
        "        contexts[id]=contexts[id]+word2idx_cfg[t]\n",
        "        num = num + 1\n",
        "      contexts[id] = contexts[id]/num # average\n",
        "      contexts[id] = cfg_mordified(contexts[id],id,program,edge)\n",
        "    id = id + 1\n",
        "  return contexts"
      ],
      "execution_count": 0,
      "outputs": []
    },
    {
      "cell_type": "code",
      "metadata": {
        "id": "ArFOQbI6r3M6",
        "colab_type": "code",
        "outputId": "45262ce8-1803-430d-b6bd-5e0870fd195a",
        "colab": {
          "base_uri": "https://localhost:8080/",
          "height": 413
        }
      },
      "source": [
        "torch.manual_seed(1)\n",
        "embedding_dim =10\n",
        "\n",
        "class FFNN(nn.Module):\n",
        "  def __init__(self, vocab_size, embedding_dim):\n",
        "    super(FFNN, self).__init__()\n",
        "    self.embeddings = nn.Embedding(vocab_size, embedding_dim)\n",
        "    self.linear1 = nn.Linear(embedding_dim*context_size_cfg,10)\n",
        "  def forward(self, inputs):\n",
        "    #print(inputs.size())\n",
        "    embeds = self.embeddings(inputs.view(-1))\n",
        "    #print(embeds)\n",
        "    out = F.relu(self.linear1(embeds.view(-1)))\n",
        "    out = F.softmax(out,dim=0)\n",
        "    return out\n",
        "\n",
        "loss_function_cfg = nn.BCELoss()  \n",
        "model_cfg = FFNN(vocabulary_size_cfg*2, embedding_dim)\n",
        "optimizer_cfg = optim.SGD(model_cfg.parameters(), lr=0.01)\n",
        "params = sum(p.numel() for p in model_cfg.parameters() if p.requires_grad)\n",
        "print(\"Total number of parameters for FFNN is: {}\".format(params))\n",
        "\n",
        "loss_cfg=[]\n",
        "for epoch in range(20):\n",
        "  losses = 0\n",
        "  pid=0\n",
        "  #for program,edge,label in training_data:\n",
        "  for program,label in training_data_cfg:  \n",
        "    if label ==0:\n",
        "      out_labels = torch.FloatTensor([1,0,0,0,0,0,0,0,0,0])\n",
        "    elif label == 1:\n",
        "      out_labels  = torch.FloatTensor([0,1,0,0,0,0,0,0,0,0])\n",
        "    elif label == 2:\n",
        "      out_labels  = torch.FloatTensor([0,0,1,0,0,0,0,0,0,0])\n",
        "    elif label == 3:\n",
        "      out_labels  = torch.FloatTensor([0,0,0,1,0,0,0,0,0,0])\n",
        "    elif label == 4:\n",
        "      out_labels  = torch.FloatTensor([0,0,0,0,1,0,0,0,0,0])\n",
        "    elif label == 5:\n",
        "      out_labels  = torch.FloatTensor([0,0,0,0,0,1,0,0,0,0])\n",
        "    elif label == 6:\n",
        "      out_labels  = torch.FloatTensor([0,0,0,0,0,0,1,0,0,0])\n",
        "    elif label == 7:\n",
        "      out_labels  = torch.FloatTensor([0,0,0,0,0,0,0,1,0,0])\n",
        "    elif label == 8:\n",
        "      out_labels  = torch.FloatTensor([0,0,0,0,0,0,0,0,1,0])\n",
        "    elif label == 9:\n",
        "      out_labels  = torch.FloatTensor([0,0,0,0,0,0,0,0,0,1])\n",
        "    context_idx = get_cfg_context(program,edges_cfg[pid])\n",
        "    pid = pid +1\n",
        "    #context_idx = get_source_context(program)\n",
        "    model_cfg.zero_grad()\n",
        "    #print(context_idx.size())\n",
        "    out = model_cfg(context_idx)\n",
        "    #print(out.size())\n",
        "    #print(f'Out {out},lables{out_labels}')\n",
        "    #print(out_labels)\n",
        "    loss = loss_function_cfg(out, out_labels)\n",
        "    #print(f'Loss {loss.item()}')\n",
        "    loss.backward()\n",
        "    optimizer_cfg.step()\n",
        "    #print(f'Loss {loss.item()}')\n",
        "    losses +=loss.item()\n",
        "  print(f'Loss at epo {epoch}: {losses/len(training_data)}')\n",
        "  loss_cfg.append(losses/len(training_data))\n",
        "\n",
        "with torch.no_grad():\n",
        "  accu=0\n",
        "  pid=5000\n",
        "  for program, label in eval_data_cfg:\n",
        "    context_idx = get_cfg_context(program,edges_cfg[pid])\n",
        "    pid = pid+1\n",
        "    model_cfg.zero_grad()\n",
        "    out = model_cfg(context_idx)\n",
        "    #print(f'{out}:{label}')\n",
        "    if(predict_label(out)==label):\n",
        "      accu = accu + 1\n",
        "\n",
        "  print(f'Accuracy_cfg: {accu/(len(eval_data_cfg))}') \n",
        "#  print(f'Precision_ffnn: {pre}')\n",
        "#  print(f'Recall_ffnn: {re}')\n",
        "#  print(f'F1_ffnn: {2*(pre*re/(pre+re))}')"
      ],
      "execution_count": 110,
      "outputs": [
        {
          "output_type": "stream",
          "text": [
            "Total number of parameters for FFNN is: 45250\n",
            "Loss at epo 0: 0.2685997251055669\n",
            "Loss at epo 1: 0.19719116063342662\n",
            "Loss at epo 2: 0.16795625496541616\n",
            "Loss at epo 3: 0.15338951049064925\n",
            "Loss at epo 4: 0.14439071596124414\n",
            "Loss at epo 5: 0.13784467371137435\n",
            "Loss at epo 6: 0.1328684139878598\n",
            "Loss at epo 7: 0.12912080167054665\n",
            "Loss at epo 8: 0.12614530327349566\n",
            "Loss at epo 9: 0.12354227817563569\n",
            "Loss at epo 10: 0.12136311701877948\n",
            "Loss at epo 11: 0.11949343103859701\n",
            "Loss at epo 12: 0.11785697487738034\n",
            "Loss at epo 13: 0.11643057292960353\n",
            "Loss at epo 14: 0.11511393557063002\n",
            "Loss at epo 15: 0.11392898312073682\n",
            "Loss at epo 16: 0.11289999202964478\n",
            "Loss at epo 17: 0.1119282534779756\n",
            "Loss at epo 18: 0.11109800787046811\n",
            "Loss at epo 19: 0.11018967235018425\n",
            "Accuracy_cfg: 0.601\n"
          ],
          "name": "stdout"
        }
      ]
    },
    {
      "cell_type": "code",
      "metadata": {
        "id": "6lRNmmkLSqY1",
        "colab_type": "code",
        "outputId": "418aa3fc-d8db-48e3-b59c-339896779790",
        "colab": {
          "base_uri": "https://localhost:8080/",
          "height": 281
        }
      },
      "source": [
        "\n",
        "import matplotlib.pyplot as plt\n",
        "plt.plot(list(range(0, len(loss_ast))), loss_ast, label='AST')\n",
        "plt.plot(list(range(0, len(loss_sr))), loss_sr, label='Source code')\n",
        "plt.plot(list(range(0, len(loss_cfg))), loss_cfg, label='CFG')\n",
        "plt.legend()\n",
        "plt.title('Train Losses')\n",
        "plt.show()"
      ],
      "execution_count": 112,
      "outputs": [
        {
          "output_type": "display_data",
          "data": {
            "image/png": "[encoded data removed]",
            "text/plain": [
              "<Figure size 432x288 with 1 Axes>"
            ]
          },
          "metadata": {
            "tags": [],
            "needs_background": "light"
          }
        }
      ]
    },
    {
      "cell_type": "code",
      "metadata": {
        "id": "H7C6btDR5Q5z",
        "colab_type": "code",
        "colab": {
          "base_uri": "https://localhost:8080/",
          "height": 71
        },
        "outputId": "39b1bea8-bdc6-456c-bcc6-6003c625812d"
      },
      "source": [
        "num=[0,0,0,0,0,0,0,0,0,0]\n",
        "print(labels[:10])\n",
        "print(labels_cfg[:10])\n",
        "for _, label in eval_data_cfg:\n",
        "  num[label] = num[label]+1\n",
        "print(num)\n"
      ],
      "execution_count": 62,
      "outputs": [
        {
          "output_type": "stream",
          "text": [
            "[0, 2, 9, 5, 1, 8, 1, 8, 1, 7]\n",
            "[0, 2, 9, 5, 1, 8, 1, 8, 1, 7]\n",
            "[196, 210, 204, 200, 189, 200, 189, 204, 202, 206]\n"
          ],
          "name": "stdout"
        }
      ]
    },
    {
      "cell_type": "code",
      "metadata": {
        "id": "3Xt7qHdNVWpV",
        "colab_type": "code",
        "colab": {}
      },
      "source": [
        ""
      ],
      "execution_count": 0,
      "outputs": []
    },
    {
      "cell_type": "code",
      "metadata": {
        "id": "fi_b8QKT5HGM",
        "colab_type": "code",
        "colab": {
          "base_uri": "https://localhost:8080/",
          "height": 215
        },
        "outputId": "e1b5a166-7cf4-416c-9875-24d58b1ffa7a"
      },
      "source": [
        "correct_cfg=[0,0,0,0,0,0,0,0,0,0]\n",
        "with torch.no_grad():\n",
        "  pid=5000\n",
        "  for program, label in eval_data_cfg:\n",
        "    context_idx = get_cfg_context(program,edges_cfg[pid])\n",
        "    pid = pid+1\n",
        "    model_cfg.zero_grad()\n",
        "    out = model_cfg(context_idx)\n",
        "    #print(f'{out}:{label}')\n",
        "    if(predict_label(out)==label):\n",
        "      correct_cfg[label]= correct_cfg[label]+1\n",
        "print(sum(correct_cfg)/len(eval_data_cfg))\n",
        "for i in range(10):\n",
        "  print(f'CFG_label{i}:Accuracy {correct_cfg[i]/num[i]}')"
      ],
      "execution_count": 111,
      "outputs": [
        {
          "output_type": "stream",
          "text": [
            "0.601\n",
            "CFG_label0:Accuracy 0.5051020408163265\n",
            "CFG_label1:Accuracy 0.5761904761904761\n",
            "CFG_label2:Accuracy 0.5490196078431373\n",
            "CFG_label3:Accuracy 0.555\n",
            "CFG_label4:Accuracy 0.7037037037037037\n",
            "CFG_label5:Accuracy 0.78\n",
            "CFG_label6:Accuracy 0.544973544973545\n",
            "CFG_label7:Accuracy 0.6617647058823529\n",
            "CFG_label8:Accuracy 0.3564356435643564\n",
            "CFG_label9:Accuracy 0.7766990291262136\n"
          ],
          "name": "stdout"
        }
      ]
    },
    {
      "cell_type": "code",
      "metadata": {
        "id": "hOjrdzqW-MXP",
        "colab_type": "code",
        "colab": {
          "base_uri": "https://localhost:8080/",
          "height": 215
        },
        "outputId": "0f8cd5be-e56e-4a92-eff1-4756656efe01"
      },
      "source": [
        "\n",
        "correct_ast=[0,0,0,0,0,0,0,0,0,0]\n",
        "predict_7=[]\n",
        "with torch.no_grad():\n",
        "  pid=5000\n",
        "  for program, label in eval_data:\n",
        "    context_idx = get_ast_context(program,edges[pid])\n",
        "    pid = pid+1\n",
        "    model_ast.zero_grad()\n",
        "    out = model_ast(context_idx)\n",
        "    #print(f'{out}:{label}')\n",
        "    if(predict_label(out)==label):\n",
        "      correct_ast[label]= correct_ast[label]+1\n",
        "    #if(label==7):\n",
        "      #print(f'{out}:{predict(out)}')\n",
        "     # predict_7.append(predict(out))\n",
        "\n",
        "print(sum(correct_ast)/len(eval_data))\n",
        "for i in range(10):\n",
        "  print(f'AST_label{i}:Accuracy {correct_ast[i]/num[i]}')\n",
        "#print(predict_7)"
      ],
      "execution_count": 96,
      "outputs": [
        {
          "output_type": "stream",
          "text": [
            "0.8165\n",
            "AST_label0:Accuracy 0.826530612244898\n",
            "AST_label1:Accuracy 0.6666666666666666\n",
            "AST_label2:Accuracy 0.7352941176470589\n",
            "AST_label3:Accuracy 0.705\n",
            "AST_label4:Accuracy 0.8571428571428571\n",
            "AST_label5:Accuracy 0.94\n",
            "AST_label6:Accuracy 0.656084656084656\n",
            "AST_label7:Accuracy 0.8382352941176471\n",
            "AST_label8:Accuracy 0.9801980198019802\n",
            "AST_label9:Accuracy 0.9563106796116505\n"
          ],
          "name": "stdout"
        }
      ]
    },
    {
      "cell_type": "code",
      "metadata": {
        "id": "0yXAc8-X_eVs",
        "colab_type": "code",
        "colab": {
          "base_uri": "https://localhost:8080/",
          "height": 215
        },
        "outputId": "6aa6461b-60f0-4560-e045-8b2925763fbd"
      },
      "source": [
        "\n",
        "correct_sc=[0,0,0,0,0,0,0,0,0,0]\n",
        "with torch.no_grad():\n",
        "  pid=5000\n",
        "  for program, label in eval_data:\n",
        "    context_idx = get_source_context(program)\n",
        "    pid = pid+1\n",
        "    model_sc.zero_grad()\n",
        "    out = model_sc(context_idx)\n",
        "    #print(f'{out}:{label}')\n",
        "    if(predict_label(out)==label):\n",
        "      correct_sc[label]= correct_sc[label]+1\n",
        "print(sum(correct_sc)/len(eval_data))\n",
        "for i in range(10):\n",
        "  print(f'SC_label{i}:Accuracy {correct_sc[i]/num[i]}')"
      ],
      "execution_count": 98,
      "outputs": [
        {
          "output_type": "stream",
          "text": [
            "0.7795\n",
            "SC_label0:Accuracy 0.6479591836734694\n",
            "SC_label1:Accuracy 0.5904761904761905\n",
            "SC_label2:Accuracy 0.7401960784313726\n",
            "SC_label3:Accuracy 0.625\n",
            "SC_label4:Accuracy 0.8624338624338624\n",
            "SC_label5:Accuracy 0.795\n",
            "SC_label6:Accuracy 0.6613756613756614\n",
            "SC_label7:Accuracy 0.946078431372549\n",
            "SC_label8:Accuracy 0.995049504950495\n",
            "SC_label9:Accuracy 0.9271844660194175\n"
          ],
          "name": "stdout"
        }
      ]
    }
  ]
}